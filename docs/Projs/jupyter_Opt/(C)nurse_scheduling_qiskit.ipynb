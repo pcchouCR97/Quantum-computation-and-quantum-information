{
 "cells": [
  {
   "cell_type": "markdown",
   "metadata": {},
   "source": [
    "# Nurse Scheduling Problem Using Qiskit"
   ]
  },
  {
   "cell_type": "markdown",
   "metadata": {},
   "source": [
    "<div style=\"text-align: center\">\n",
    "    <img src = \"../../Images_Opt/close-up-medical-team-ready-work.jpg\" alt=\"close-up-medical-team-ready-work\" \n",
    "    style=\"width: 450px; height: 300px;\">\n",
    "    <p style=\"font-size: 16px; font-style: italic; color: gray; margin-top: 5px;\">\n",
    "    </p>\n",
    "</div>\n",
    "\n",
    "Pic: [freepik](https://www.freepik.com/free-photo/close-up-medical-team-ready-work_19868049.htm#from_element=detail_alsolike)"
   ]
  },
  {
   "cell_type": "markdown",
   "metadata": {},
   "source": [
    "<div style=\"display: flex; justify-content: center; gap: 20px;\">\n",
    "    <img src=\"../../Images_Opt/cplex.png\" \n",
    "         alt=\"cplex\" \n",
    "         style=\"width: 225px; height: 150px;\">\n",
    "    <img src=\"../../Images_Opt/NumPyMinimumEigensolver.png\" \n",
    "         alt=\"NumPyMinimumEigensolver\" \n",
    "         style=\"width: 225px; height: 150px;\">\n",
    "    <img src=\"../../Images_Opt/QAOA.png\" \n",
    "         alt=\"QAOA\" \n",
    "         style=\"width: 225px; height: 150px;\">\n",
    "</div>"
   ]
  },
  {
   "cell_type": "markdown",
   "metadata": {},
   "source": [
    "## Introduction"
   ]
  },
  {
   "cell_type": "markdown",
   "metadata": {},
   "source": [
    "The **Nurse Scheduling Problem (NSP)** involves creating fair and efficient work schedules while meeting hospital demands, legal constraints, and nurse preferences. It balances staffing needs with employee well-being to ensure quality patient care. Solving NSP efficiently reduces burnout, improves job satisfaction, and enhances overall healthcare system performance and efficiency."
   ]
  },
  {
   "cell_type": "markdown",
   "metadata": {},
   "source": [
    "## Method"
   ]
  },
  {
   "cell_type": "markdown",
   "metadata": {},
   "source": [
    "### Objective function"
   ]
  },
  {
   "cell_type": "markdown",
   "metadata": {},
   "source": [
    "In the **Nurse Scheduling Problem (NSP)**, we define a binary variable $x_{n,d} \\in \\{0,1\\}$ for every possible nurse scheduling scenario, where:\n",
    "\n",
    "*   $n$ represents each nurse, where $n \\in \\{1, \\dots, N\\}$.\n",
    "*   $d$ represents the day a nurse is scheduled to be on duty, where $d \\in \\{1, \\dots, D\\}$.\n",
    "\n",
    "The problem can be formulated as the following optimization problem:\n",
    "$$\n",
    "\\min \\sum_{n=1}^{N} \\sum_{d=1}^{D} x_{n,d}\n",
    "$$\n",
    "However, this objective function is not in quadratic form. To ensure that the workload is evenly distributed among nurses, we introduce a **penalty term** $\\frac{D}{N}$ to encourage a balanced assignment. Thus, we redefine our objective function as:\n",
    "$$\n",
    "\\min \\sum_{n=1}^{N} \\left( \\sum_{d=1}^{D} x_{n,d} - \\frac{D}{N} \\right)^{2}\n",
    "$$\n",
    "This quadratic formulation ensures that each nurse has a workload close to $\\frac{D}{N}$, promoting fairness in day assignments."
   ]
  },
  {
   "cell_type": "markdown",
   "metadata": {},
   "source": [
    "### Constraint\n"
   ]
  },
  {
   "cell_type": "markdown",
   "metadata": {},
   "source": [
    "\n",
    "Then we have to impose constraints to ensure a feasible schedule. \n",
    "1.  Nurse constraint (Hard constraint): Each day must have at least one nurse working. We can have  \n",
    "    $$\n",
    "    \\sum_{n}^{D} x_{n,d} \\geq 1, \\ n\\in \\{1,\\cdots,N\\}, \\ d\\in \\{1,\\cdots,D\\}\n",
    "    $$\n",
    "2.  Day constraint (Soft Constraint): No nurse should work two or more consecutive days\n",
    "    $$\n",
    "    x_{n,d} + x_{n, d+1} \\leq 1, \\ n\\in \\{1,\\cdots,N\\}, \\ d\\in \\{1,\\cdots,D\\}\n",
    "    $$\n",
    "3.  Workload (Soft constraint): define average workload as $D/N$ and apply it as a penalty term to make our problem a quadratic problem."
   ]
  },
  {
   "cell_type": "markdown",
   "metadata": {},
   "source": [
    "The final form of our **Nurse Scheduling Problem (NSP)** probelm can be represented as \n",
    "$$\n",
    "\\begin{array}{ll}\n",
    "\\text{minimize} & \\sum_{n=1}^{N}\\bigg( \\sum_{d=1}^{D} x_{n,d} - \\frac{D}{N} \\bigg)^{2}\\\\\n",
    "\\text{subject to} & \\sum_{n}^{D} x_{n,d} \\geq 1, \\forall \\ N, \\forall \\ D\\\\\n",
    "& x_{n,d} + x_{n, d+1} \\leq 1, \\forall \\ N, \\forall \\ D\\\\\n",
    "\\end{array}\n",
    "$$"
   ]
  },
  {
   "cell_type": "markdown",
   "metadata": {},
   "source": [
    "## Python Workflow  \n",
    "\n",
    "Here's our workflow to solve the **Nurse Scheduling Problem (NSP)**. To better demonstrate how to apply the **quantum algorithm (QAOA)** and compare it with the exact solver and classical solver in **DOcplex**, we will simplify our problem and only consider a **1-shift scenario, 2 nurses, and 4 days**. The workflow of this notebook is as follows:  \n",
    "\n",
    "1. Construct a **Cplex** model for the NSP.  \n",
    "    *   Solve it using the **Cplex solver**.  \n",
    "2. Using **Qiskit** fto solve NSP.\n",
    "    *   Convert the **Cplex** model into a **Qiskit quadratic problem** using the `from_docplex_mp` class from `qiskit_optimization.translators`.  \n",
    "    *   Ensure the problem is in **QUBO format** using the `QuadraticProgramToQubo` class from `qiskit_optimization.converters`.  \n",
    "    *   Solve the QUBO using the exact solver `NumPyMinimumEigensolver` from `qiskit_algorithms`.  \n",
    "    *   Solve the QUBO using the **quantum algorithm** with `QAOA` from `qiskit_algorithms`.  \n"
   ]
  },
  {
   "cell_type": "markdown",
   "metadata": {},
   "source": [
    "## Construct a Cplex model for the NSP.  "
   ]
  },
  {
   "cell_type": "code",
   "execution_count": 1,
   "metadata": {},
   "outputs": [],
   "source": [
    "from docplex.mp.model import Model\n",
    "from qiskit_optimization import QuadraticProgram\n",
    "from qiskit_optimization.algorithms import MinimumEigenOptimizer\n",
    "from qiskit_optimization.translators import from_docplex_mp\n",
    "from qiskit.primitives import Sampler\n",
    "import numpy as np"
   ]
  },
  {
   "cell_type": "code",
   "execution_count": null,
   "metadata": {},
   "outputs": [],
   "source": [
    "# Create model\n",
    "mdl = Model(\"nurse_scheduling\")\n",
    "\n",
    "# Define problem parameters\n",
    "num_nurses = 2\n",
    "num_days = 4"
   ]
  },
  {
   "cell_type": "code",
   "execution_count": 3,
   "metadata": {},
   "outputs": [],
   "source": [
    "# Create binary variables for each nurse and day \n",
    "x = {(n,d): mdl.binary_var(name = f\"x_{n}_{d}\") for n in range(num_nurses) for d in range(num_days)}\n",
    "#print(x)"
   ]
  },
  {
   "cell_type": "code",
   "execution_count": 4,
   "metadata": {},
   "outputs": [],
   "source": [
    "# Hard Constraint: Each day must have at least one nurse working\n",
    "for d in range(num_days):\n",
    "    mdl.add_constraint(mdl.sum(x[n, d] for n in range(num_nurses)) >= 1, f\"daily_coverage_{d}\")"
   ]
  },
  {
   "cell_type": "code",
   "execution_count": 5,
   "metadata": {},
   "outputs": [],
   "source": [
    "# Soft Constraint: No nurse should work two or more consecutive days\n",
    "for n in range(num_nurses):\n",
    "    for d in range(num_days-1):\n",
    "        mdl.add_constraint(mdl.sum(x[n, d] + x[n, d+1]) <= 1, f\"consecutive_days_{n}_{d}\")"
   ]
  },
  {
   "cell_type": "code",
   "execution_count": 6,
   "metadata": {},
   "outputs": [],
   "source": [
    "# Soft Constraint: Balance workload among nurses (minimize variance)\n",
    "avg_workload = num_days / num_nurses\n",
    "workload = {n: mdl.sum(x[n, d] for d in range(num_days)) for n in range(num_nurses)}"
   ]
  },
  {
   "cell_type": "code",
   "execution_count": 7,
   "metadata": {},
   "outputs": [],
   "source": [
    "# Define our objective function\n",
    "mdl.minimize(mdl.sum((workload[n] - avg_workload) ** 2 for n in range(num_nurses)))"
   ]
  },
  {
   "cell_type": "markdown",
   "metadata": {},
   "source": [
    "### Solve it using the **Cplex solver**.  "
   ]
  },
  {
   "cell_type": "code",
   "execution_count": 8,
   "metadata": {},
   "outputs": [
    {
     "name": "stdout",
     "output_type": "stream",
     "text": [
      "Optimal Schedule:\n",
      "Nurse 0: Works on days [0, 2]\n",
      "Nurse 1: Works on days [1, 3]\n"
     ]
    }
   ],
   "source": [
    "# Solve the model\n",
    "solution = mdl.solve()\n",
    "\n",
    "schedule_list = []\n",
    "# Print results\n",
    "if solution:\n",
    "    print(\"Optimal Schedule:\")\n",
    "    for n in range(num_nurses):\n",
    "        assigned_days = [d for d in range(num_days) if x[n, d].solution_value > 0.5]\n",
    "        print(f\"Nurse {n}: Works on days {assigned_days}\")\n",
    "        # Store the (nurse, assigned_day) pairs as tuples\n",
    "        for day in assigned_days:\n",
    "            schedule_list.append((n, day))\n",
    "else:\n",
    "    print(\"No feasible solution found.\")\n"
   ]
  },
  {
   "cell_type": "code",
   "execution_count": null,
   "metadata": {},
   "outputs": [
    {
     "data": {
      "image/png": "[encoded data removed]",
      "text/plain": [
       "<Figure size 400x300 with 1 Axes>"
      ]
     },
     "metadata": {},
     "output_type": "display_data"
    }
   ],
   "source": [
    "import matplotlib.pyplot as plt\n",
    "import numpy as np\n",
    "\n",
    "# Given list of tuples (nurse, day)\n",
    "data = schedule_list #[(0, 0), (0, 2), (1, 1), (1, 3)]\n",
    "\n",
    "# Create a grid (default: 0 for no shift)\n",
    "schedule_grid = np.zeros((num_nurses, num_days))\n",
    "\n",
    "# Fill the grid (1 for assigned shifts)\n",
    "for nurse, day in data:\n",
    "    schedule_grid[nurse, day] = 1  # Mark assigned shifts\n",
    "\n",
    "# Plot the grid\n",
    "fig, ax = plt.subplots(figsize=(4, 3))\n",
    "ax.imshow(schedule_grid, cmap=\"Greys\", aspect=\"auto\")\n",
    "\n",
    "# Add labels\n",
    "ax.set_xticks(np.arange(num_days))\n",
    "ax.set_yticks(np.arange(num_nurses))\n",
    "ax.set_xticklabels([f\"Day {i}\" for i in range(num_days)])\n",
    "ax.set_yticklabels([f\"Nurse {i}\" for i in range(num_nurses)])\n",
    "\n",
    "plt.title(\"Nurse Scheduling (Cplex)\")\n",
    "plt.show()\n"
   ]
  },
  {
   "cell_type": "markdown",
   "metadata": {},
   "source": [
    "## Using Qiskit fto solve NSP."
   ]
  },
  {
   "cell_type": "markdown",
   "metadata": {},
   "source": [
    "### Convert the Cplex model into a Qiskit quadratic problem"
   ]
  },
  {
   "cell_type": "code",
   "execution_count": 10,
   "metadata": {},
   "outputs": [],
   "source": [
    "# Load qiskit modules\n",
    "from qiskit_optimization.converters import QuadraticProgramToQubo\n",
    "from qiskit_algorithms import QAOA, NumPyMinimumEigensolver\n",
    "from qiskit_algorithms.optimizers import COBYLA\n",
    "from qiskit_algorithms.utils import algorithm_globals\n",
    "algorithm_globals.random_seed = 12345"
   ]
  },
  {
   "cell_type": "code",
   "execution_count": 11,
   "metadata": {},
   "outputs": [
    {
     "name": "stdout",
     "output_type": "stream",
     "text": [
      "<class 'qiskit_optimization.problems.quadratic_program.QuadraticProgram'>\n",
      "\n",
      "Problem name: nurse_scheduling\n",
      "\n",
      "Minimize\n",
      "  x_0_0^2 + 2*x_0_0*x_0_1 + 2*x_0_0*x_0_2 + 2*x_0_0*x_0_3 + x_0_1^2\n",
      "  + 2*x_0_1*x_0_2 + 2*x_0_1*x_0_3 + x_0_2^2 + 2*x_0_2*x_0_3 + x_0_3^2 + x_1_0^2\n",
      "  + 2*x_1_0*x_1_1 + 2*x_1_0*x_1_2 + 2*x_1_0*x_1_3 + x_1_1^2 + 2*x_1_1*x_1_2\n",
      "  + 2*x_1_1*x_1_3 + x_1_2^2 + 2*x_1_2*x_1_3 + x_1_3^2 - 4*x_0_0 - 4*x_0_1\n",
      "  - 4*x_0_2 - 4*x_0_3 - 4*x_1_0 - 4*x_1_1 - 4*x_1_2 - 4*x_1_3 + 8\n",
      "\n",
      "Subject to\n",
      "  Linear constraints (10)\n",
      "    x_0_0 + x_1_0 >= 1  'daily_coverage_0'\n",
      "    x_0_1 + x_1_1 >= 1  'daily_coverage_1'\n",
      "    x_0_2 + x_1_2 >= 1  'daily_coverage_2'\n",
      "    x_0_3 + x_1_3 >= 1  'daily_coverage_3'\n",
      "    x_0_0 + x_0_1 <= 1  'consecutive_days_0_0'\n",
      "    x_0_1 + x_0_2 <= 1  'consecutive_days_0_1'\n",
      "    x_0_2 + x_0_3 <= 1  'consecutive_days_0_2'\n",
      "    x_1_0 + x_1_1 <= 1  'consecutive_days_1_0'\n",
      "    x_1_1 + x_1_2 <= 1  'consecutive_days_1_1'\n",
      "    x_1_2 + x_1_3 <= 1  'consecutive_days_1_2'\n",
      "\n",
      "  Binary variables (8)\n",
      "    x_0_0 x_0_1 x_0_2 x_0_3 x_1_0 x_1_1 x_1_2 x_1_3\n",
      "\n"
     ]
    }
   ],
   "source": [
    "# Load from a Docplex model we just defiend before.\n",
    "mod = from_docplex_mp(mdl)\n",
    "print(type(mod))\n",
    "print()\n",
    "print(mod.prettyprint())"
   ]
  },
  {
   "cell_type": "markdown",
   "metadata": {},
   "source": [
    "### Ensure the problem is in QUBO format"
   ]
  },
  {
   "cell_type": "code",
   "execution_count": 12,
   "metadata": {},
   "outputs": [
    {
     "name": "stdout",
     "output_type": "stream",
     "text": [
      "Offset: 164.5\n",
      "Ising Hamiltonian:\n",
      "SparsePauliOp(['IIIIIIZI', 'IIIIIZII', 'IIZIIIII', 'IZIIIIII', 'IIIIIIZZ', 'IIIIIZIZ', 'IIIIZIIZ', 'IIIZIIIZ', 'IIIIIZZI', 'IIIIZIZI', 'IIZIIIZI', 'IIIIZZII', 'IZIIIZII', 'ZIIIZIII', 'IIZZIIII', 'IZIZIIII', 'ZIIZIIII', 'IZZIIIII', 'ZIZIIIII', 'ZZIIIIII'],\n",
      "              coeffs=[-16.25+0.j, -16.25+0.j, -16.25+0.j, -16.25+0.j,  16.75+0.j,   0.5 +0.j,\n",
      "   0.5 +0.j,  16.25+0.j,  16.75+0.j,   0.5 +0.j,  16.25+0.j,  16.75+0.j,\n",
      "  16.25+0.j,  16.25+0.j,  16.75+0.j,   0.5 +0.j,   0.5 +0.j,  16.75+0.j,\n",
      "   0.5 +0.j,  16.75+0.j])\n"
     ]
    }
   ],
   "source": [
    "# Convert mod into a QUBO problem\n",
    "qp2qubo = QuadraticProgramToQubo()\n",
    "qubo = qp2qubo.convert(mod)\n",
    "qubitOp, offset = qubo.to_ising()\n",
    "print(\"Offset:\", offset)\n",
    "print(\"Ising Hamiltonian:\")\n",
    "print(str(qubitOp))"
   ]
  },
  {
   "cell_type": "markdown",
   "metadata": {},
   "source": [
    "### Solve the QUBO using the exact solver NumPyMinimumEigensolver"
   ]
  },
  {
   "cell_type": "code",
   "execution_count": 13,
   "metadata": {},
   "outputs": [
    {
     "name": "stdout",
     "output_type": "stream",
     "text": [
      "objective function value: 0.0\n",
      "variable values: x_0_0=0.0, x_0_1=1.0, x_0_2=0.0, x_0_3=1.0, x_1_0=1.0, x_1_1=0.0, x_1_2=1.0, x_1_3=0.0\n",
      "status: SUCCESS\n"
     ]
    }
   ],
   "source": [
    "# Solve the QUBO using the exact solver `NumPyMinimumEigensolver`\n",
    "exact_mes = NumPyMinimumEigensolver()\n",
    "exact_mes = MinimumEigenOptimizer(exact_mes)\n",
    "exact_result = exact_mes.solve(qubo)\n",
    "print(exact_result.prettyprint())"
   ]
  },
  {
   "cell_type": "code",
   "execution_count": 14,
   "metadata": {},
   "outputs": [
    {
     "name": "stdout",
     "output_type": "stream",
     "text": [
      "Optimal Schedule:\n",
      "Nurse 0 works on Days [1, 3]\n",
      "Nurse 1 works on Days [0, 2]\n"
     ]
    }
   ],
   "source": [
    "# Print results\n",
    "binary_values = exact_result.x\n",
    "varaiable_names = exact_result.variable_names\n",
    "\n",
    "assigned_days = []\n",
    "if solution:\n",
    "    print(\"Optimal Schedule:\")\n",
    "    for value, var in zip(binary_values, varaiable_names):\n",
    "        if value == 1:\n",
    "            _, nurse, day = var.split(\"_\")\n",
    "            assigned_days.append((int(nurse), int(day)))\n",
    "else:\n",
    "    print(\"No feasible solution found.\")\n",
    "\n",
    "schedule = {}\n",
    "for nurse, day in assigned_days:\n",
    "    if nurse not in schedule:\n",
    "        schedule[nurse] = []\n",
    "    schedule[nurse].append(day)\n",
    "\n",
    "for nurse, days in schedule.items():\n",
    "    print(f\"Nurse {nurse} works on Days {days}\")\n"
   ]
  },
  {
   "cell_type": "code",
   "execution_count": null,
   "metadata": {},
   "outputs": [
    {
     "data": {
      "image/png": "[encoded data removed]",
      "text/plain": [
       "<Figure size 400x300 with 1 Axes>"
      ]
     },
     "metadata": {},
     "output_type": "display_data"
    }
   ],
   "source": [
    "import matplotlib.pyplot as plt\n",
    "import numpy as np\n",
    "\n",
    "# Given list of tuples (nurse, day)\n",
    "data = assigned_days #[(0, 1), (0, 3), (1, 0), (1, 2)]\n",
    "\n",
    "# Create a grid (default: 0 for no shift)\n",
    "schedule_grid = np.zeros((num_nurses, num_days))\n",
    "\n",
    "# Fill the grid (1 for assigned shifts)\n",
    "for nurse, day in data:\n",
    "    schedule_grid[nurse, day] = 1  # Mark assigned shifts\n",
    "\n",
    "# Plot the grid\n",
    "fig, ax = plt.subplots(figsize=(4, 3))\n",
    "ax.imshow(schedule_grid, cmap=\"Greys\", aspect=\"auto\")\n",
    "\n",
    "# Add labels\n",
    "ax.set_xticks(np.arange(num_days))\n",
    "ax.set_yticks(np.arange(num_nurses))\n",
    "ax.set_xticklabels([f\"Day {i}\" for i in range(num_days)])\n",
    "ax.set_yticklabels([f\"Nurse {i}\" for i in range(num_nurses)])\n",
    "\n",
    "plt.title(\"Nurse Scheduling (NumPyMinimumEigensolver)\")\n",
    "plt.show()\n"
   ]
  },
  {
   "cell_type": "markdown",
   "metadata": {},
   "source": [
    "### Solve the QUBO using the quantum algorithm with QAOA"
   ]
  },
  {
   "cell_type": "markdown",
   "metadata": {},
   "source": [
    "1. A wrapper for minimum eigen solvers.: `MinimumEigenoptimizer`: [link](https://qiskit-community.github.io/qiskit-optimization/stubs/qiskit_optimization.algorithms.MinimumEigenOptimizer.html)\n",
    "2. Return type: `MinimumEigenOptimizationResult` [link](https://qiskit-community.github.io/qiskit-optimization/stubs/qiskit_optimization.algorithms.MinimumEigenOptimizationResult.html#qiskit_optimization.algorithms.MinimumEigenOptimizationResult)"
   ]
  },
  {
   "cell_type": "code",
   "execution_count": 16,
   "metadata": {},
   "outputs": [
    {
     "name": "stderr",
     "output_type": "stream",
     "text": [
      "/var/folders/kz/_mr3r3b55qd2r5hd025yvpfw0000gn/T/ipykernel_92250/2972185069.py:2: DeprecationWarning: The class ``qiskit.primitives.sampler.Sampler`` is deprecated as of qiskit 1.2. It will be removed no earlier than 3 months after the release date. All implementations of the `BaseSamplerV1` interface have been deprecated in favor of their V2 counterparts. The V2 alternative for the `Sampler` class is `StatevectorSampler`.\n",
      "  qaoa_mes = QAOA(sampler=Sampler(), optimizer=COBYLA())\n"
     ]
    },
    {
     "name": "stdout",
     "output_type": "stream",
     "text": [
      "objective function value: 0.0\n",
      "variable values: x_0_0=0.0, x_0_1=1.0, x_0_2=0.0, x_0_3=1.0, x_1_0=1.0, x_1_1=0.0, x_1_2=1.0, x_1_3=0.0\n",
      "status: SUCCESS\n"
     ]
    }
   ],
   "source": [
    "# Solve the QUBO using the exact solver `QAOA`\n",
    "qaoa_mes = QAOA(sampler=Sampler(), optimizer=COBYLA())\n",
    "qaoa_mes = MinimumEigenOptimizer(qaoa_mes)\n",
    "qaoa_result = qaoa_mes.solve(qubo)\n",
    "print(qaoa_result.prettyprint())\n"
   ]
  },
  {
   "cell_type": "code",
   "execution_count": 17,
   "metadata": {},
   "outputs": [
    {
     "name": "stdout",
     "output_type": "stream",
     "text": [
      "Optimal Schedule:\n",
      "Nurse 0 works on Days [1, 3]\n",
      "Nurse 1 works on Days [0, 2]\n"
     ]
    }
   ],
   "source": [
    "# Print results\n",
    "binary_values = qaoa_result.x\n",
    "varaiable_names = qaoa_result.variable_names\n",
    "\n",
    "assigned_days = []\n",
    "if solution:\n",
    "    print(\"Optimal Schedule:\")\n",
    "    for value, var in zip(binary_values, varaiable_names):\n",
    "        if value == 1:\n",
    "            _, nurse, day = var.split(\"_\")\n",
    "            assigned_days.append((int(nurse), int(day)))\n",
    "else:\n",
    "    print(\"No feasible solution found.\")\n",
    "\n",
    "schedule = {}\n",
    "for nurse, day in assigned_days:\n",
    "    if nurse not in schedule:\n",
    "        schedule[nurse] = []\n",
    "    schedule[nurse].append(day)\n",
    "\n",
    "for nurse, days in schedule.items():\n",
    "    print(f\"Nurse {nurse} works on Days {days}\")\n"
   ]
  },
  {
   "cell_type": "code",
   "execution_count": null,
   "metadata": {},
   "outputs": [
    {
     "data": {
      "image/png": "[encoded data removed]",
      "text/plain": [
       "<Figure size 400x300 with 1 Axes>"
      ]
     },
     "metadata": {},
     "output_type": "display_data"
    }
   ],
   "source": [
    "import matplotlib.pyplot as plt\n",
    "import numpy as np\n",
    "\n",
    "# Given list of tuples (nurse, day)\n",
    "data = assigned_days #[(0, 1), (0, 3), (1, 0), (1, 2)]\n",
    "\n",
    "# Create a grid (default: 0 for no shift)\n",
    "schedule_grid = np.zeros((num_nurses, num_days))\n",
    "\n",
    "# Fill the grid (1 for assigned shifts)\n",
    "for nurse, day in data:\n",
    "    schedule_grid[nurse, day] = 1  # Mark assigned shifts\n",
    "\n",
    "# Plot the grid\n",
    "fig, ax = plt.subplots(figsize=(4, 3))\n",
    "ax.imshow(schedule_grid, cmap=\"Greys\", aspect=\"auto\")\n",
    "\n",
    "# Add labels\n",
    "ax.set_xticks(np.arange(num_days))\n",
    "ax.set_yticks(np.arange(num_nurses))\n",
    "ax.set_xticklabels([f\"Day {i}\" for i in range(num_days)])\n",
    "ax.set_yticklabels([f\"Nurse {i}\" for i in range(num_nurses)])\n",
    "\n",
    "plt.title(\"Nurse Scheduling (QAOA)\")\n",
    "plt.show()\n"
   ]
  },
  {
   "cell_type": "markdown",
   "metadata": {},
   "source": [
    "# Version Infomation "
   ]
  },
  {
   "cell_type": "code",
   "execution_count": 19,
   "metadata": {},
   "outputs": [
    {
     "name": "stdout",
     "output_type": "stream",
     "text": [
      "========== Version Information ==========\n",
      "Python              : 3.11.11 (main, Dec 11 2024, 10:28:39) [Clang 14.0.6 ]\n",
      "Operating System    : Darwin 24.3.0 (64bit)\n",
      "=========================================\n",
      "Qiskit              : 1.3.2\n",
      "qiskit_optimization : 0.6.1 \n",
      "qiskit_algorithms   : 0.3.1 \n",
      "Cplex               : 2.29.241\n",
      "=========================================\n"
     ]
    }
   ],
   "source": [
    "import sys\n",
    "import platform\n",
    "import qiskit\n",
    "import docplex\n",
    "import qiskit_optimization\n",
    "import qiskit_algorithms\n",
    "\n",
    "print(\"=\"*10 + \" Version Information \" + \"=\"*10)\n",
    "print(f\"Python              : {sys.version}\")\n",
    "print(f\"Operating System    : {platform.system()} {platform.release()} ({platform.architecture()[0]})\")\n",
    "print(\"=\"*41)\n",
    "print(f\"Qiskit              : {qiskit.__version__}\")\n",
    "print(f\"qiskit_optimization : {qiskit_optimization.__version__} \")\n",
    "print(f\"qiskit_algorithms   : {qiskit_algorithms.__version__} \")\n",
    "print(f\"Cplex               : {docplex.__version__}\")\n",
    "print(\"=\"*41)\n"
   ]
  },
  {
   "cell_type": "markdown",
   "metadata": {},
   "source": [
    "# Reference \n",
    "\n",
    "[1]. [D Wave examples - Nurse Scheduling](https://cloud.dwavesys.com/leap/examples/254188327)\n",
    "\n",
    "[2]. [A Brief Study of the Nurse Scheduling\n",
    "Problem (NSP)](https://arxiv.org/pdf/1902.01193)\n",
    "\n",
    "[3]. [[PDF] SOLVING NURSE SCHEDULING PROBLEM USING CONSTRAINT PROGRAMMING TECHIQUE](https://www.math.cmu.edu/~af1p/Teaching/OR2/Projects/P23/ORProject_Final_Copy.pdf?utm_source=chatgpt.com)\n",
    "\n",
    "[4]. [Nurse Scheduling Problem via PyQUBO](https://arxiv.org/abs/2302.09459?utm_source=chatgpt.com)"
   ]
  }
 ],
 "metadata": {
  "kernelspec": {
   "display_name": "Python (tf_env)",
   "language": "python",
   "name": "tf_env"
  },
  "language_info": {
   "codemirror_mode": {
    "name": "ipython",
    "version": 3
   },
   "file_extension": ".py",
   "mimetype": "text/x-python",
   "name": "python",
   "nbconvert_exporter": "python",
   "pygments_lexer": "ipython3",
   "version": "3.11.11"
  }
 },
 "nbformat": 4,
 "nbformat_minor": 2
}
