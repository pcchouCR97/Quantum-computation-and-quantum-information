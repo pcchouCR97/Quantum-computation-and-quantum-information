{
 "cells": [
  {
   "cell_type": "markdown",
   "metadata": {},
   "source": [
    "# Air Traffic Control Problem - Optimal Runway Allocation for Single-Plane Assignments in a Multi-Runway Airport"
   ]
  },
  {
   "cell_type": "markdown",
   "metadata": {},
   "source": [
    "<div style=\"display: flex; justify-content: center; gap: 20px;\">\n",
    "    <img src=\"../../Images_Opt/pexels-saturnus99-9015533.jpg\" \n",
    "         alt=\"pexels-saturnus99-9015533\" \n",
    "         style=\"width: 300px; height: 200px;\">\n",
    "    <img src=\"../../Images_Opt/tower_control_room.jpeg\" \n",
    "         alt=\"tower\" \n",
    "         style=\"width: 400px; height: 200px;\">\n",
    "</div>\n",
    "\n",
    "- Photo by [Jeffry S.S. on Pexels](https://www.pexels.com/photo/a-passenger-plane-flying-in-the-sky-9015533/)\n",
    "- Photo from [Forbes](https://www.forbes.com/sites/danielreed/2016/02/05/air-traffic-control-privatization-finally-has-a-realistic-shot-at-being-passed-by-congress/)\n",
    "\n",
    "<div style=\"text-align: center\">\n",
    "    <img src = \"../../Images_Opt/output_assigned_runways.png\" alt=\"output_assigned_runways\" \n",
    "    style=\"width: 675px; height: 450px;\">\n",
    "    <p style=\"font-size: 16px; font-style: italic; color: gray; margin-top: 5px;\">\n",
    "    </p>\n",
    "</div>\n",
    "\n",
    "*The optimized runway schedule efficiently sequences aircraft operations, with Runway 1 managing Plane 1’s landing and taxiing before Plane 4 lands while Plane 3 taxis, allowing Plane 3 to take off immediately after separation; Runway 2 coordinating Plane 6’s taxi and takeoff while Plane 2 approaches and lands, ensuring Plane 8 is positioned for takeoff as soon as Plane 2 clears; and Runway 3 handling Plane 7’s taxi and departure, followed by Plane 5’s landing and Plane 9’s final approach, maintaining continuous runway usage without interference or delays.*"
   ]
  },
  {
   "cell_type": "markdown",
   "metadata": {},
   "source": [
    "## Abstract"
   ]
  },
  {
   "cell_type": "markdown",
   "metadata": {},
   "source": [
    "This study presents a quantum-optimized scheduling framework for air traffic control, maximizing runway throughput while ensuring conflict-free sequencing of landings, taxiing, and takeoffs. Simulation results demonstrate optimized multi-runway utilization, where aircraft operations are strategically sequenced to prevent bottlenecks while adhering to FAA wake separation constraints. The scheduling model allows overlapping of non-conflicting phases, such as taxiing and approach, ensuring seamless transitions and minimizing idle runway time. Visualizations highlight how departures and arrivals are structured to maintain continuous runway availability, reducing congestion and enhancing operational efficiency. This quantum-driven scheduling framework offers scalability and real-time adaptability, making it a promising solution for high-density air traffic management. As quantum computing continues to evolve, this approach holds the potential to revolutionize air traffic control, improving global airspace efficiency, reducing delays, and optimizing fuel consumption through smarter, adaptive scheduling strategies. **Applying a quadratic unconstrained binary optimization (QUBO) formulation, the approach natively adapts to quantum computing architectures, using quantum approximate optimization algorithm (QAOA), variational quantum eigensolver (VQE), and quantum annealing to efficiently solve complex ATC scheduling problems.**"
   ]
  },
  {
   "cell_type": "markdown",
   "metadata": {},
   "source": [
    "## Introduction\n",
    "\n",
    "Air Traffic Control (ATC) ensures the safe and efficient movement of aircraft in busy airspace. As traffic grows, optimizing runway assignments is crucial for reducing delays and maximizing efficiency. This study explores Optimal Runway Allocation for Single-Plane Assignments in a multi-runway airport, where ATC pre-assigns runways. The challenge is to schedule landings and takeoffs while maintaining safety and efficiency.\n",
    "\n",
    "## Problem Overview\n",
    "The problem involves optimizing the scheduling of aircraft across multiple runways to ensure efficient sequencing of landings, taxiing, and takeoffs while adhering to safety constraints; as shown in the table, each runway is pre-assigned specific aircraft in ascending order, requiring a conflict-free and delay-minimized schedule to maximize runway utilization and maintain operational efficiency.\n",
    "\n",
    "### Detailed Runway and Aircraft Assignments\n",
    "\n",
    "| Runway  | Plane  | Flight Phase             |\n",
    "|---------|--------|-------------------------|\n",
    "| Runway 1 | Plane 1 | Final Approach, Landing, Taxi to Gate |\n",
    "| Runway 1 | Plane 3 | Taxi to Runway, Takeoff, Departure |\n",
    "| Runway 1 | Plane 4 | Final Approach, Landing, Taxi to Gate |\n",
    "| Runway 2 | Plane 2 | Final Approach, Landing, Taxi to Gate |\n",
    "| Runway 2 | Plane 6 | Taxi to Runway, Takeoff, Departure |\n",
    "| Runway 2 | Plane 8 | Taxi to Runway, Takeoff, Departure |\n",
    "| Runway 3 | Plane 5 | Final Approach, Landing, Taxi to Gate |\n",
    "| Runway 3 | Plane 7 | Taxi to Runway, Takeoff, Departure |\n",
    "| Runway 3 | Plane 9 | Final Approach, Landing, Taxi to Gate |\n",
    "\n",
    "\n",
    "\n",
    "## Objectives\n",
    "1.  Ensure conflict-free operations across runways.\n",
    "2.  Maintain proper separation for safety.\n",
    "3.  Minimize total timespan for all operations.\n",
    "4.  Use optimization techniques (QUBO plus classical solvers) for efficient scheduling."
   ]
  },
  {
   "cell_type": "markdown",
   "metadata": {},
   "source": [
    "## Problem Definition "
   ]
  },
  {
   "cell_type": "markdown",
   "metadata": {},
   "source": [
    "### Problem \n",
    "In our ATC - Optimal Runway Allocation for Single-Plane Assignments in a Multi-Runway Airport porblem, which is essentially a variation of a [Job Shop Scheduling problem](https://arxiv.org/abs/1506.08479v2), where:\n",
    "\n",
    "1.  We have total of 9 planes $(N)$ waiting to land and takeoff. \n",
    "2.  We will write this as a set of $P = \\{\\text{plane1},\\text{plane2},\\cdots, \\text{plane9}\\}$ that must be scheduled on a set of runways $(r)$ where $r \\in R = \\{ \\text{runway1},\\text{runway2},\\text{runway3} \\}$ assigned by ATC.\n",
    "3.  Each plane must perform landing operations $O$ or takoff operations \n",
    "    *   Landing: $\\{ \\text{Final Approach}\\rightarrow\\text{Landing}\\rightarrow\\text{Taxiing to gate}\\}$\n",
    "    *   Takeoff: $\\{ \\text{Taxiing from gate}\\rightarrow\\text{takeoff}\\rightarrow\\text{Departure}\\}$\n",
    "    \n",
    "    $$\n",
    "    p_1 = \\{ O_{1}\\rightarrow \\cdots \\rightarrow O_{k_1} \\}\\\\\n",
    "    p_2 = \\{ O_{k_{1}+1} \\rightarrow \\cdots \\rightarrow O_{k_2} \\}\\\\\n",
    "    \\vdots\\\\\n",
    "    p_N = \\{ O_{k_{N-1}+1} \\rightarrow \\cdots \\rightarrow O_{k_N} \\}\\\\\n",
    "    $$\n",
    "\n",
    "    given the running index overall opearations $i \\in \\{1, \\cdots, k_N \\}$, we let $q_i$ be the index of the plane $p_{q_i}$ responsible for executing operations $O_i$. We define $I_m$ to be the set of indices of all of the operations that have to be executed on plane $p_p$, i.e., $I_m = \\{i:q_{i} = m \\}$. The execution time of opearation $O_i$ is now simply denoted $p_i$.\n",
    "\n",
    "Our binary decision variable $x$ and be defined as:\n",
    "\n",
    "$$\n",
    "x_{i,t,r} = \n",
    "\\begin{cases}\n",
    "1, & \\text{operation} \\ O_i \\ \\text{starts at time unit } t \\text{ on runway} \\ r, \\\\\n",
    "0, & \\text{otherwise}\n",
    "\\end{cases}\n",
    "$$\n",
    "\n",
    "### Constraints\n",
    "1.  Runway Utilization $({h_1})$ – Only one aircraft can occupy a runway at any given time for takeoff or landing.\n",
    "2.  Sequential Scheduling $({h_2})$ – An aircraft's next operation cannot begin until the previous one is completed.\n",
    "3.  Continuous Flight Pattern $({h_3})$ - For any plane, no gap between each flight pattern.\n",
    "4.  Runway Incursions & Runway Separation $({h_4})$ – Aircraft must adhere to wake turbulence separation."
   ]
  },
  {
   "cell_type": "markdown",
   "metadata": {},
   "source": [
    "## Reference\n",
    "\n",
    "[1]. D. Venturelli, D. Marchand, and G. Rojo, \"Quantum Annealing Implementation of Job-Shop Scheduling\", [arXiv:1506.08479v2](https://arxiv.org/abs/1506.08479v2).\n",
    "\n",
    "[2]. dwave-examples/flow-shop-scheduling [dwave-examples/flow-shop-scheduling](https://github.com/dwave-examples/flow-shop-scheduling).\n",
    "\n",
    "[3]. dwave-examples/job-shop-scheduling [dwave-examples/job-shop-scheduling](https://github.com/dwave-examples/job-shop-scheduling?tab=readme-ov-file)."
   ]
  },
  {
   "cell_type": "markdown",
   "metadata": {},
   "source": [
    "---"
   ]
  },
  {
   "cell_type": "markdown",
   "metadata": {},
   "source": [
    "## QUBO Formulation "
   ]
  },
  {
   "cell_type": "markdown",
   "metadata": {},
   "source": [
    "Beyond classical algorithms, this notebook explores quantum annealing techniques for Air Traffic Control optimization. The problem is encoded using binary variables (0 and 1). In quantum annealing, the objective is to find the minimum energy state by formulating the problem into a Hamiltonian form ([Ising problem - Wiki](https://en.wikipedia.org/wiki/Ising_model)). The Hamiltonian for this problem is given by:  \n",
    "\n",
    "$$\n",
    "H_{T}(\\bar{x}) = \\alpha h_1({\\bar{x}})+ \\beta h_2({\\bar{x}}) + \\gamma h_3({\\bar{x}}) + \\delta h_4({\\bar{x}})\n",
    "$$\n",
    "\n",
    "where $\\alpha, \\beta, \\gamma, \\delta, \\epsilon$ are penalty parameters set to sufficiently large values $(>0)$ to ensure that infeasible solutions do not have lower energy than the ground state(s).  \n",
    "\n",
    "The goal is to find the minimum possible makespan associated with a given set of operational instances."
   ]
  },
  {
   "cell_type": "code",
   "execution_count": 1,
   "metadata": {},
   "outputs": [],
   "source": [
    "# import docplex model\n",
    "from docplex.mp.model import Model"
   ]
  },
  {
   "cell_type": "markdown",
   "metadata": {},
   "source": [
    "## Python Implementation"
   ]
  },
  {
   "cell_type": "markdown",
   "metadata": {},
   "source": [
    "Here, we first define the flights in our air traffic control problem. We consider a single runway and five planes, each with specific operations.\n",
    "\n",
    "### Flight Operations and flight information\n",
    "- Landing Flight Patterns:  \n",
    "  - Final Approach (`Final approach`)  \n",
    "  - Landing (`Landing`)  \n",
    "  - Taxi after Landing (`Taxiing to gate`)  \n",
    "\n",
    "- Takeoff Operations:  \n",
    "  - Taxi (`Taxiing to runway`)  \n",
    "  - Takeoff (`Takeoff`)  \n",
    "  - Departure (`Departure`)  \n",
    "\n",
    "Each operation is assigned a specific operation time $ p_i $.\n",
    "\n",
    "Additionally, we define our CPLEX model (`mdl`) and the time horizon (`T`) for optimization."
   ]
  },
  {
   "cell_type": "code",
   "execution_count": 2,
   "metadata": {},
   "outputs": [],
   "source": [
    "# Create CPLEX model \n",
    "mdl = Model(\"ACT Hamiltonian\")\n",
    "\n",
    "# Define time horizon (assuming max 12-time units for simplicity)\n",
    "T = 11 # 12 can have sep > 2, bit it's still ok"
   ]
  },
  {
   "cell_type": "code",
   "execution_count": 3,
   "metadata": {},
   "outputs": [],
   "source": [
    "# Define airplanes (jobs) with categorized flight patterns (operations)\n",
    "# These number are not arbitrary, do not reflect to the real scenario. \n",
    "operation_schedule = {\n",
    "    \"Plane1\":{\n",
    "        # --- Landing at runway #1\n",
    "        1: {\n",
    "            0: {\"phase\": \"Final approach\", \"time\": 2},\n",
    "            1: {\"phase\": \"Landing\", \"time\": 1},\n",
    "            2: {\"phase\": \"Taxiing to gate\", \"time\": 3},\n",
    "        }\n",
    "    },\n",
    "    \"Plane2\":{\n",
    "        # --- Landing at runway #2\n",
    "        2: {\n",
    "            3: {\"phase\": \"Final approach\", \"time\": 3},\n",
    "            4: {\"phase\": \"Landing\", \"time\": 1},\n",
    "            5: {\"phase\": \"Taxiing to gate\", \"time\": 2},\n",
    "        },\n",
    "    },\n",
    "    \"Plane3\":{\n",
    "        # --- Takeoff at runway #1\n",
    "        1: {\n",
    "            6: {\"phase\": \"Taxiing to runway\", \"time\": 4},\n",
    "            7: {\"phase\": \"Takeoff\", \"time\": 1},\n",
    "            8: {\"phase\": \"Departure\", \"time\": 2}\n",
    "        }\n",
    "    },\n",
    "    \"Plane4\":{\n",
    "        # --- Landing at runway #1\n",
    "        1:{\n",
    "            9: {\"phase\": \"Final approach\", \"time\": 2},\n",
    "            10: {\"phase\": \"Landing\", \"time\": 1},\n",
    "            11: {\"phase\": \"Taxiing to gate\", \"time\": 3}\n",
    "        },\n",
    "    },\n",
    "    \"Plane5\":{\n",
    "        # --- Landing at runway #3\n",
    "        3: {\n",
    "            12: {\"phase\": \"Final approach\", \"time\": 4},\n",
    "            13: {\"phase\": \"Landing\", \"time\": 1},\n",
    "            14: {\"phase\": \"Taxiing to gate\", \"time\": 3}\n",
    "        }\n",
    "    },\n",
    "    \"Plane6\":{\n",
    "        # --- Takeoff at runway #2\n",
    "        2: {\n",
    "            15: {\"phase\": \"Taxiing to runway\", \"time\": 5},\n",
    "            16: {\"phase\": \"Takeoff\", \"time\": 1},\n",
    "            17: {\"phase\": \"Departure\", \"time\": 2}\n",
    "        },\n",
    "    },\n",
    "    \"Plane7\":{\n",
    "        # --- Takeoff at runway #3\n",
    "        3: {\n",
    "            18: {\"phase\": \"Taxiing to runway\", \"time\": 5},\n",
    "            19: {\"phase\": \"Takeoff\", \"time\": 1},\n",
    "            20: {\"phase\": \"Departure\", \"time\": 2}\n",
    "        }        \n",
    "    },\n",
    "    \"Plane8\":{\n",
    "        # --- Takeoff at runway #2\n",
    "        2: {\n",
    "            21: {\"phase\": \"Taxiing to runway\", \"time\": 6},\n",
    "            22: {\"phase\": \"Takeoff\", \"time\": 1},\n",
    "            23: {\"phase\": \"Departure\", \"time\": 1}\n",
    "        }        \n",
    "    },\n",
    "    \"Plane9\":{\n",
    "        # --- Landing at runway #3\n",
    "        3: {\n",
    "            24: {\"phase\": \"Final approach\", \"time\": 5},\n",
    "            25: {\"phase\": \"Landing\", \"time\": 1},\n",
    "            26: {\"phase\": \"Taxiing to gate\", \"time\": 3}\n",
    "        }        \n",
    "    },\n",
    "}"
   ]
  },
  {
   "cell_type": "code",
   "execution_count": 4,
   "metadata": {},
   "outputs": [
    {
     "name": "stdout",
     "output_type": "stream",
     "text": [
      "Plane: Plane1\n",
      " -> Availiable Runway: 1\n",
      "  -> operations 0 {'phase': 'Final approach', 'time': 2}\n",
      "  -> operations 1 {'phase': 'Landing', 'time': 1}\n",
      "  -> operations 2 {'phase': 'Taxiing to gate', 'time': 3}\n",
      "Plane: Plane2\n",
      " -> Availiable Runway: 2\n",
      "  -> operations 3 {'phase': 'Final approach', 'time': 3}\n",
      "  -> operations 4 {'phase': 'Landing', 'time': 1}\n",
      "  -> operations 5 {'phase': 'Taxiing to gate', 'time': 2}\n",
      "Plane: Plane3\n",
      " -> Availiable Runway: 1\n",
      "  -> operations 6 {'phase': 'Taxiing to runway', 'time': 4}\n",
      "  -> operations 7 {'phase': 'Takeoff', 'time': 1}\n",
      "  -> operations 8 {'phase': 'Departure', 'time': 2}\n",
      "Plane: Plane4\n",
      " -> Availiable Runway: 1\n",
      "  -> operations 9 {'phase': 'Final approach', 'time': 2}\n",
      "  -> operations 10 {'phase': 'Landing', 'time': 1}\n",
      "  -> operations 11 {'phase': 'Taxiing to gate', 'time': 3}\n",
      "Plane: Plane5\n",
      " -> Availiable Runway: 3\n",
      "  -> operations 12 {'phase': 'Final approach', 'time': 4}\n",
      "  -> operations 13 {'phase': 'Landing', 'time': 1}\n",
      "  -> operations 14 {'phase': 'Taxiing to gate', 'time': 3}\n",
      "Plane: Plane6\n",
      " -> Availiable Runway: 2\n",
      "  -> operations 15 {'phase': 'Taxiing to runway', 'time': 5}\n",
      "  -> operations 16 {'phase': 'Takeoff', 'time': 1}\n",
      "  -> operations 17 {'phase': 'Departure', 'time': 2}\n",
      "Plane: Plane7\n",
      " -> Availiable Runway: 3\n",
      "  -> operations 18 {'phase': 'Taxiing to runway', 'time': 5}\n",
      "  -> operations 19 {'phase': 'Takeoff', 'time': 1}\n",
      "  -> operations 20 {'phase': 'Departure', 'time': 2}\n",
      "Plane: Plane8\n",
      " -> Availiable Runway: 2\n",
      "  -> operations 21 {'phase': 'Taxiing to runway', 'time': 6}\n",
      "  -> operations 22 {'phase': 'Takeoff', 'time': 1}\n",
      "  -> operations 23 {'phase': 'Departure', 'time': 1}\n",
      "Plane: Plane9\n",
      " -> Availiable Runway: 3\n",
      "  -> operations 24 {'phase': 'Final approach', 'time': 5}\n",
      "  -> operations 25 {'phase': 'Landing', 'time': 1}\n",
      "  -> operations 26 {'phase': 'Taxiing to gate', 'time': 3}\n"
     ]
    }
   ],
   "source": [
    "# Let's recall how to get dictionary element first\n",
    "for plane in operation_schedule:\n",
    "    print(f\"Plane: {plane}\")\n",
    "    for runway in operation_schedule[plane]:\n",
    "        print(f\" -> Availiable Runway: {runway}\")\n",
    "        for operation in operation_schedule[plane][runway]:\n",
    "            print(f\"  -> operations {operation} \" + f\"{operation_schedule[plane][runway][operation]}\")\n",
    "            \n",
    "    "
   ]
  },
  {
   "cell_type": "code",
   "execution_count": 5,
   "metadata": {},
   "outputs": [
    {
     "name": "stdout",
     "output_type": "stream",
     "text": [
      "Total number of binary variables: 297\n"
     ]
    }
   ],
   "source": [
    "# Define binary variables x[i,t] (1 if operation i starts at time t, 0 otheRwise)\n",
    "x = {(i,t,runway): mdl.binary_var(name=f\"x_{i}_{t}_{runway}\") \n",
    "     for plane in operation_schedule \n",
    "     for runway in operation_schedule[plane] \n",
    "     for i in operation_schedule[plane][runway] \n",
    "     for t in range(T)}\n",
    "#print(x)\n",
    "\n",
    "# Total of T x i length of binary variable\n",
    "print(f\"Total number of binary variables: {len(x)}\")"
   ]
  },
  {
   "cell_type": "markdown",
   "metadata": {},
   "source": [
    "### Hamiltonian QUBO\n",
    "\n"
   ]
  },
  {
   "cell_type": "markdown",
   "metadata": {},
   "source": [
    "In this step, we formulate the Quadratic Unconstrained Binary Optimization (QUBO) model for Air Traffic Control using Quantum Annealing.\n",
    "\n",
    "### Considerations:\n",
    "- The penalty terms representviolations of constraints.\n",
    "- These violations are penalized using Hamiltonian parameters.\n",
    "- Higher violations result in higher energy states, which we aim to minimize.\n",
    "\n",
    "### QUBO Hamiltonian Formulation:\n",
    "$$\n",
    "H_{T}(\\bar{x}) = \\alpha h_1({\\bar{x}})+ \\beta h_2({\\bar{x}}) + \\gamma h_3({\\bar{x}}) + \\delta h_4({\\bar{x}})\n",
    "$$\n",
    "where:\n",
    "- $h_i(\\bar{x})$ represents different constraint violations.\n",
    "- $\\alpha, \\beta, \\gamma, \\delta, \\epsilon, \\zeta$ are penalty parameters ensuring infeasible solutions have higher energy values.\n",
    "\n",
    "Our objective is to find the optimal solution that minimizes the total Hamiltonian energy, leading to the best scheduling of flights while satisfying all constraints."
   ]
  },
  {
   "cell_type": "markdown",
   "metadata": {},
   "source": [
    "### Constraint 1: Runway Utilization $({h_1})$ – Only one aircraft can occupy a runway at any given time for takeoff or landing."
   ]
  },
  {
   "cell_type": "markdown",
   "metadata": {},
   "source": [
    "To make sure every opeartions in every plane is executed, We can construct a formula as \n",
    "\n",
    "$$\n",
    "\\sum_{i} \\sum_{t} x_{i,t,r} = 1, \\forall r \\in R_\\text{assigned runway}\n",
    "$$\n",
    "\n",
    "therefore, we can write our penalty term as \n",
    "\n",
    "$$\n",
    "h_1 = \\sum_{r} \\bigg( \\sum_{i} \\sum_{t} x_{i,t,r} - 1 \\bigg)^{2}\n",
    "$$\n"
   ]
  },
  {
   "cell_type": "code",
   "execution_count": 6,
   "metadata": {},
   "outputs": [],
   "source": [
    "# Constraint 1: Runway Utilization – Only one aircraft can occupy a runway at any given time for takeoff or landing.\n",
    "\n",
    "h_1 = mdl.sum(\n",
    "    (mdl.sum(x[i, t, r] \n",
    "             for r in operation_schedule[plane] \n",
    "             if i in operation_schedule[plane][r]  # Ensure operation i exists on runway r\n",
    "             for t in range(T)) - 1) ** 2\n",
    "    for plane in operation_schedule\n",
    "    for r in operation_schedule[plane] \n",
    "    for i in operation_schedule[plane][r]  # Only iterate over valid i for runway r\n",
    ")\n",
    "\n",
    "# print h_1\n",
    "#print(h_1)"
   ]
  },
  {
   "cell_type": "markdown",
   "metadata": {},
   "source": [
    "### Constraint 2: Sequential Scheduling $({h_2})$ – An aircraft's next operation cannot begin until the previous one is completed."
   ]
  },
  {
   "cell_type": "markdown",
   "metadata": {},
   "source": [
    "To enforce the correct sequence of operations within a job, each aircraft (job $n$) must complete operation $O_i$ before starting $O_{i+1}$. To penalize violations of this rule, we introduce a penalty term:\n",
    "\n",
    "$$\n",
    "\\sum_{k_{n-1}<i<k_{N},\\ t+p_{i}>t'} x_{i,t,r} x_{i+1,t',r}, \\quad \\text{for each plane } (n), \\text{ for each runway } (r)\n",
    "$$\n",
    "\n",
    "The corresponding penalty function $h_2$ is given by:\n",
    "\n",
    "$$\n",
    "h_2 = \\sum_{r} \\sum_{n} \\sum_{k_{n-1}<i<k_{N},\\ t+p_{i}>t'} x_{i,t,r} x_{i+1,t',r}\n",
    "$$\n",
    "\n",
    "This ensures that no aircraft starts a new operation before completing the previous one."
   ]
  },
  {
   "cell_type": "markdown",
   "metadata": {},
   "source": [
    "Here, careful handling of the $i$ indexing is required. Since each job consists of three operations $O_1, O_2, O_3$, we must omit the last operation $O_3$ in each job, as it has no successor. Failing to exclude the last operation may result in out-of-bounds indexing errors."
   ]
  },
  {
   "cell_type": "code",
   "execution_count": 7,
   "metadata": {},
   "outputs": [],
   "source": [
    "# Constraint 2: An aircraft's next operation cannot begin until the previous one is completed.\n",
    "h_2 = mdl.sum(\n",
    "    x[i,t,r] * x[i+1,t_prime,r]\n",
    "    for plane in operation_schedule\n",
    "    for r in operation_schedule[plane] \n",
    "    for i in list(operation_schedule[plane][r].keys())[:-1] # Opeartionas with in each job k_{n-1} < i < k_{N}\n",
    "    for t in range(T)\n",
    "    for t_prime in range(T)\n",
    "    if t + operation_schedule[plane][r][i][\"time\"] > t_prime\n",
    ")\n",
    "#print(h_2)"
   ]
  },
  {
   "cell_type": "markdown",
   "metadata": {},
   "source": [
    "### Constraint 3: Continuous Flight Pattern $({h_3})$ - For any plane, no gap between each flight pattern."
   ]
  },
  {
   "cell_type": "markdown",
   "metadata": {},
   "source": [
    "For any plane, there must be no gap between each flight pattern\n",
    "$$\n",
    "\\sum_{k_{n-1}<i<k_{N},\\ t+p_{i}\\neq t'} x_{i,t} x_{i+1,t'},\\ \\text{for each runway ($r$)}\n",
    "$$\n",
    "and we can have a penalty term $(h_3)$ of \n",
    "$$\n",
    "h_3 = \\sum_{r}\\bigg({\\sum_{k_{n-1}<i<k_{N},\\ t+p_{i} \\neq t'} x_{i,t} x_{i+1,t'}}\\bigg)\n",
    "$$"
   ]
  },
  {
   "cell_type": "code",
   "execution_count": 8,
   "metadata": {},
   "outputs": [],
   "source": [
    "# Constraint 3: For any plane, no gap between each flight pattern.\n",
    "# To ensure the order of the operations within a job are enforced.\n",
    "h_3 = mdl.sum(\n",
    "    x[i,t,r] * x[i+1,t_prime,r]\n",
    "    for plane in operation_schedule\n",
    "    for r in operation_schedule[plane] \n",
    "    for i in list(operation_schedule[plane][r].keys())[:-1] # Opeartionas with in each job k_{n-1} < i < k_{N}\n",
    "    for t in range(T)\n",
    "    for t_prime in range(T)\n",
    "    if t + operation_schedule[plane][r][i][\"time\"] != t_prime\n",
    ")\n",
    "#print(h_3)"
   ]
  },
  {
   "cell_type": "markdown",
   "metadata": {},
   "source": [
    "### Constaint 4: Separation Requirements $({h_4})$ – Aircraft must adhere to wake turbulence separation."
   ]
  },
  {
   "cell_type": "markdown",
   "metadata": {},
   "source": [
    "For every landing or takeoff phase, we must ensure separation constraints by excluding cases where the next runway usage starts before the required separation time $t_{sep}$. That is,\n",
    "$$\n",
    "\\sum_{(i,k,k,t')\\in R_w}x_{\\text{i},t,r} \\ x_{\\text{k},t',r}, \\text{for each runway $r$}\n",
    "$$\n",
    "where $ \\text{Rw}_m = i_\\text{takeoff} \\ \\cup \\ i_\\text{landing}$. We can have a penalty term $(h_4)$ of \n",
    "$$\n",
    "h_4 = \\sum_{r} \\bigg( \\sum_{(i,k,k,t')\\in R_w}x_{\\text{i},t,r} \\ x_{\\text{k},t',r}\\bigg)\n",
    "$$\n",
    "where $R_w = \\{(i,k,k,t'): I_{m}^{r} \\times I_{m}^{r},\\ t_\\text{landing}+t_{sep} + p_i > t'\\}$ $t'$: the next operation starts at time $t'$."
   ]
  },
  {
   "cell_type": "markdown",
   "metadata": {},
   "source": [
    "Here is the step by step on how construct this set:\n",
    "\n",
    "1.  Sum over all runways $(r)$.\n",
    "2.  Identify all operations $(i, k)$ that require separation (Landing/Takeoff).\n",
    "3.  Ensure that if i happens at $t$, then $k$ must not start at $t'$ unless $t' ≥ t + t_\\text{sep}.$\n",
    "4.  Penalize cases where two operations are scheduled too closely on the same runway."
   ]
  },
  {
   "cell_type": "code",
   "execution_count": 9,
   "metadata": {},
   "outputs": [
    {
     "name": "stdout",
     "output_type": "stream",
     "text": [
      "[1, 4, 7, 10, 13, 16, 19, 22, 25]\n"
     ]
    }
   ],
   "source": [
    "# Let's See how to extract operations that using runway (no matter which runway)\n",
    "Runway = [i \n",
    "          for plane in operation_schedule \n",
    "          for runway in operation_schedule[plane] \n",
    "          for i, operation in operation_schedule[plane][runway].items() if operation[\"phase\"] in [\"Landing\", \"Takeoff\"]]\n",
    "print(Runway)"
   ]
  },
  {
   "cell_type": "code",
   "execution_count": 10,
   "metadata": {},
   "outputs": [],
   "source": [
    "# constraint 4: Aircraft must adhere to wake turbulence separation.\n",
    "\n",
    "# runway must be cleared with at least t_sep = 1 time unit before next landing or taking off\n",
    "t_sep = 1\n",
    "\n",
    "Rw = [(i,t,k,t_prime,r)\n",
    "      for r in {r for plane in operation_schedule for r in operation_schedule[plane]}  # Iterate over unique runways\n",
    "      for plane1 in operation_schedule\n",
    "      if r in operation_schedule[plane1]  # Ensure runway exists for this plane\n",
    "      for i, operation1 in operation_schedule[plane1][r].items() if operation1[\"phase\"] in [\"Landing\", \"Takeoff\"]\n",
    "      for plane2 in operation_schedule  # Compare with all planes, including same-plane conflicts\n",
    "      if r in operation_schedule[plane2]  # Ensure runway exists for this plane\n",
    "      for k, operation2 in operation_schedule[plane2][r].items() if operation2[\"phase\"] in [\"Landing\", \"Takeoff\"]\n",
    "      #---\n",
    "      if i != k \n",
    "      for t in range(T)\n",
    "      for t_prime in range(T) if t_prime < t + operation_schedule[plane1][r][i][\"time\"] + t_sep # makesure only one plane using the runway at the time\n",
    "      #---\n",
    "      ]\n",
    "\n",
    "# Show runway conflict combinations: no runway separation cases.\n",
    "#print(f\"Runway conflicts cases (i,t,k,t',r):\\n{Rw}\") \n",
    "h_4 = mdl.sum(x[i,t,r] * x[k,t_prime,r] for (i,t,k,t_prime,r) in Rw) \n",
    "                      \n",
    "#print(h_4)\n"
   ]
  },
  {
   "cell_type": "markdown",
   "metadata": {},
   "source": [
    "#### Python explanation - What is `python for r in {r for plane in operation_schedule for r in operation_schedule[plane]}`?"
   ]
  },
  {
   "cell_type": "markdown",
   "metadata": {},
   "source": [
    "This is a essential part for constructing runway sepeartion constraint\n",
    "\n",
    "```python\n",
    "for r in {r for plane in operation_schedule for r in operation_schedule[plane]} # Iterate over unique runways\n",
    "```\n",
    "\n",
    "-   `{r for plane in operation_schedule for r in operation_schedule[plane]}`:\n",
    "-   First `for plane in operation_schedule` ->  Iterates over all planes.  \n",
    "-   Second `for r in operation_schedule[plane]` ->  Extracts all runways used by that plane.  \n",
    "-   `{}` creates a set, so duplicate runways are automatically removed.\n",
    "\n",
    "This implementation ensures: \n",
    "1.  we process each runway once, no matter how many planes use it.  \n",
    "2.  Prevents redundant calculations when checking separation constraints.  "
   ]
  },
  {
   "cell_type": "markdown",
   "metadata": {},
   "source": [
    "### Constructing Hamiltonian "
   ]
  },
  {
   "cell_type": "markdown",
   "metadata": {},
   "source": [
    "The resulting classical objective function (Hamiltonian) is given by \n",
    "$$\n",
    "H_{T}(\\bar{x}) = \\alpha h_1({\\bar{x}})+ \\beta h_2({\\bar{x}}) + \\gamma h_3({\\bar{x}}) + \\delta h_4({\\bar{x}})\n",
    "$$\n",
    "where $\\alpha, \\beta, \\gamma$, and $\\delta$ are penalty parameters that must be set to a large number to $(>0)$ in order to ensure that unfeasible solutions do not have larger a lower energy than the ground state(s)."
   ]
  },
  {
   "cell_type": "code",
   "execution_count": 11,
   "metadata": {},
   "outputs": [],
   "source": [
    "# Select penalty parameters\n",
    "alpha = 1.5 # Each operation must be executed once and only once.\n",
    "beta = .5 # An aircraft's next opeartion cannot begin until the previous one is completed.\n",
    "gamma = 1.1 # For any plane, no gap between each flight pattern.\n",
    "delta = .7 # Aircraft must adhere to wake turbulence seperation."
   ]
  },
  {
   "cell_type": "markdown",
   "metadata": {},
   "source": [
    "### Establish Hamiltonian and solve it"
   ]
  },
  {
   "cell_type": "code",
   "execution_count": 12,
   "metadata": {},
   "outputs": [
    {
     "name": "stdout",
     "output_type": "stream",
     "text": [
      "solution for: ACT Hamiltonian\n",
      "objective: 6.3\n",
      "status: OPTIMAL_SOLUTION(2)\n",
      "x_0_0_1=1\n",
      "x_1_2_1=1\n",
      "x_2_3_1=1\n",
      "x_3_4_2=1\n",
      "x_4_7_2=1\n",
      "x_5_8_2=1\n",
      "x_6_2_1=1\n",
      "x_7_6_1=1\n",
      "x_8_7_1=1\n",
      "x_9_2_1=1\n",
      "x_10_4_1=1\n",
      "x_11_5_1=1\n",
      "x_12_3_3=1\n",
      "x_13_7_3=1\n",
      "x_14_8_3=1\n",
      "x_15_0_2=1\n",
      "x_16_5_2=1\n",
      "x_17_6_2=1\n",
      "x_18_0_3=1\n",
      "x_19_5_3=1\n",
      "x_20_6_3=1\n",
      "x_21_3_2=1\n",
      "x_22_9_2=1\n",
      "x_23_10_2=1\n",
      "x_24_4_3=1\n",
      "x_25_9_3=1\n",
      "x_26_10_3=1\n",
      "\n"
     ]
    }
   ],
   "source": [
    "# Establish Hamiltonian (objective function)\n",
    "H_T = (alpha * h_1 + beta * h_2 + gamma * h_3 + delta * h_4)\n",
    "mdl.minimize(H_T)\n",
    "\n",
    "# Solve model\n",
    "solution = mdl.solve()\n",
    "\n",
    "print(solution)"
   ]
  },
  {
   "cell_type": "markdown",
   "metadata": {},
   "source": [
    "### Genearte a gantt chart"
   ]
  },
  {
   "cell_type": "code",
   "execution_count": 13,
   "metadata": {},
   "outputs": [],
   "source": [
    "# Extract solution values\n",
    "schedule = []\n",
    "for var in mdl.iter_variables():\n",
    "    if var.solution_value > 0.5:  # Operation is scheduled\n",
    "        name_parts = var.name.split(\"_\")  # Example: \"x_1_3_1\" -> [\"x\", \"1\", \"3\", \"1\"]\n",
    "        op_id = int(name_parts[1])  # Operation index\n",
    "        start_time = int(name_parts[2])  # Start time\n",
    "        runway = int(name_parts[3])  # Runway\n",
    "        schedule.append((op_id, start_time,runway))\n",
    "\n",
    "#print(schedule)\n"
   ]
  },
  {
   "cell_type": "code",
   "execution_count": 14,
   "metadata": {},
   "outputs": [
    {
     "name": "stdout",
     "output_type": "stream",
     "text": [
      "    Operation  Start Time  Runway  Duration   Plane              Phase\n",
      "0           0           0       1         2  Plane1     Final approach\n",
      "1           1           2       1         1  Plane1            Landing\n",
      "2           2           3       1         3  Plane1    Taxiing to gate\n",
      "3           3           4       2         3  Plane2     Final approach\n",
      "4           4           7       2         1  Plane2            Landing\n",
      "5           5           8       2         2  Plane2    Taxiing to gate\n",
      "6           6           2       1         4  Plane3  Taxiing to runway\n",
      "7           7           6       1         1  Plane3            Takeoff\n",
      "8           8           7       1         2  Plane3          Departure\n",
      "9           9           2       1         2  Plane4     Final approach\n",
      "10         10           4       1         1  Plane4            Landing\n",
      "11         11           5       1         3  Plane4    Taxiing to gate\n",
      "12         12           3       3         4  Plane5     Final approach\n",
      "13         13           7       3         1  Plane5            Landing\n",
      "14         14           8       3         3  Plane5    Taxiing to gate\n",
      "15         15           0       2         5  Plane6  Taxiing to runway\n",
      "16         16           5       2         1  Plane6            Takeoff\n",
      "17         17           6       2         2  Plane6          Departure\n",
      "18         18           0       3         5  Plane7  Taxiing to runway\n",
      "19         19           5       3         1  Plane7            Takeoff\n",
      "20         20           6       3         2  Plane7          Departure\n",
      "21         21           3       2         6  Plane8  Taxiing to runway\n",
      "22         22           9       2         1  Plane8            Takeoff\n",
      "23         23          10       2         1  Plane8          Departure\n",
      "24         24           4       3         5  Plane9     Final approach\n",
      "25         25           9       3         1  Plane9            Landing\n",
      "26         26          10       3         3  Plane9    Taxiing to gate\n"
     ]
    }
   ],
   "source": [
    "import pandas as pd\n",
    "\n",
    "# Convert to DataFrame\n",
    "df = pd.DataFrame(schedule, columns=[\"Operation\", \"Start Time\", \"Runway\"])\n",
    "# Assign duration based on operation_schedule (default to 1 if not found)\n",
    "df[\"Duration\"] = df[\"Operation\"].apply(lambda op: next(\n",
    "    (operation_schedule[plane][runway][op][\"time\"] \n",
    "     for plane in operation_schedule \n",
    "     for runway in operation_schedule[plane] \n",
    "     if op in operation_schedule[plane][runway]), 1))  # Default to 1 if not found\n",
    "\n",
    "# Assign plane labels\n",
    "df[\"Plane\"] = df[\"Operation\"].apply(lambda op: next(\n",
    "    (plane for plane in operation_schedule \n",
    "     for runway in operation_schedule[plane] \n",
    "     if op in operation_schedule[plane][runway]), \"Unknown\"))\n",
    "\n",
    "# Assign runway labels\n",
    "df[\"Runway\"] = df[\"Operation\"].apply(lambda op: next(\n",
    "    (runway for plane in operation_schedule \n",
    "     for runway in operation_schedule[plane] \n",
    "     if op in operation_schedule[plane][runway]), \"Unknown\"))\n",
    "\n",
    "# Assign phase labels\n",
    "df[\"Phase\"] = df[\"Operation\"].apply(lambda op: next(\n",
    "    (operation_schedule[plane][runway][op][\"phase\"] \n",
    "     for plane in operation_schedule \n",
    "     for runway in operation_schedule[plane] \n",
    "     if op in operation_schedule[plane][runway]), \"Unknown\"))\n",
    "\n",
    "print(df)"
   ]
  },
  {
   "cell_type": "code",
   "execution_count": 15,
   "metadata": {},
   "outputs": [
    {
     "name": "stdout",
     "output_type": "stream",
     "text": [
      "    Operation  Start Time  Runway  Duration   Plane              Phase  \\\n",
      "23         23          10       2         1  Plane8          Departure   \n",
      "26         26          10       3         3  Plane9    Taxiing to gate   \n",
      "22         22           9       2         1  Plane8            Takeoff   \n",
      "25         25           9       3         1  Plane9            Landing   \n",
      "24         24           4       3         5  Plane9     Final approach   \n",
      "21         21           3       2         6  Plane8  Taxiing to runway   \n",
      "5           5           8       2         2  Plane2    Taxiing to gate   \n",
      "14         14           8       3         3  Plane5    Taxiing to gate   \n",
      "4           4           7       2         1  Plane2            Landing   \n",
      "13         13           7       3         1  Plane5            Landing   \n",
      "3           3           4       2         3  Plane2     Final approach   \n",
      "12         12           3       3         4  Plane5     Final approach   \n",
      "8           8           7       1         2  Plane3          Departure   \n",
      "7           7           6       1         1  Plane3            Takeoff   \n",
      "6           6           2       1         4  Plane3  Taxiing to runway   \n",
      "17         17           6       2         2  Plane6          Departure   \n",
      "20         20           6       3         2  Plane7          Departure   \n",
      "16         16           5       2         1  Plane6            Takeoff   \n",
      "19         19           5       3         1  Plane7            Takeoff   \n",
      "15         15           0       2         5  Plane6  Taxiing to runway   \n",
      "18         18           0       3         5  Plane7  Taxiing to runway   \n",
      "11         11           5       1         3  Plane4    Taxiing to gate   \n",
      "10         10           4       1         1  Plane4            Landing   \n",
      "9           9           2       1         2  Plane4     Final approach   \n",
      "2           2           3       1         3  Plane1    Taxiing to gate   \n",
      "1           1           2       1         1  Plane1            Landing   \n",
      "0           0           0       1         2  Plane1     Final approach   \n",
      "\n",
      "    Primary Start  \n",
      "23            9.0  \n",
      "26            9.0  \n",
      "22            9.0  \n",
      "25            9.0  \n",
      "24            9.0  \n",
      "21            9.0  \n",
      "5             7.0  \n",
      "14            7.0  \n",
      "4             7.0  \n",
      "13            7.0  \n",
      "3             7.0  \n",
      "12            7.0  \n",
      "8             6.0  \n",
      "7             6.0  \n",
      "6             6.0  \n",
      "17            5.0  \n",
      "20            5.0  \n",
      "16            5.0  \n",
      "19            5.0  \n",
      "15            5.0  \n",
      "18            5.0  \n",
      "11            4.0  \n",
      "10            4.0  \n",
      "9             4.0  \n",
      "2             2.0  \n",
      "1             2.0  \n",
      "0             2.0  \n"
     ]
    }
   ],
   "source": [
    "# Find the earliest Landing or Takeoff start time per plane\n",
    "df[\"Primary Start\"] = df.apply(lambda row: row[\"Start Time\"] \n",
    "                               if row[\"Phase\"] in [\"Landing\", \"Takeoff\"] else None, axis=1)\n",
    "\n",
    "# Fill missing values with the earliest available phase per plane\n",
    "df[\"Primary Start\"] = df.groupby(\"Plane\")[\"Primary Start\"].transform(\"min\")\n",
    "\n",
    "# Sort by earliest Landing or Takeoff execution\n",
    "df = df.sort_values(by=[\"Primary Start\", \"Start Time\"],ascending=False)\n",
    "\n",
    "print(df)"
   ]
  },
  {
   "cell_type": "code",
   "execution_count": 16,
   "metadata": {},
   "outputs": [
    {
     "data": {
      "image/png": "[encoded data removed]",
      "text/plain": [
       "<Figure size 1000x800 with 3 Axes>"
      ]
     },
     "metadata": {},
     "output_type": "display_data"
    }
   ],
   "source": [
    "import matplotlib.pyplot as plt\n",
    "import pandas as pd\n",
    "\n",
    "# Colors\n",
    "# https://matplotlib.org/stable/users/explain/colors/colors.html#colors-def\n",
    "\n",
    "# Define phase colors\n",
    "phase_colors = {\n",
    "    \"Final approach\": \"#069AF3\",\n",
    "    \"Landing\": \"#0343DF\",\n",
    "    \"Taxiing to gate\": \"#000050\",\n",
    "    \"Taxiing to runway\": \"#FF796C\",\n",
    "    \"Takeoff\": \"#E50000\",\n",
    "    \"Departure\": \"purple\"\n",
    "}\n",
    "\n",
    "# Plot Gantt chart\n",
    "fig, axes = plt.subplots(3 , 1, figsize=(10, 8)) # len(uniqe runway)\n",
    "\n",
    "# Increase vertical spacing between subplots\n",
    "plt.subplots_adjust(hspace=0.5)  # Adjust spacing (increase value for more space)\n",
    "\n",
    "\n",
    "for idx, runway in enumerate([1, 2, 3]):  # Assuming runways 1, 2, 3\n",
    "    ax = axes[idx]\n",
    "    \n",
    "    # Filter data for this runway\n",
    "    runway_data = df[df[\"Runway\"] == runway]\n",
    "\n",
    "    #print(runway_data)  # Debugging: Print runway data\n",
    "\n",
    "    for i, row in runway_data.iterrows():\n",
    "        ax.barh(row[\"Plane\"], row[\"Duration\"], left=row[\"Start Time\"], \n",
    "                color=phase_colors[row.Phase], edgecolor=\"black\", label=row.Phase if i == 0 else \"\")\n",
    "\n",
    "    ax.set_title(f\"Runway {runway}\")\n",
    "    ax.grid(axis='x', linestyle=\"--\")\n",
    "    ax.set_xlim(0, T+4) \n",
    "#plt.grid(True)\n",
    "\n",
    "# Add a legend for phase colors\n",
    "handles = [plt.Rectangle((0,0),1,1, color=color) for color in phase_colors.values()]\n",
    "labels = list(phase_colors.keys())\n",
    "plt.legend(handles, labels, title=\"Flight Phases\", bbox_to_anchor=(1.05, 1), loc='upper left')\n",
    "\n",
    "plt.xlabel(\"Time unit\")\n",
    "#plt.tight_layout()\n",
    "plt.show()\n"
   ]
  },
  {
   "cell_type": "markdown",
   "metadata": {},
   "source": [
    "## Summary"
   ]
  },
  {
   "cell_type": "markdown",
   "metadata": {},
   "source": [
    "The optimized scheduling of aircraft operations across three runways ensures a smooth, conflict-free sequence of landings, taxiing, takeoffs, and departures. This structured plan keeps operations efficient and delay-free, following FAA wake separation constraints while maximizing runway utilization.\n",
    "\n",
    "Runway 1 Operations:\n",
    "-   Plane 1 begins its final approach, lands, and taxis to the gate.\n",
    "-   Plane 4 starts its approach simultaneously with Plane 3 taxiing to the runway. Since taxiing takes longer, Plane 4 is able to land, complete its rollout, and taxi to the gate before Plane 3 is ready for takeoff.\n",
    "-   Plane 3, after completing its taxi, takes off immediately after the required separation time from Plane 4’s landing, ensuring continuous runway usage without interference.\n",
    "\n",
    "Runway 2 Operations:\n",
    "-   Plane 6 starts by taxiing to the runway, preparing for takeoff.\n",
    "-   While Plane 6 is taxiing, Plane 2 is already in its final approach phase, meaning that as soon as Plane 6 departs, the runway is cleared in time for Plane 2 to land after the required separation time.\n",
    "-   Meanwhile, Plane 8 begins taxiing to the runway even before Plane 2 enters its final approach, ensuring that as soon as Plane 2 lands and clears the runway, Plane 8 is already positioned for takeoff.\n",
    "\n",
    "Runway 3 Operations:\n",
    "-   Plane 7 begins with taxiing to the runway, followed by takeoff and departure. This ensures the runway is clear for incoming aircraft.\n",
    "-   Plane 5 starts its final approach while Plane 7 is departing, allowing for an efficient transition.\n",
    "-   Plane 9 follows next, entering its final approach after Plane 5 has safely landed. It then proceeds to land and taxi to the gate, ensuring continuous runway usage without delays.\n",
    "\n",
    "**In sum, this jupyter demo maximizes runway throughput by allowing operations to start simultaneously without direct overlap, ensuring that each aircraft completes its phase without delay or interference. The integration of landing, taxiing, and takeoff sequences prevents runway idle time and minimizes unnecessary waiting.**"
   ]
  },
  {
   "cell_type": "markdown",
   "metadata": {},
   "source": [
    "## Final thought"
   ]
  },
  {
   "cell_type": "markdown",
   "metadata": {},
   "source": [
    "## Importance of this demo"
   ]
  },
  {
   "cell_type": "markdown",
   "metadata": {},
   "source": [
    "Here are some of the benefits of applying this methodology in the future can help reshape the aerospace industry. Every one of these are cirtical to everybody's safety and satisfaction. I am looking forward such implementation can benefit all human beings which makes our travel more safer and more efficient.\n",
    "\n",
    "1. Enhanced Air Traffic Control (ATC) Focus on Ground and Air Maneuvering – By automating runway scheduling, controllers can dedicate more attention to managing aircraft movement on the ground and in the air, reducing workload and improving response times.  \n",
    "\n",
    "2. Ensuring Runway Safety and Preventing Incursions – Optimized scheduling minimizes the risk of runway incursions by structuring takeoff and landing sequences, ensuring no two aircraft attempt to occupy the same runway simultaneously.  \n",
    "\n",
    "3. Improved Aircraft-Specific Attention – With a clear, optimized schedule, ATC can focus on individual aircraft operations, reducing errors and ensuring safer and more efficient sequencing.  \n",
    "\n",
    "4. Maximizing Aircraft Utilization – Efficient scheduling reduces aircraft idle time, leading to faster turnarounds, lower operational costs, and improved fleet efficiency.  \n",
    "\n",
    "5. Scalability for High-Density Air Traffic – Unlike classical algorithms, which struggle with the complexity of large-scale scheduling, quantum-based approaches can efficiently handle multiple runways, aircraft, and constraints simultaneously.  \n",
    "\n",
    "6. Fuel and Emissions Reduction – By minimizing holding patterns and excessive taxiing, optimized schedules lower fuel consumption, contributing to cost savings and environmental sustainability.  \n",
    "\n",
    "7. Improved Passenger Experience – More efficient scheduling reduces delays, prevents bottlenecks, and enhances airline reliability, leading to better overall airport operations and customer satisfaction."
   ]
  },
  {
   "cell_type": "markdown",
   "metadata": {},
   "source": [
    "## Future Scalability and Enhancements of Quantum world"
   ]
  },
  {
   "cell_type": "markdown",
   "metadata": {},
   "source": [
    "\n",
    "\n",
    "Future Scalability and Enhancements\n",
    "As quantum computing power continues to advance and becomes more accessible, the potential for optimizing air traffic control (ATC) scheduling will significantly expand. With increased computational capacity, larger and more complex scheduling scenarios can be handled efficiently, making quantum algorithms even more impactful in real-world air traffic management.\n",
    "\n",
    "1. Scaling Up to Larger Air Traffic Scenarios\n",
    "Currently, quantum optimization is applied to a multi-runway airport with a limited number of aircraft. As quantum hardware improves, we can scale this model to handle large international airports with hundreds of flights arriving and departing simultaneously. This would allow for real-time scheduling adjustments and enhanced optimization for high-density airspaces.\n",
    "\n",
    "2. Expanding Flight Phases for More Detailed Scheduling\n",
    "With greater computational power, we can expand beyond just runway operations and incorporate more detailed flight phases into the scheduling model. These may include:\n",
    "    -   Baseleg and Downwind – Managing sequencing before final approach.\n",
    "    -   Climb Phase – Optimizing the transition between takeoff and en-route flight.\n",
    "    -   Approach/Departure (TRACON) – Controls aircraft arriving/departing within 30-50 miles of the airport.\n",
    "\n",
    "3. Real-Time Adaptive Scheduling for Dynamic Environments\n",
    "As quantum computing becomes faster and more robust, the system can process real-time air traffic fluctuations, adjusting flight schedules dynamically in response to:\n",
    "\n",
    "    -   Weather disruptions\n",
    "    -   Emergency landings\n",
    "    -   Last-minute aircraft rerouting\n",
    "    -   Unexpected delays in takeoff or taxiing\n",
    " \n",
    "In short, as quantum computing technology progresses, the ability to handle larger scheduling problems and more detailed flight phases will revolutionize ATC efficiency. The integration of pre-ATC flight phases (baseleg, downwind, climb) and real-time scheduling will push quantum-based ATC optimization toward fully scalable, dynamic air traffic management systems. This will enhance airport throughput, reduce airspace congestion, and improve global air travel efficiency in the near future."
   ]
  },
  {
   "cell_type": "markdown",
   "metadata": {},
   "source": [
    "## Version Information"
   ]
  },
  {
   "cell_type": "code",
   "execution_count": 17,
   "metadata": {},
   "outputs": [
    {
     "name": "stdout",
     "output_type": "stream",
     "text": [
      "========== Version Information ==========\n",
      "Python              : 3.11.11 (main, Dec 11 2024, 10:28:39) [Clang 14.0.6 ]\n",
      "Operating System    : Darwin 24.3.0 (64bit)\n",
      "=========================================\n",
      "Qiskit              : 1.3.2\n",
      "qiskit_optimization : 0.6.1 \n",
      "qiskit_algorithms   : 0.3.1 \n",
      "Cplex               : 2.29.241\n",
      "=========================================\n"
     ]
    }
   ],
   "source": [
    "import sys\n",
    "import platform\n",
    "import qiskit\n",
    "import docplex\n",
    "import qiskit_optimization\n",
    "import qiskit_algorithms\n",
    "\n",
    "print(\"=\"*10 + \" Version Information \" + \"=\"*10)\n",
    "print(f\"Python              : {sys.version}\")\n",
    "print(f\"Operating System    : {platform.system()} {platform.release()} ({platform.architecture()[0]})\")\n",
    "print(\"=\"*41)\n",
    "print(f\"Qiskit              : {qiskit.__version__}\")\n",
    "print(f\"qiskit_optimization : {qiskit_optimization.__version__} \")\n",
    "print(f\"qiskit_algorithms   : {qiskit_algorithms.__version__} \")\n",
    "print(f\"Cplex               : {docplex.__version__}\")\n",
    "print(\"=\"*41)\n"
   ]
  }
 ],
 "metadata": {
  "kernelspec": {
   "display_name": ".venv",
   "language": "python",
   "name": "python3"
  },
  "language_info": {
   "codemirror_mode": {
    "name": "ipython",
    "version": 3
   },
   "file_extension": ".py",
   "mimetype": "text/x-python",
   "name": "python",
   "nbconvert_exporter": "python",
   "pygments_lexer": "ipython3",
   "version": "3.11.3"
  }
 },
 "nbformat": 4,
 "nbformat_minor": 2
}
