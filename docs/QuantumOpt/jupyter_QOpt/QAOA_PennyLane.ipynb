{
 "cells": [
  {
   "cell_type": "markdown",
   "metadata": {},
   "source": [
    "# Using QAOA with PennyLane"
   ]
  },
  {
   "cell_type": "markdown",
   "metadata": {},
   "source": [
    "In this Jupyter Note Book, we will go through how to run a QAOA problem via PennyLane step by step. PennyLane provides a couple of handy ways to define a QAOA problem that can save our time, let's explore PennyLane's potential together!"
   ]
  },
  {
   "cell_type": "markdown",
   "metadata": {},
   "source": [
    "First, we are going to learn how to set up a Hamiltonian via PennyLane. You should already know that we can use `@` as a tensor product in PennyLane to help us represent the circuit more easiler. Please run the following code to construct a Hamiltonian:"
   ]
  },
  {
   "cell_type": "code",
   "execution_count": 6,
   "metadata": {},
   "outputs": [
    {
     "name": "stdout",
     "output_type": "stream",
     "text": [
      "2 * (Z(0) @ Z(1)) + -1 * (Z(0) @ Z(2)) + 3.5 * (Z(2) @ Z(1))\n",
      "[[ 4.5+0.j  0. +0.j  0. +0.j  0. +0.j  0. +0.j  0. +0.j  0. +0.j  0. +0.j]\n",
      " [ 0. +0.j -0.5+0.j  0. +0.j  0. +0.j  0. +0.j  0. +0.j  0. +0.j  0. +0.j]\n",
      " [ 0. +0.j  0. +0.j -6.5+0.j  0. +0.j  0. +0.j  0. +0.j  0. +0.j  0. +0.j]\n",
      " [ 0. +0.j  0. +0.j  0. +0.j  2.5+0.j  0. +0.j  0. +0.j  0. +0.j  0. +0.j]\n",
      " [ 0. +0.j  0. +0.j  0. +0.j  0. +0.j  2.5+0.j  0. +0.j  0. +0.j  0. +0.j]\n",
      " [ 0. +0.j  0. +0.j  0. +0.j  0. +0.j  0. +0.j -6.5+0.j  0. +0.j  0. +0.j]\n",
      " [ 0. +0.j  0. +0.j  0. +0.j  0. +0.j  0. +0.j  0. +0.j -0.5+0.j  0. +0.j]\n",
      " [ 0. +0.j  0. +0.j  0. +0.j  0. +0.j  0. +0.j  0. +0.j  0. +0.j  4.5+0.j]]\n"
     ]
    }
   ],
   "source": [
    "import pennylane as qml\n",
    "from pennylane import PauliZ\n",
    "\n",
    "# setting Hamiltonian's coefficients & PauliZ\n",
    "coefficients = [2, -1, 3.5]\n",
    "Paulis = [PauliZ(0)@PauliZ(1), PauliZ(0)@PauliZ(2), PauliZ(2)@PauliZ(1)]\n",
    "\n",
    "H = qml.Hamiltonian(coefficients, Paulis)\n",
    "\n",
    "# Print out our problem\n",
    "print(H)\n",
    "\n",
    "# Print out matrix form of our Hamiltonian\n",
    "print(qml.matrix(H))"
   ]
  },
  {
   "cell_type": "markdown",
   "metadata": {},
   "source": [
    "You should see a matrix representation of our Hamiltonian. "
   ]
  },
  {
   "cell_type": "markdown",
   "metadata": {},
   "source": [
    "Now we know how to define Hamiltonian, we can use them to create QAOA circuits with PennyLane. Let's import `qaoa` module, which will give us access to the `cost_layer` and `mixer_layer` functions. There are two kinds of layers that we will be going to define:\n",
    "\n",
    "1. The `cost_layer`: for encoding our problem.\n",
    "2. The `mixer_layr`: for $\\sum_{j} X_{j}$ = $H_{0}$, which is sometimes called the **mixer Hamiltonian** in QAOA structure.\n",
    "\n",
    "By combining these two layers, we can construct our QAOA problem and calculate its energy of the state wrt $H_1$. This can be done esaily in Pennylane through `expval` function. Please see the following code for defining our QAOA problem. "
   ]
  },
  {
   "cell_type": "markdown",
   "metadata": {},
   "source": [
    "The following code consist of these elements:\n",
    "\n",
    "1. Defining our $H_{0}$ as $X_{0} + X_{1}$ with `qml.PauliX(0) + qml.PauliX(1)`.\n",
    "2. Defining $H_1$ by using `1.0*qml.PauliZ(0) @ qml.PauliZ(1)`. \n",
    "    - 1.0 coefficient must be included to complete the tensor product to convert to Hamiltonian object.\n",
    "3. The `energy` function only receives as parameters the angles for the rotation in the QAOA curcuit.\n",
    "4. We declared `p` as a glabal variable since we want to optimiza `energy` wrt its parameters and **`p`** is not something we want to optimize.\n",
    "5. The exponentials for $H_1$ and $H_0$ receive their parameters from the `angles` list.\n",
    "6. If `angles` is `[1.0, 2.0, 3.0, 4.0]`, then we would have $\\beta_{1} = 1.0$, $\\gamma_{2} = 2.0$, $\\beta_{2} = 3.0$, and $\\gamma_{2} = 4.0$.\n"
   ]
  },
  {
   "cell_type": "code",
   "execution_count": 19,
   "metadata": {},
   "outputs": [],
   "source": [
    "from pennylane import qaoa\n",
    "\n",
    "# Define H0 and H1\n",
    "H0 = qml.PauliX(0) + qml.PauliX(1)\n",
    "H1 = 1.0*qml.PauliZ(0) @ qml.PauliZ(1) # 1.0 coefficient must be included to complete the tensor product to convert to Hamiltonian object.\n",
    "\n",
    "wires = range(2)\n",
    "dev = qml.device(\"default.qubit\", wires = wires)\n",
    "\n",
    "# set p = 2.\n",
    "p = 2\n",
    "\n",
    "@qml.qnode(dev)\n",
    "def energy(angles):\n",
    "    for w in wires:\n",
    "        qml.Hadamard(wires=w)\n",
    "    for i in range(p):\n",
    "        # Both H0 and H1 receive their parameters from the `angle` list.\n",
    "        qaoa.cost_layer(angles[2*i+1], H1)\n",
    "        qaoa.mixer_layer(angles[2*i], H0)\n",
    "    return qml.expval(H1)\n"
   ]
  },
  {
   "cell_type": "markdown",
   "metadata": {},
   "source": [
    " Now, let's run the optimization via the following code:"
   ]
  },
  {
   "cell_type": "code",
   "execution_count": 23,
   "metadata": {},
   "outputs": [
    {
     "name": "stdout",
     "output_type": "stream",
     "text": [
      "Optimal angles [0.78884013 0.71892439 1.17959579 1.28138806]\n"
     ]
    }
   ],
   "source": [
    "from pennylane import numpy as np\n",
    "\n",
    "# Choose a optimizer\n",
    "optimzer = qml.GradientDescentOptimizer()\n",
    "# Define\n",
    "steps = 20\n",
    "# Initial angles\n",
    "angles = np.array([1.0,1.0,1.0,1.0], requires_grad = True)\n",
    "\n",
    "for i in range(steps):\n",
    "    angles = optimzer.step(energy, angles)\n",
    "\n",
    "print(\"Optimal angles\", angles)"
   ]
  },
  {
   "cell_type": "markdown",
   "metadata": {},
   "source": [
    "The result shows that the optimal parameters [$\\beta_{1}$, $\\gamma_{1}$, $\\beta_{2}$, $\\gamma_{2}$].\n",
    "\n",
    "One of the useful function that PennyLane provides is it ability to automatically calculate the deritative of the object function. To use this, we need to ser `requires_grad = TRUE` when defining the initail angles."
   ]
  },
  {
   "cell_type": "markdown",
   "metadata": {},
   "source": [
    "We can now sample from the QAOA circuit with the parameters that we have found to obtain condidate to our problem. Let's run the following code:"
   ]
  },
  {
   "cell_type": "code",
   "execution_count": 24,
   "metadata": {},
   "outputs": [
    {
     "name": "stdout",
     "output_type": "stream",
     "text": [
      "[[0 1]\n",
      " [0 1]\n",
      " [1 0]\n",
      " [0 1]\n",
      " [0 1]]\n"
     ]
    }
   ],
   "source": [
    "@qml.qnode(dev)\n",
    "def sample_solutions(angles):\n",
    "    for w in wires:\n",
    "        qml.Hadamard(wires=w)\n",
    "    for i in range(p):\n",
    "        # Both H0 and H1 receive their parameters from the `angle` list.\n",
    "        qaoa.cost_layer(angles[2*i+1], H1)\n",
    "        qaoa.mixer_layer(angles[2*i], H0)\n",
    "    return qml.sample()\n",
    "\n",
    "print(sample_solutions(angles, shots = 5))"
   ]
  },
  {
   "cell_type": "markdown",
   "metadata": {},
   "source": [
    "You can get a list of state results show the ground states of $Z_{0}Z_{1}$."
   ]
  },
  {
   "cell_type": "markdown",
   "metadata": {},
   "source": [
    "# Summary"
   ]
  },
  {
   "cell_type": "markdown",
   "metadata": {},
   "source": [
    "You know how to run a QAOA problem on PennyLane and here are what you have learned so far:\n",
    "\n",
    "1. How to set up Hamiltonian in PennyLane.\n",
    "2. You know that PennyLane takes `angles` as input for Hamiltonian parameters.\n",
    "3. You can choose different classical optimizer that fit the best to your model.\n",
    "4. You know that PennyLane can do differentiation automatically by setting the correct code. \n"
   ]
  }
 ],
 "metadata": {
  "kernelspec": {
   "display_name": "pcchouCR97",
   "language": "python",
   "name": "python3"
  },
  "language_info": {
   "codemirror_mode": {
    "name": "ipython",
    "version": 3
   },
   "file_extension": ".py",
   "mimetype": "text/x-python",
   "name": "python",
   "nbconvert_exporter": "python",
   "pygments_lexer": "ipython3",
   "version": "3.13.1"
  }
 },
 "nbformat": 4,
 "nbformat_minor": 2
}
