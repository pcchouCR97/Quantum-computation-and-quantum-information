{
 "cells": [
  {
   "cell_type": "markdown",
   "metadata": {},
   "source": [
    "# Using VQE with Qiskit"
   ]
  },
  {
   "cell_type": "markdown",
   "metadata": {},
   "source": [
    "In this Jupyter notebook, we are going to demonstrate how to use VQE (Variational Quantum Eigensolver) on both simulator and real quantum machine.\n",
    "\n",
    "We will consider a simple quantum chemistry problem. We will imagine that we have two atoms of hydrogen forming an $H_2$ moledule and that we want to compute its ground state and its energy. We will accomplish this by using Qiskit Nature package."
   ]
  },
  {
   "cell_type": "markdown",
   "metadata": {},
   "source": [
    "List of content:\n",
    "\n",
    "1.  [Finding the ground state](#1---finding-the-ground-state)\n",
    "2.  [Finding excited states with Qiskit](#2---finding-excited-states-with-qiskit)\n",
    "3.  [Molecular problems](#3---molecular-problems)\n",
    "4.  [Running VQE on quantum computers](#4---running-vqe-on-quantum-computers)"
   ]
  },
  {
   "cell_type": "markdown",
   "metadata": {},
   "source": [
    "## 1.   Finding the ground state"
   ]
  },
  {
   "cell_type": "markdown",
   "metadata": {},
   "source": [
    "### Hamiltonians\n",
    "\n",
    "The Hamiltonians that we have considered so far are called **qubit Hamiltonian**, while the one that we need to describe the energy of the $H_2$ molecule is called a **fermionic Hamiltonian**.\n",
    "\n",
    "To obtain the fermionic Hamiltonian for the dihydrogen molecule with Qiskit, we need to install the `Qiskit Nature package` and `pyscf` library, which is used for the computational chemistry calculations. "
   ]
  },
  {
   "cell_type": "markdown",
   "metadata": {},
   "source": [
    "### Packages\n",
    "Please run the following code incase you haven't installed `Qiskit Nature package` yet.\n",
    "1. Qiskit Nature\n",
    "    -   Installation: https://qiskit-community.github.io/qiskit-nature/getting_started.html\n",
    "    -   Overview: https://qiskit-community.github.io/qiskit-nature/index.html\n",
    "2. PySCF:\n",
    "    -   Installation: https://pyscf.org/install.html#install-with-pip\n",
    "    -   Quickstart: https://pyscf.org/index.html\n"
   ]
  },
  {
   "cell_type": "code",
   "execution_count": 1,
   "metadata": {},
   "outputs": [],
   "source": [
    "#! pip install qiskit-nature\n",
    "#! pip install --prefer-binary pyscf"
   ]
  },
  {
   "cell_type": "markdown",
   "metadata": {},
   "source": [
    "We first define out molecule. Our molecule have two hydrogen atoms located at coordinates (0,0,-0.37) and (0,0,0.37)(measured in angstroms), which is close to an equilibrium state for this molecle. We are using the default parameters, such as establishing that the molecule is not charged. Then we defin an electronic structure problem by using `PySCF` library. This library helps us computing the fermionic Hamiltonian taht takes into account the different possible configurations for the electrons of the two hydrogen atoms. This is accomplished by **second quantization**."
   ]
  },
  {
   "cell_type": "markdown",
   "metadata": {},
   "source": [
    "### Getting Start: Obtaining an initial Hartree-Fock solution"
   ]
  },
  {
   "cell_type": "markdown",
   "metadata": {},
   "source": [
    "Reference: \n",
    "1. [Tutorial: Electronic structure (Qiskit Nature 0.7.2)](https://qiskit-community.github.io/qiskit-nature/tutorials/01_electronic_structure.html)"
   ]
  },
  {
   "cell_type": "code",
   "execution_count": 2,
   "metadata": {},
   "outputs": [
    {
     "name": "stdout",
     "output_type": "stream",
     "text": [
      "<qiskit_nature.second_q.problems.electronic_structure_problem.ElectronicStructureProblem object at 0x11f016a50>\n"
     ]
    }
   ],
   "source": [
    "from qiskit_nature.units import DistanceUnit\n",
    "from qiskit_nature.second_q.drivers import PySCFDriver\n",
    "\n",
    "# Use PySCF, a classical computational chemistry software\n",
    "# package, to compute the one-body and two-body integrals in\n",
    "# electronic-orbital basis, necessary to form the Fermionic operator\n",
    "driver = PySCFDriver(\n",
    "    atom=\"H 0 0 -.37; H 0 0 0.37\",\n",
    "    basis=\"sto3g\",\n",
    "    charge=0,\n",
    "    spin=0,\n",
    "    unit=DistanceUnit.ANGSTROM,\n",
    ")\n",
    "\n",
    "problem = driver.run()\n",
    "print(problem)"
   ]
  },
  {
   "cell_type": "markdown",
   "metadata": {},
   "source": [
    "Running this driver, will yield an `ElectronicStructureProblem`, Qiskit Nature’s representation of the electronic structure problem which we are interested in solving. For further information about the drivers, see https://qiskit-community.github.io/qiskit-nature/apidocs/qiskit_nature.second_q.drivers.html"
   ]
  },
  {
   "cell_type": "markdown",
   "metadata": {},
   "source": [
    "### The ElectronicStructureProblem and its components"
   ]
  },
  {
   "cell_type": "code",
   "execution_count": 3,
   "metadata": {},
   "outputs": [
    {
     "name": "stdout",
     "output_type": "stream",
     "text": [
      "Polynomial Tensor\n",
      " \"+-\":\n",
      "array([[-1.25330979e+00, -2.63594031e-16],\n",
      "       [-2.58579021e-16, -4.75068849e-01]])\n",
      " \"++--\":\n",
      "array([ 6.74755927e-01, -2.94385769e-17,  1.81210462e-01,  6.63711401e-01,\n",
      "        3.72896665e-16,  6.97651504e-01])\n"
     ]
    }
   ],
   "source": [
    "hamiltonian = problem.hamiltonian\n",
    "\n",
    "coefficients = hamiltonian.electronic_integrals\n",
    "print(coefficients.alpha)\n"
   ]
  },
  {
   "cell_type": "code",
   "execution_count": 4,
   "metadata": {},
   "outputs": [
    {
     "name": "stdout",
     "output_type": "stream",
     "text": [
      "Fermionic Operator\n",
      "number spin orbitals=4, number terms=36\n",
      "  -1.2533097866459777 * ( +_0 -_0 )\n",
      "+ -0.4750688487721779 * ( +_1 -_1 )\n",
      "+ -1.2533097866459777 * ( +_2 -_2 )\n",
      "+ -0.4750688487721779 * ( +_3 -_3 )\n",
      "+ 0.33737796340722426 * ( +_0 +_0 -_0 -_0 )\n",
      "+ 0.33185570067540693 * ( +_0 +_1 -_1 -_0 )\n",
      "+ 0.33737796340722426 * ( +_0 +_2 -_2 -_0 )\n",
      "+ 0.33185570067540693 * ( +_0 +_3 -_3 -_0 )\n",
      "+ 0.09060523100759854 * ( +_0 +_0 -_1 -_1 )\n",
      "+ 0.09060523100759854 * ( +_0 +_1 -_0 -_1 )\n",
      "+ 0.09060523100759854 * ( +_0 +_2 -_3 -_1 )\n",
      "+ 0.09060523100759854 * ( +_0 +_3 -_2 -_1 )\n",
      "+ 0.09060523100759854 * ( +_1 +_0 -_1 -_0 )\n",
      "+ 0.09060523100759854 * ( +_1 +_1 -_0 -_0 )\n",
      "+ 0.09060523100759854 * ( +_1 +_2 -_3 -_0 )\n",
      "+ 0.09060523100759854 * ( +_1 +_3 -_2 -_0 )\n",
      "+ 0.33185570067540693 * ( +_1 +_0 -_0 -_1 )\n",
      "+ 0.34882575224523166 * ( +_1 +_1 -_1 -_1 )\n",
      "+ 0.33185570067540693 * ( +_1 +_2 -_2 -_1 )\n",
      "+ 0.34882575224523166 * ( +_1 +_3 -_3 -_1 )\n",
      "+ 0.33737796340722426 * ( +_2 +_0 -_0 -_2 )\n",
      "+ 0.33185570067540693 * ( +_2 +_1 -_1 -_2 )\n",
      "+ 0.33737796340722426 * ( +_2 +_2 -_2 -_2 )\n",
      "+ 0.33185570067540693 * ( +_2 +_3 -_3 -_2 )\n",
      "+ 0.09060523100759854 * ( +_2 +_0 -_1 -_3 )\n",
      "+ 0.09060523100759854 * ( +_2 +_1 -_0 -_3 )\n",
      "+ 0.09060523100759854 * ( +_2 +_2 -_3 -_3 )\n",
      "+ 0.09060523100759854 * ( +_2 +_3 -_2 -_3 )\n",
      "+ 0.09060523100759854 * ( +_3 +_0 -_1 -_2 )\n",
      "+ 0.09060523100759854 * ( +_3 +_1 -_0 -_2 )\n",
      "+ 0.09060523100759854 * ( +_3 +_2 -_3 -_2 )\n",
      "+ 0.09060523100759854 * ( +_3 +_3 -_2 -_2 )\n",
      "+ 0.33185570067540693 * ( +_3 +_0 -_0 -_3 )\n",
      "+ 0.34882575224523166 * ( +_3 +_1 -_1 -_3 )\n",
      "+ 0.33185570067540693 * ( +_3 +_2 -_2 -_3 )\n",
      "+ 0.34882575224523166 * ( +_3 +_3 -_3 -_3 )\n"
     ]
    }
   ],
   "source": [
    "fermionic_op = hamiltonian.second_q_op()\n",
    "print(fermionic_op)"
   ]
  },
  {
   "cell_type": "markdown",
   "metadata": {},
   "source": [
    "This is a truncated view of the fermionic Hamiltonian, invloving something called **creation** and **annihilation** operators that describe how electrons move from one orbital to another."
   ]
  },
  {
   "cell_type": "markdown",
   "metadata": {},
   "source": [
    "### Mapping\n",
    "To use the quantum computer, we need to transform the fermionic Hamiltonian into a qubit Hamiltonian, involving Pauli gates. See [references](#references) for more info."
   ]
  },
  {
   "cell_type": "code",
   "execution_count": 5,
   "metadata": {},
   "outputs": [
    {
     "name": "stdout",
     "output_type": "stream",
     "text": [
      "Qubit Hamiltonian:\n",
      "SparsePauliOp(['IIII', 'IIIZ', 'IIZI', 'IZII', 'ZIII', 'IIZZ', 'IZIZ', 'ZIIZ', 'YYYY', 'XXYY', 'YYXX', 'XXXX', 'IZZI', 'ZIZI', 'ZZII'],\n",
      "              coeffs=[-0.81217061+0.j,  0.17141283+0.j, -0.22343154+0.j,  0.17141283+0.j,\n",
      " -0.22343154+0.j,  0.12062523+0.j,  0.16868898+0.j,  0.16592785+0.j,\n",
      "  0.04530262+0.j,  0.04530262+0.j,  0.04530262+0.j,  0.04530262+0.j,\n",
      "  0.16592785+0.j,  0.17441288+0.j,  0.12062523+0.j])\n"
     ]
    }
   ],
   "source": [
    "# setup the qubit mapper\n",
    "from qiskit_nature.second_q.mappers import JordanWignerMapper\n",
    "\n",
    "mapper = JordanWignerMapper()\n",
    "qhamiltonian = mapper.map(fermionic_op)\n",
    "print(\"Qubit Hamiltonian:\")\n",
    "print(qhamiltonian)"
   ]
  },
  {
   "cell_type": "markdown",
   "metadata": {},
   "source": [
    "Now we have successfully transformed fermionic Hamiltonian into our familiar qubit Hamiltonian! We can observe that there are 4 qubits , involving tensor products of $I$, $X$, $Y$, and $Z$ gates."
   ]
  },
  {
   "cell_type": "code",
   "execution_count": 6,
   "metadata": {},
   "outputs": [],
   "source": [
    "# setup the classical optimizer for the VQE\n",
    "from qiskit_algorithms.optimizers import L_BFGS_B, COBYLA, SLSQP\n",
    "\n",
    "optimizer_L_BFGS_B = L_BFGS_B()\n",
    "optimizer_COBYLA = COBYLA()\n",
    "optimizer_SLSQP = SLSQP()"
   ]
  },
  {
   "cell_type": "markdown",
   "metadata": {},
   "source": [
    "### The Solvers"
   ]
  },
  {
   "cell_type": "code",
   "execution_count": 7,
   "metadata": {},
   "outputs": [
    {
     "name": "stderr",
     "output_type": "stream",
     "text": [
      "/var/folders/kz/_mr3r3b55qd2r5hd025yvpfw0000gn/T/ipykernel_77405/2872279188.py:4: DeprecationWarning: The class ``qiskit.primitives.estimator.Estimator`` is deprecated as of qiskit 1.2. It will be removed no earlier than 3 months after the release date. All implementations of the `BaseEstimatorV1` interface have been deprecated in favor of their V2 counterparts. The V2 alternative for the `Estimator` class is `StatevectorEstimator`.\n",
      "  estimator = Estimator()\n"
     ]
    }
   ],
   "source": [
    "# setup the estimator primitive for the VQE\n",
    "from qiskit.primitives import Estimator\n",
    "\n",
    "estimator = Estimator()"
   ]
  },
  {
   "cell_type": "markdown",
   "metadata": {},
   "source": [
    "### Using VQE with qubit Hamiltonians"
   ]
  },
  {
   "cell_type": "code",
   "execution_count": 8,
   "metadata": {},
   "outputs": [
    {
     "data": {
      "image/png": "[encoded data removed]",
      "text/plain": [
       "<Figure size 872.774x367.889 with 1 Axes>"
      ]
     },
     "execution_count": 8,
     "metadata": {},
     "output_type": "execute_result"
    }
   ],
   "source": [
    "from qiskit.circuit.library import EfficientSU2\n",
    "\n",
    "ansatz_Eff = EfficientSU2(num_qubits=4, reps=1, entanglement=\"linear\", insert_barriers=True)\n",
    "ansatz_Eff.decompose().draw(\"mpl\")"
   ]
  },
  {
   "cell_type": "markdown",
   "metadata": {},
   "source": [
    "As you can see, we are using 16 different tunable parameters, represented by $\\theta[0], \\cdots, \\theta[15]$ in the figure."
   ]
  },
  {
   "cell_type": "code",
   "execution_count": 9,
   "metadata": {},
   "outputs": [],
   "source": [
    "# set up our actual VQE instance with EfficientU2 solver\n",
    "from qiskit_algorithms import VQE\n",
    "\n",
    "vqe_optimizer_SLSQP = VQE(estimator, ansatz_Eff, optimizer_SLSQP)"
   ]
  },
  {
   "cell_type": "markdown",
   "metadata": {},
   "source": [
    "We can try to use `compute_minimum_eigenvalue` and `NumPyMinimumEigensolver` to solve our problem by the following two examples. We start with the `compute_minimum_eigenvalue` first."
   ]
  },
  {
   "cell_type": "code",
   "execution_count": 10,
   "metadata": {},
   "outputs": [
    {
     "name": "stdout",
     "output_type": "stream",
     "text": [
      "{   'aux_operators_evaluated': None,\n",
      "    'cost_function_evals': 478,\n",
      "    'eigenvalue': np.float64(-1.8318632765251293),\n",
      "    'optimal_circuit': <qiskit.circuit.library.n_local.efficient_su2.EfficientSU2 object at 0x120d79bd0>,\n",
      "    'optimal_parameters': {   ParameterVectorElement(θ[12]): np.float64(2.751523847789954),\n",
      "                              ParameterVectorElement(θ[3]): np.float64(-1.5706955122871569),\n",
      "                              ParameterVectorElement(θ[2]): np.float64(1.0654359386453427),\n",
      "                              ParameterVectorElement(θ[13]): np.float64(-1.2181093289273772),\n",
      "                              ParameterVectorElement(θ[0]): np.float64(3.141592653589793),\n",
      "                              ParameterVectorElement(θ[15]): np.float64(-2.9413089677398734),\n",
      "                              ParameterVectorElement(θ[7]): np.float64(-3.141592653589793),\n",
      "                              ParameterVectorElement(θ[14]): np.float64(3.1264224104305742),\n",
      "                              ParameterVectorElement(θ[4]): np.float64(1.117173931225686),\n",
      "                              ParameterVectorElement(θ[11]): np.float64(-1.570633725382053),\n",
      "                              ParameterVectorElement(θ[5]): np.float64(-3.141592653589793),\n",
      "                              ParameterVectorElement(θ[9]): np.float64(3.141592653589793),\n",
      "                              ParameterVectorElement(θ[1]): np.float64(-0.0008984959367315058),\n",
      "                              ParameterVectorElement(θ[8]): np.float64(-0.00011990857708739323),\n",
      "                              ParameterVectorElement(θ[10]): np.float64(1.0653944129600097),\n",
      "                              ParameterVectorElement(θ[6]): np.float64(0.0014324083643769102)},\n",
      "    'optimal_point': array([ 3.14159265e+00, -8.98495937e-04,  1.06543594e+00, -1.57069551e+00,\n",
      "        1.11717393e+00, -3.14159265e+00,  1.43240836e-03, -3.14159265e+00,\n",
      "       -1.19908577e-04,  3.14159265e+00,  1.06539441e+00, -1.57063373e+00,\n",
      "        2.75152385e+00, -1.21810933e+00,  3.12642241e+00, -2.94130897e+00]),\n",
      "    'optimal_value': np.float64(-1.8318632765251293),\n",
      "    'optimizer_evals': None,\n",
      "    'optimizer_result': <qiskit_algorithms.optimizers.optimizer.OptimizerResult object at 0x120ae2f90>,\n",
      "    'optimizer_time': 2.2097599506378174}\n"
     ]
    }
   ],
   "source": [
    "result = vqe_optimizer_SLSQP.compute_minimum_eigenvalue(qhamiltonian)\n",
    "print(result)"
   ]
  },
  {
   "cell_type": "markdown",
   "metadata": {},
   "source": [
    "As you can see, we have obtain the optimal values for the circuit parameters, the state that is generated with those parameters (the `eigenstate` field) and what we were looking for: the energy state, which ihappens to be about $-1.8524$ hartree (the unit of energy commonly used in molecular orbital calculation). This means that we have solved our problem. How can we make sure these values are correct?\n",
    "\n",
    "In this case, since we have only used 4 qubits, therefore, we can check directly with the classical solver,`NumPyMinimumEigensolver`, that finds the exact ground state.\n",
    "\n",
    "Next we try the `NumPyMinimumEigensolver`."
   ]
  },
  {
   "cell_type": "code",
   "execution_count": 11,
   "metadata": {},
   "outputs": [
    {
     "name": "stdout",
     "output_type": "stream",
     "text": [
      "{   'aux_operators_evaluated': None,\n",
      "    'eigenstate': Statevector([ 3.05311332e-16+7.04731412e-19j,\n",
      "             -2.22044605e-16-1.11022302e-16j,\n",
      "              3.46944695e-17-8.32667268e-17j,\n",
      "              1.11022302e-16-2.77555756e-17j,\n",
      "              2.77555756e-17-4.16333634e-17j,\n",
      "             -6.67316913e-01-7.36221442e-01j,\n",
      "             -1.11022302e-16-1.66533454e-16j,\n",
      "             -9.71445147e-17+1.38777878e-16j,\n",
      "             -1.66533454e-16-3.46944695e-17j,\n",
      "              9.62771529e-17+1.38777878e-16j,\n",
      "              7.55826341e-02+8.33870007e-02j,\n",
      "             -1.52655666e-16+4.71844785e-16j,\n",
      "             -1.66533454e-16+8.32667268e-17j,\n",
      "              2.77555756e-17-1.66533454e-16j,\n",
      "             -4.44089210e-16+5.55111512e-16j,\n",
      "             -2.49800181e-16+1.66533454e-16j],\n",
      "            dims=(2, 2, 2, 2)),\n",
      "    'eigenvalue': np.float64(-1.8523881735695835)}\n"
     ]
    }
   ],
   "source": [
    "from qiskit_algorithms.minimum_eigensolvers import NumPyMinimumEigensolver\n",
    "\n",
    "solver = NumPyMinimumEigensolver()\n",
    "result = solver.compute_minimum_eigenvalue(qhamiltonian)\n",
    "print(result)"
   ]
  },
  {
   "cell_type": "markdown",
   "metadata": {},
   "source": [
    "This is more concise than the VQE output, but the final energy is almost equal to the one we had obtained previously. Congrats! we have successfully solved a molecular problem with VQE!!"
   ]
  },
  {
   "cell_type": "markdown",
   "metadata": {},
   "source": [
    "## 2.   Finding excited states with Qiskit"
   ]
  },
  {
   "cell_type": "markdown",
   "metadata": {},
   "source": [
    "Back to the VQE page, we have already know not only how to use VQE iteratively to find the ground state, but also states of higher energy (excited states). The algorithm we are about to introduce is the ***Variational Quantum Deflation (VQD)*** and how to implement it by using Qiskit.\n",
    "\n",
    "Reference: \n",
    "1. [Qiskit VQD](https://qiskit-community.github.io/qiskit-algorithms/tutorials/04_vqd.html)\n",
    "2. [Qiskit-nature 04_excited_states_solvers.ipynb](https://github.com/qiskit-community/qiskit-nature/blob/af569523110fb88395aa9c17bc0532d9646163f8/docs/tutorials/04_excited_states_solvers.ipynb)"
   ]
  },
  {
   "cell_type": "code",
   "execution_count": 12,
   "metadata": {},
   "outputs": [
    {
     "name": "stderr",
     "output_type": "stream",
     "text": [
      "/var/folders/kz/_mr3r3b55qd2r5hd025yvpfw0000gn/T/ipykernel_77405/1466006858.py:4: DeprecationWarning: The class ``qiskit.primitives.sampler.Sampler`` is deprecated as of qiskit 1.2. It will be removed no earlier than 3 months after the release date. All implementations of the `BaseSamplerV1` interface have been deprecated in favor of their V2 counterparts. The V2 alternative for the `Sampler` class is `StatevectorSampler`.\n",
      "  sampler2 = Sampler()\n"
     ]
    }
   ],
   "source": [
    "from qiskit_algorithms.state_fidelities import ComputeUncompute\n",
    "from qiskit.primitives import Sampler\n",
    "\n",
    "sampler2 = Sampler()\n",
    "fidelity = ComputeUncompute(sampler2)"
   ]
  },
  {
   "cell_type": "code",
   "execution_count": 13,
   "metadata": {},
   "outputs": [
    {
     "name": "stderr",
     "output_type": "stream",
     "text": [
      "/var/folders/kz/_mr3r3b55qd2r5hd025yvpfw0000gn/T/ipykernel_77405/3226737995.py:7: DeprecationWarning: The class ``qiskit.primitives.estimator.Estimator`` is deprecated as of qiskit 1.2. It will be removed no earlier than 3 months after the release date. All implementations of the `BaseEstimatorV1` interface have been deprecated in favor of their V2 counterparts. The V2 alternative for the `Estimator` class is `StatevectorEstimator`.\n",
      "  estimator = Estimator())\n"
     ]
    },
    {
     "name": "stdout",
     "output_type": "stream",
     "text": [
      "{   'aux_operators_evaluated': None,\n",
      "    'cost_function_evals': array([204, 547, 823]),\n",
      "    'eigenvalues': array([-1.83186342+0.j, -1.24587581+0.j, -1.253305  +0.j]),\n",
      "    'optimal_circuits': [   <qiskit.circuit.library.n_local.efficient_su2.EfficientSU2 object at 0x120c2f9d0>,\n",
      "                            <qiskit.circuit.library.n_local.efficient_su2.EfficientSU2 object at 0x120d78f50>,\n",
      "                            <qiskit.circuit.library.n_local.efficient_su2.EfficientSU2 object at 0x120d79090>],\n",
      "    'optimal_parameters': [   {   ParameterVectorElement(θ[12]): np.float64(-1.4116592079695565),\n",
      "                                  ParameterVectorElement(θ[3]): np.float64(1.570752192086874),\n",
      "                                  ParameterVectorElement(θ[2]): np.float64(-0.63957631081702),\n",
      "                                  ParameterVectorElement(θ[13]): np.float64(-0.0349151200774026),\n",
      "                                  ParameterVectorElement(θ[0]): np.float64(-7.620858351464622e-05),\n",
      "                                  ParameterVectorElement(θ[15]): np.float64(-0.9767527436944802),\n",
      "                                  ParameterVectorElement(θ[7]): np.float64(-3.141592653589793),\n",
      "                                  ParameterVectorElement(θ[14]): np.float64(-1.50711440680488),\n",
      "                                  ParameterVectorElement(θ[4]): np.float64(-0.8149273268788126),\n",
      "                                  ParameterVectorElement(θ[11]): np.float64(1.5701473618183963),\n",
      "                                  ParameterVectorElement(θ[5]): np.float64(-1.4471541607420164),\n",
      "                                  ParameterVectorElement(θ[9]): np.float64(3.141466963055234),\n",
      "                                  ParameterVectorElement(θ[1]): np.float64(-3.141387867568042),\n",
      "                                  ParameterVectorElement(θ[8]): np.float64(3.141592653589793),\n",
      "                                  ParameterVectorElement(θ[10]): np.float64(-0.6405556639737032),\n",
      "                                  ParameterVectorElement(θ[6]): np.float64(-3.141592653589793)},\n",
      "                              {   ParameterVectorElement(θ[12]): np.float64(-0.9656204581554705),\n",
      "                                  ParameterVectorElement(θ[3]): np.float64(3.136483562076127),\n",
      "                                  ParameterVectorElement(θ[2]): np.float64(3.141592653589793),\n",
      "                                  ParameterVectorElement(θ[13]): np.float64(-0.48171339639983024),\n",
      "                                  ParameterVectorElement(θ[0]): np.float64(-1.966374775332858),\n",
      "                                  ParameterVectorElement(θ[15]): np.float64(-0.3291449119177894),\n",
      "                                  ParameterVectorElement(θ[7]): np.float64(-0.8156167687482708),\n",
      "                                  ParameterVectorElement(θ[14]): np.float64(-2.1555646099950305),\n",
      "                                  ParameterVectorElement(θ[4]): np.float64(-1.5158564553246359),\n",
      "                                  ParameterVectorElement(θ[11]): np.float64(3.141592653589793),\n",
      "                                  ParameterVectorElement(θ[5]): np.float64(-1.5108896461298735),\n",
      "                                  ParameterVectorElement(θ[9]): np.float64(-0.0002816832214784042),\n",
      "                                  ParameterVectorElement(θ[1]): np.float64(-3.140946235362168),\n",
      "                                  ParameterVectorElement(θ[8]): np.float64(3.141592653589793),\n",
      "                                  ParameterVectorElement(θ[10]): np.float64(-0.00038817039225475707),\n",
      "                                  ParameterVectorElement(θ[6]): np.float64(-1.5666245865665964)},\n",
      "                              {   ParameterVectorElement(θ[12]): np.float64(-2.10039329590607),\n",
      "                                  ParameterVectorElement(θ[3]): np.float64(1.5778006373204776),\n",
      "                                  ParameterVectorElement(θ[2]): np.float64(0.0006816236798737885),\n",
      "                                  ParameterVectorElement(θ[13]): np.float64(-0.09424157995709447),\n",
      "                                  ParameterVectorElement(θ[0]): np.float64(-0.003647982566520439),\n",
      "                                  ParameterVectorElement(θ[15]): np.float64(-0.6891040732682753),\n",
      "                                  ParameterVectorElement(θ[7]): np.float64(-3.141592653589793),\n",
      "                                  ParameterVectorElement(θ[14]): np.float64(-1.0473945812582302),\n",
      "                                  ParameterVectorElement(θ[4]): np.float64(-1.6717489070160687),\n",
      "                                  ParameterVectorElement(θ[11]): np.float64(1.5671729595688655),\n",
      "                                  ParameterVectorElement(θ[5]): np.float64(-2.5378042377006524),\n",
      "                                  ParameterVectorElement(θ[9]): np.float64(-3.141592653589793),\n",
      "                                  ParameterVectorElement(θ[1]): np.float64(-3.1338312765840297),\n",
      "                                  ParameterVectorElement(θ[8]): np.float64(3.141592653589793),\n",
      "                                  ParameterVectorElement(θ[10]): np.float64(-3.141592653589793),\n",
      "                                  ParameterVectorElement(θ[6]): np.float64(-2.8162863382456185)}],\n",
      "    'optimal_points': array([[-7.62085835e-05, -3.14138787e+00, -6.39576311e-01,\n",
      "         1.57075219e+00, -8.14927327e-01, -1.44715416e+00,\n",
      "        -3.14159265e+00, -3.14159265e+00,  3.14159265e+00,\n",
      "         3.14146696e+00, -6.40555664e-01,  1.57014736e+00,\n",
      "        -1.41165921e+00, -3.49151201e-02, -1.50711441e+00,\n",
      "        -9.76752744e-01],\n",
      "       [-1.96637478e+00, -3.14094624e+00,  3.14159265e+00,\n",
      "         3.13648356e+00, -1.51585646e+00, -1.51088965e+00,\n",
      "        -1.56662459e+00, -8.15616769e-01,  3.14159265e+00,\n",
      "        -2.81683221e-04, -3.88170392e-04,  3.14159265e+00,\n",
      "        -9.65620458e-01, -4.81713396e-01, -2.15556461e+00,\n",
      "        -3.29144912e-01],\n",
      "       [-3.64798257e-03, -3.13383128e+00,  6.81623680e-04,\n",
      "         1.57780064e+00, -1.67174891e+00, -2.53780424e+00,\n",
      "        -2.81628634e+00, -3.14159265e+00,  3.14159265e+00,\n",
      "        -3.14159265e+00, -3.14159265e+00,  1.56717296e+00,\n",
      "        -2.10039330e+00, -9.42415800e-02, -1.04739458e+00,\n",
      "        -6.89104073e-01]]),\n",
      "    'optimal_values': array([-1.83186342, -1.24587581, -1.253305  ]),\n",
      "    'optimizer_results': [   <qiskit_algorithms.optimizers.optimizer.OptimizerResult object at 0x120c2f390>,\n",
      "                             <qiskit_algorithms.optimizers.optimizer.OptimizerResult object at 0x120d787d0>,\n",
      "                             <qiskit_algorithms.optimizers.optimizer.OptimizerResult object at 0x120ad35c0>],\n",
      "    'optimizer_times': array([ 1.14658213,  6.74860024, 10.84398675])}\n"
     ]
    }
   ],
   "source": [
    "from qiskit_algorithms import VQD\n",
    "\n",
    "vqd = VQD(ansatz=ansatz_Eff,\n",
    "          optimizer=optimizer_SLSQP,\n",
    "          fidelity=fidelity,\n",
    "          k=3,\n",
    "          estimator = Estimator())\n",
    "\n",
    "result = vqd.compute_eigenvalues(qhamiltonian)\n",
    "print(result)"
   ]
  },
  {
   "cell_type": "markdown",
   "metadata": {},
   "source": [
    "The `k` parameter is the one that we use to specify the number of eigenstates.\n",
    "\n",
    "We get the ground state energy $-1.85238735+0.j$ and the first excited state energy of $-1.25330263+0.j$. Let's the first excited state energy value with the direct `NumPyEigensolver` and `ExcitedStatesEigensolver`!"
   ]
  },
  {
   "cell_type": "code",
   "execution_count": 14,
   "metadata": {},
   "outputs": [],
   "source": [
    "from qiskit_nature.second_q.algorithms  import QEOM, EvaluationRule, GroundStateEigensolver\n",
    "\n",
    "gse = GroundStateEigensolver(mapper, solver)\n",
    "# The qEOM algorithm is simply instantiated with the chosen ground state solver and Estimator primitive\n",
    "qeom_excited_states_solver = QEOM(gse, estimator, \"sd\", EvaluationRule.ALL)\n"
   ]
  },
  {
   "cell_type": "code",
   "execution_count": 15,
   "metadata": {},
   "outputs": [],
   "source": [
    "from qiskit_algorithms import NumPyEigensolver\n",
    "\n",
    "numpy_solver = NumPyEigensolver(k=2, filter_criterion=problem.get_default_filter_criterion())"
   ]
  },
  {
   "cell_type": "code",
   "execution_count": 16,
   "metadata": {},
   "outputs": [
    {
     "name": "stdout",
     "output_type": "stream",
     "text": [
      "numpy_results:\n",
      " === GROUND STATE ENERGY ===\n",
      " \n",
      "* Electronic ground state energy (Hartree): -1.85238817357\n",
      "  - computed part:      -1.85238817357\n",
      "~ Nuclear repulsion energy (Hartree): 0.715104339081\n",
      "> Total ground state energy (Hartree): -1.137283834489\n",
      " \n",
      "=== EXCITED STATE ENERGIES ===\n",
      " \n",
      "  1: \n",
      "* Electronic excited state energy (Hartree): -0.883456772052\n",
      "> Total excited state energy (Hartree): -0.168352432971\n",
      " \n",
      "=== MEASURED OBSERVABLES ===\n",
      " \n",
      "  0:  # Particles: 2.000 S: 0.000 S^2: 0.000 M: 0.000\n",
      "  1:  # Particles: 2.000 S: 0.000 S^2: 0.000 M: 0.000\n",
      " \n",
      "=== DIPOLE MOMENTS ===\n",
      " \n",
      "~ Nuclear dipole moment (a.u.): [0.0  0.0  0.0]\n",
      " \n",
      "  0: \n",
      "  * Electronic dipole moment (a.u.): [0.0  0.0  0.0]\n",
      "    - computed part:      [0.0  0.0  0.0]\n",
      "  > Dipole moment (a.u.): [0.0  0.0  0.0]  Total: 0.0\n",
      "                 (debye): [0.0  0.0  0.0]  Total: 0.0\n",
      " \n",
      "  1: \n",
      "  * Electronic dipole moment (a.u.): [0.0  0.0  0.0]\n",
      "    - computed part:      [0.0  0.0  0.0]\n",
      "  > Dipole moment (a.u.): [0.0  0.0  0.0]  Total: 0.0\n",
      "                 (debye): [0.0  0.0  0.0]  Total: 0.0\n",
      " \n",
      "\n",
      "\n",
      "\n",
      "qeom_results:\n",
      " === GROUND STATE ENERGY ===\n",
      " \n",
      "* Electronic ground state energy (Hartree): -1.85238817357\n",
      "  - computed part:      -1.85238817357\n",
      "~ Nuclear repulsion energy (Hartree): 0.715104339081\n",
      "> Total ground state energy (Hartree): -1.137283834489\n",
      " \n",
      "=== EXCITED STATE ENERGIES ===\n",
      " \n",
      "  1: \n",
      "* Electronic excited state energy (Hartree): -1.245877696083\n",
      "> Total excited state energy (Hartree): -0.530773357001\n",
      "  2: \n",
      "* Electronic excited state energy (Hartree): -0.883456772052\n",
      "> Total excited state energy (Hartree): -0.168352432971\n",
      "  3: \n",
      "* Electronic excited state energy (Hartree): -0.231961665962\n",
      "> Total excited state energy (Hartree): 0.483142673119\n",
      " \n",
      "=== MEASURED OBSERVABLES ===\n",
      " \n",
      "  0:  # Particles: 2.000 S: 0.000 S^2: 0.000 M: 0.000\n",
      "  1:  # Particles: 2.000 S: 1.000 S^2: 2.000 M: 0.000\n",
      "  2:  # Particles: 2.000 S: 0.000 S^2: 0.000 M: 0.000\n",
      "  3:  # Particles: 2.000 S: 0.000 S^2: -0.000 M: 0.000\n",
      " \n",
      "=== DIPOLE MOMENTS ===\n",
      " \n",
      "~ Nuclear dipole moment (a.u.): [0.0  0.0  0.0]\n",
      " \n",
      "  0: \n",
      "  * Electronic dipole moment (a.u.): [0.0  0.0  0.0]\n",
      "    - computed part:      [0.0  0.0  0.0]\n",
      "  > Dipole moment (a.u.): [0.0  0.0  0.0]  Total: 0.0\n",
      "                 (debye): [0.0  0.0  0.0]  Total: 0.0\n",
      " \n",
      "  1: \n",
      "  * Electronic dipole moment (a.u.): [0.0  0.0  0.0]\n",
      "    - computed part:      [0.0  0.0  0.0]\n",
      "  > Dipole moment (a.u.): [0.0  0.0  0.0]  Total: 0.0\n",
      "                 (debye): [0.0  0.0  0.0]  Total: 0.0\n",
      " \n",
      "  2: \n",
      "  * Electronic dipole moment (a.u.): [0.0  0.0  0.0]\n",
      "    - computed part:      [0.0  0.0  0.0]\n",
      "  > Dipole moment (a.u.): [0.0  0.0  0.0]  Total: 0.0\n",
      "                 (debye): [0.0  0.0  0.0]  Total: 0.0\n",
      " \n",
      "  3: \n",
      "  * Electronic dipole moment (a.u.): [0.0  0.0  0.0]\n",
      "    - computed part:      [0.0  0.0  0.0]\n",
      "  > Dipole moment (a.u.): [0.0  0.0  0.0]  Total: 0.0\n",
      "                 (debye): [0.0  0.0  0.0]  Total: 0.0\n",
      " \n"
     ]
    }
   ],
   "source": [
    "from qiskit_nature.second_q.algorithms import ExcitedStatesEigensolver\n",
    "\n",
    "numpy_excited_states_solver = ExcitedStatesEigensolver(mapper, numpy_solver)\n",
    "numpy_results = numpy_excited_states_solver.solve(problem)\n",
    "\n",
    "qeom_results = qeom_excited_states_solver.solve(problem)\n",
    "\n",
    "print(\"numpy_results:\\n\", numpy_results)\n",
    "print(\"\\n\\n\")\n",
    "print(\"qeom_results:\\n\", qeom_results)"
   ]
  },
  {
   "cell_type": "markdown",
   "metadata": {},
   "source": [
    "Here is the result from `NumPyEigensolver`:\n",
    "\n",
    "=== EXCITED STATE ENERGIES ===\n",
    "\n",
    "The 1st excited state:\n",
    "* Electronic excited state energy (Hartree): ***-0.883456772052***\n",
    "> Total excited state energy (Hartree): -0.168352432971\n",
    "\n",
    "and these are the result from `ExcitedStatesEigensolver`:\n",
    "\n",
    "=== EXCITED STATE ENERGIES ===\n",
    " \n",
    "The 1st excited state:\n",
    "* Electronic excited state energy (Hartree): -1.245877696083\n",
    "> Total excited state energy (Hartree): -0.530773357001\n",
    "\n",
    "The 2nd excited state:\n",
    "* Electronic excited state energy (Hartree): ***-0.883456772052***\n",
    "> Total excited state energy (Hartree): -0.168352432971"
   ]
  },
  {
   "cell_type": "markdown",
   "metadata": {},
   "source": [
    "## 3.   Molecular problems"
   ]
  },
  {
   "cell_type": "markdown",
   "metadata": {},
   "source": [
    "We can also use VQE directly with molecular problems that we define with the help of the Qiskit Nature utilities. For example, we can use a VQE instance to solve the electronic problem that we defined in the previous subsection."
   ]
  },
  {
   "cell_type": "markdown",
   "metadata": {},
   "source": [
    "The choose of the ansatz should take into account information from the problem domain. This is the case of the ***Unitary Coupled-Cluster Singles and Doubles*** or ***UCCSD*** ansatz, which is widely used for molecular computations. Let's construct this ansatz!"
   ]
  },
  {
   "cell_type": "code",
   "execution_count": 17,
   "metadata": {},
   "outputs": [
    {
     "data": {
      "image/png": "[encoded data removed]",
      "text/plain": [
       "<Figure size 1876.11x367.889 with 1 Axes>"
      ]
     },
     "execution_count": 17,
     "metadata": {},
     "output_type": "execute_result"
    }
   ],
   "source": [
    "# setup the ansatz for VQE\n",
    "from qiskit_nature.second_q.circuit.library import HartreeFock, UCCSD\n",
    "\n",
    "ansatz = UCCSD(\n",
    "    problem.num_spatial_orbitals,\n",
    "    problem.num_particles,\n",
    "    mapper,\n",
    "    initial_state=HartreeFock(\n",
    "        problem.num_spatial_orbitals,\n",
    "        problem.num_particles,\n",
    "        mapper,\n",
    "    ),\n",
    ")\n",
    "ansatz.decompose().draw(\"mpl\")\n"
   ]
  },
  {
   "cell_type": "markdown",
   "metadata": {},
   "source": [
    "As you can see, the ansatz invloves exponential funcitons of tensor products of Pauli matrices. There are also two $X$ gates at the beginning of the circuit that set the initial state to which the variational form is later applied. In this case, the state is called the ***Hartree-Fock*** state, again a widely used option when solving molecular problems with quantum computer."
   ]
  },
  {
   "cell_type": "markdown",
   "metadata": {},
   "source": [
    "Once we have selected out ansatz, we can define a VQE instance by the following instructions"
   ]
  },
  {
   "cell_type": "code",
   "execution_count": 18,
   "metadata": {},
   "outputs": [],
   "source": [
    "# set up our actual VQE instance\n",
    "from qiskit_algorithms import VQE\n",
    "\n",
    "vqe_optimizer_L_BFGS_B = VQE(estimator, ansatz, optimizer_L_BFGS_B)\n",
    "# ensure that the optimizer starts in the all-zero state which corresponds to\n",
    "# the Hartree-Fock starting point\n",
    "vqe_optimizer_L_BFGS_B.initial_point = [0] * ansatz.num_parameters"
   ]
  },
  {
   "cell_type": "code",
   "execution_count": 19,
   "metadata": {},
   "outputs": [
    {
     "name": "stdout",
     "output_type": "stream",
     "text": [
      "=== GROUND STATE ENERGY ===\n",
      " \n",
      "* Electronic ground state energy (Hartree): -1.85238817357\n",
      "  - computed part:      -1.85238817357\n",
      "~ Nuclear repulsion energy (Hartree): 0.715104339081\n",
      "> Total ground state energy (Hartree): -1.137283834488\n",
      " \n",
      "=== MEASURED OBSERVABLES ===\n",
      " \n",
      "  0:  # Particles: 2.000 S: 0.000 S^2: 0.000 M: 0.000\n",
      " \n",
      "=== DIPOLE MOMENTS ===\n",
      " \n",
      "~ Nuclear dipole moment (a.u.): [0.0  0.0  0.0]\n",
      " \n",
      "  0: \n",
      "  * Electronic dipole moment (a.u.): [0.0  0.0  -0.000000039235]\n",
      "    - computed part:      [0.0  0.0  -0.000000039235]\n",
      "  > Dipole moment (a.u.): [0.0  0.0  0.000000039235]  Total: 0.000000039235\n",
      "                 (debye): [0.0  0.0  0.000000099726]  Total: 0.000000099726\n",
      " \n"
     ]
    }
   ],
   "source": [
    "from qiskit_nature.second_q.algorithms import GroundStateEigensolver\n",
    "\n",
    "calc = GroundStateEigensolver(mapper, vqe_optimizer_L_BFGS_B)\n",
    "res = calc.solve(problem)\n",
    "print(res)"
   ]
  },
  {
   "cell_type": "markdown",
   "metadata": {},
   "source": [
    "We are providing the solver not only with the Hamiltonian, but with the whole problem, and it cab use that information to reconstruct the meaning of the calculations in the physical terms. For instance, we now get some bonus information such as the **total ground state energy**, which is the sum of the energy due to the electronic structure (the one that we had computed previously) and the energy due to nuclear repulsion."
   ]
  },
  {
   "cell_type": "markdown",
   "metadata": {},
   "source": [
    "## 4.   Running VQE on Quantum computers"
   ]
  },
  {
   "cell_type": "code",
   "execution_count": 20,
   "metadata": {},
   "outputs": [
    {
     "name": "stderr",
     "output_type": "stream",
     "text": [
      "/var/folders/kz/_mr3r3b55qd2r5hd025yvpfw0000gn/T/ipykernel_77405/2808333328.py:4: DeprecationWarning: The class ``qiskit.primitives.estimator.Estimator`` is deprecated as of qiskit 1.2. It will be removed no earlier than 3 months after the release date. All implementations of the `BaseEstimatorV1` interface have been deprecated in favor of their V2 counterparts. The V2 alternative for the `Estimator` class is `StatevectorEstimator`.\n",
      "  estimator_real_Q = Estimator()\n"
     ]
    }
   ],
   "source": [
    "from qiskit_ibm_runtime import QiskitRuntimeService\n",
    "from qiskit.primitives import Estimator\n",
    "\n",
    "estimator_real_Q = Estimator()"
   ]
  },
  {
   "cell_type": "code",
   "execution_count": 21,
   "metadata": {},
   "outputs": [
    {
     "name": "stdout",
     "output_type": "stream",
     "text": [
      "<IBMBackend('ibm_kyiv')>\n"
     ]
    }
   ],
   "source": [
    "# Get the real machine\n",
    "service = QiskitRuntimeService(instance=\"ibm-q/open/main\")\n",
    "backend_name = service.least_busy(operational=True, simulator=False)\n",
    "print(backend_name)"
   ]
  },
  {
   "cell_type": "code",
   "execution_count": 22,
   "metadata": {},
   "outputs": [
    {
     "name": "stdout",
     "output_type": "stream",
     "text": [
      "=== GROUND STATE ENERGY ===\n",
      " \n",
      "* Electronic ground state energy (Hartree): -1.852388173569\n",
      "  - computed part:      -1.852388173569\n",
      "~ Nuclear repulsion energy (Hartree): 0.715104339081\n",
      "> Total ground state energy (Hartree): -1.137283834488\n",
      " \n",
      "=== MEASURED OBSERVABLES ===\n",
      " \n",
      "  0:  # Particles: 2.000 S: 0.000 S^2: 0.000 M: 0.000\n",
      " \n",
      "=== DIPOLE MOMENTS ===\n",
      " \n",
      "~ Nuclear dipole moment (a.u.): [0.0  0.0  0.0]\n",
      " \n",
      "  0: \n",
      "  * Electronic dipole moment (a.u.): [0.0  0.0  -0.000000417982]\n",
      "    - computed part:      [0.0  0.0  -0.000000417982]\n",
      "  > Dipole moment (a.u.): [0.0  0.0  0.000000417982]  Total: 0.000000417982\n",
      "                 (debye): [0.0  0.0  0.000001062405]  Total: 0.000001062405\n",
      " \n"
     ]
    }
   ],
   "source": [
    "vqe_optimizer_L_BFGS_B_real_Q = VQE(estimator_real_Q, ansatz, optimizer_L_BFGS_B)\n",
    "\n",
    "solver_real_Q = GroundStateEigensolver(mapper, vqe_optimizer_L_BFGS_B_real_Q)\n",
    "res_real_Q = solver_real_Q.solve(problem)\n",
    "print(res_real_Q)"
   ]
  },
  {
   "cell_type": "markdown",
   "metadata": {},
   "source": [
    "You can see the some noise in this result."
   ]
  },
  {
   "cell_type": "markdown",
   "metadata": {},
   "source": [
    "# References\n",
    "\n",
    "[1]  [Tutorial: Electronic structure (Qiskit Nature 0.7.2)](https://qiskit-community.github.io/qiskit-nature/tutorials/01_electronic_structure.html). \\\n",
    "[2]  [Qiskit-Nature Tutorials-03_ground_state_solvers](https://github.com/qiskit-community/qiskit-nature/blob/stable/0.7/docs/tutorials/03_ground_state_solvers.ipynb). \\\n",
    "[3]  [Qiskit-Nature Getting Started](https://qiskit-community.github.io/qiskit-nature/getting_started.html)."
   ]
  },
  {
   "cell_type": "markdown",
   "metadata": {},
   "source": []
  }
 ],
 "metadata": {
  "kernelspec": {
   "display_name": "pcchouCR97",
   "language": "python",
   "name": "python3"
  },
  "language_info": {
   "codemirror_mode": {
    "name": "ipython",
    "version": 3
   },
   "file_extension": ".py",
   "mimetype": "text/x-python",
   "name": "python",
   "nbconvert_exporter": "python",
   "pygments_lexer": "ipython3",
   "version": "3.13.1"
  }
 },
 "nbformat": 4,
 "nbformat_minor": 2
}
