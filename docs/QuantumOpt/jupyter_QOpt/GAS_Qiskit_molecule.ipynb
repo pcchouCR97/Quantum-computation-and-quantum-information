{
 "cells": [
  {
   "cell_type": "markdown",
   "metadata": {},
   "source": [
    "# Using GAS with Qiskit\n",
    "\n",
    "In thie Jupyter notebook, we will learn how to use Grover Adaptive Search in Qiskit Oprimization module."
   ]
  },
  {
   "cell_type": "markdown",
   "metadata": {},
   "source": [
    "Let's start with a QUBO problem we have covered in QAOA section."
   ]
  },
  {
   "cell_type": "markdown",
   "metadata": {},
   "source": [
    "To solve this using GAS, we need to define a `GroverOptimizer` object as follows:\n",
    "\n",
    "1. GroverOptimizer: [Qiskit doc](https://qiskit-community.github.io/qiskit-optimization/stubs/qiskit_optimization.algorithms.GroverOptimizer.html). "
   ]
  },
  {
   "cell_type": "code",
   "execution_count": 1,
   "metadata": {},
   "outputs": [],
   "source": [
    "from qiskit_optimization.algorithms import GroverOptimizer\n",
    "from qiskit_optimization.problems import QuadraticProgram\n",
    "from qiskit_algorithms.utils import algorithm_globals\n",
    "from qiskit_ibm_runtime import QiskitRuntimeService # Sampler from qiskit_ibm_runtime can flag error\n",
    "from qiskit_optimization.translators import from_docplex_mp\n",
    "from qiskit.primitives import Sampler\n",
    "from docplex.mp.model import Model"
   ]
  },
  {
   "cell_type": "code",
   "execution_count": 6,
   "metadata": {},
   "outputs": [
    {
     "name": "stdout",
     "output_type": "stream",
     "text": [
      "<IBMBackend('ibm_sherbrooke')>\n"
     ]
    }
   ],
   "source": [
    "# Get the real machine\n",
    "service = QiskitRuntimeService(instance=\"ibm-q/open/main\")\n",
    "backend_name = service.least_busy(operational=True, simulator=False)\n",
    "print(backend_name)\n",
    "#backend = service.backend(backend_name, instance=\"ibm-q/open/main\")"
   ]
  },
  {
   "cell_type": "code",
   "execution_count": 7,
   "metadata": {},
   "outputs": [],
   "source": [
    "qp = QuadraticProgram()"
   ]
  },
  {
   "cell_type": "code",
   "execution_count": 8,
   "metadata": {},
   "outputs": [
    {
     "name": "stdout",
     "output_type": "stream",
     "text": [
      "Problem name: docplex_model1\n",
      "\n",
      "Minimize\n",
      "  -3*x0*x1 + 2*x0 + 2*x1\n",
      "\n",
      "Subject to\n",
      "  No constraints\n",
      "\n",
      "  Binary variables (2)\n",
      "    x0 x1\n",
      "\n"
     ]
    }
   ],
   "source": [
    "model = Model()\n",
    "x0 = model.binary_var(name=\"x0\")\n",
    "x1 = model.binary_var(name=\"x1\")\n",
    "model.minimize( 2 * x0 + 2 * x1 - 3 * x0 * x1)\n",
    "qp = from_docplex_mp(model)\n",
    "print(qp.prettyprint())"
   ]
  },
  {
   "cell_type": "code",
   "execution_count": 9,
   "metadata": {},
   "outputs": [
    {
     "name": "stderr",
     "output_type": "stream",
     "text": [
      "/var/folders/kz/_mr3r3b55qd2r5hd025yvpfw0000gn/T/ipykernel_13619/2281955874.py:4: DeprecationWarning: The class ``qiskit.primitives.sampler.Sampler`` is deprecated as of qiskit 1.2. It will be removed no earlier than 3 months after the release date. All implementations of the `BaseSamplerV1` interface have been deprecated in favor of their V2 counterparts. The V2 alternative for the `Sampler` class is `StatevectorSampler`.\n",
      "  grover_optimizer = GroverOptimizer(6, num_iterations=10, sampler=Sampler())\n"
     ]
    },
    {
     "name": "stdout",
     "output_type": "stream",
     "text": [
      "objective function value: 0.0\n",
      "variable values: x0=0.0, x1=0.0\n",
      "status: SUCCESS\n"
     ]
    }
   ],
   "source": [
    "# grover_optimizer = GroverOptimizer(6, num_iterations=10, sampler=Sampler(mode = backend)) \n",
    "# This can flag 'The instruction h on qubits (0,) is not supported by the target system. Circuits that do not match the target hardware definition are no longer supported after March 4, 2024. See the transpilation documentation (https://docs.quantum.ibm.com/guides/transpile) for instructions to transform circuits and the primitive examples (https://docs.quantum.ibm.com/guides/primitives-examples) to see this coupled with operator transformations.'\n",
    "\n",
    "grover_optimizer = GroverOptimizer(6, num_iterations=10, sampler=Sampler())\n",
    "results = grover_optimizer.solve(qp)\n",
    "print(results.prettyprint())"
   ]
  },
  {
   "cell_type": "markdown",
   "metadata": {},
   "source": [
    "Let's try $3x + 2y - 3z + 3xy$."
   ]
  },
  {
   "cell_type": "code",
   "execution_count": 10,
   "metadata": {},
   "outputs": [],
   "source": [
    "# Example 2 \n",
    "# Define one more variable\n",
    "x2 = model.binary_var(name=\"x2\")"
   ]
  },
  {
   "cell_type": "code",
   "execution_count": 11,
   "metadata": {},
   "outputs": [
    {
     "name": "stdout",
     "output_type": "stream",
     "text": [
      "Problem name: docplex_model1\n",
      "\n",
      "Minimize\n",
      "  3*x0*x1 + 3*x0 + 2*x1 - 3*x2\n",
      "\n",
      "Subject to\n",
      "  No constraints\n",
      "\n",
      "  Binary variables (3)\n",
      "    x0 x1 x2\n",
      "\n"
     ]
    },
    {
     "name": "stderr",
     "output_type": "stream",
     "text": [
      "/var/folders/kz/_mr3r3b55qd2r5hd025yvpfw0000gn/T/ipykernel_13619/4279303789.py:7: DeprecationWarning: The class ``qiskit.primitives.sampler.Sampler`` is deprecated as of qiskit 1.2. It will be removed no earlier than 3 months after the release date. All implementations of the `BaseSamplerV1` interface have been deprecated in favor of their V2 counterparts. The V2 alternative for the `Sampler` class is `StatevectorSampler`.\n",
      "  grover_optimizer = GroverOptimizer(6, num_iterations=10, sampler=Sampler())\n"
     ]
    },
    {
     "name": "stdout",
     "output_type": "stream",
     "text": [
      "objective function value: -3.0\n",
      "variable values: x0=0.0, x1=0.0, x2=1.0\n",
      "status: SUCCESS\n"
     ]
    }
   ],
   "source": [
    "# Establish the model\n",
    "model.minimize( 3 * x0 + 2 * x1 - 3 * x2 + 3 * x0 * x1)\n",
    "qp = from_docplex_mp(model)\n",
    "print(qp.prettyprint())\n",
    "\n",
    "# Find the minima\n",
    "grover_optimizer = GroverOptimizer(6, num_iterations=10, sampler=Sampler())\n",
    "results = grover_optimizer.solve(qp)\n",
    "print(results.prettyprint())"
   ]
  },
  {
   "cell_type": "code",
   "execution_count": 12,
   "metadata": {},
   "outputs": [
    {
     "name": "stdout",
     "output_type": "stream",
     "text": [
      "Problem name: docplex_model1\n",
      "\n",
      "Minimize\n",
      "  -2*x0*x2 - x1*x2 - x0 + 2*x1 - 3*x2\n",
      "\n",
      "Subject to\n",
      "  No constraints\n",
      "\n",
      "  Binary variables (3)\n",
      "    x0 x1 x2\n",
      "\n"
     ]
    },
    {
     "name": "stderr",
     "output_type": "stream",
     "text": [
      "/var/folders/kz/_mr3r3b55qd2r5hd025yvpfw0000gn/T/ipykernel_13619/1049609804.py:7: DeprecationWarning: The class ``qiskit.primitives.sampler.Sampler`` is deprecated as of qiskit 1.2. It will be removed no earlier than 3 months after the release date. All implementations of the `BaseSamplerV1` interface have been deprecated in favor of their V2 counterparts. The V2 alternative for the `Sampler` class is `StatevectorSampler`.\n",
      "  grover_optimizer = GroverOptimizer(6, num_iterations=10, sampler=Sampler())\n"
     ]
    },
    {
     "name": "stdout",
     "output_type": "stream",
     "text": [
      "objective function value: -6.0\n",
      "variable values: x0=1.0, x1=0.0, x2=1.0\n",
      "status: SUCCESS\n"
     ]
    }
   ],
   "source": [
    "# Example 3\n",
    "model.minimize(-x0 + 2 * x1 - 3 * x2 - 2 * x0 * x2 - 1 * x1 * x2)\n",
    "qp = from_docplex_mp(model)\n",
    "print(qp.prettyprint())\n",
    "\n",
    "# Find the minima\n",
    "grover_optimizer = GroverOptimizer(6, num_iterations=10, sampler=Sampler())\n",
    "results = grover_optimizer.solve(qp)\n",
    "print(results.prettyprint())"
   ]
  },
  {
   "cell_type": "markdown",
   "metadata": {},
   "source": [
    "Constrained QUBO"
   ]
  },
  {
   "cell_type": "code",
   "execution_count": 13,
   "metadata": {},
   "outputs": [
    {
     "name": "stdout",
     "output_type": "stream",
     "text": [
      "\\ This file has been generated by DOcplex\n",
      "\\ ENCODING=ISO-8859-1\n",
      "\\Problem name: CPLEX\n",
      "\n",
      "Minimize\n",
      " obj: 2 x + [ 2 x*z - 4 y*z ]/2\n",
      "Subject To\n",
      " c0: 2 x - y + z <= 2\n",
      "\n",
      "Bounds\n",
      " 0 <= x <= 1\n",
      " 0 <= y <= 1\n",
      " 0 <= z <= 1\n",
      "\n",
      "Binaries\n",
      " x y z\n",
      "End\n",
      "\n"
     ]
    }
   ],
   "source": [
    "qp = QuadraticProgram()\n",
    "qp.binary_var('x')\n",
    "qp.binary_var('y')\n",
    "qp.binary_var('z')\n",
    "qp.minimize(linear= {'x':2}, quadratic= {('x', 'z'):1, ('z', 'y'):-2})\n",
    "qp.linear_constraint(linear= {'x':2, 'y': -1, 'z':1}, sense= \"<=\", rhs = 2)\n",
    "\n",
    "print(qp.export_as_lp_string())\n",
    "#print(qp.prettyprint())"
   ]
  },
  {
   "cell_type": "code",
   "execution_count": 14,
   "metadata": {},
   "outputs": [
    {
     "name": "stdout",
     "output_type": "stream",
     "text": [
      "\\ This file has been generated by DOcplex\n",
      "\\ ENCODING=ISO-8859-1\n",
      "\\Problem name: CPLEX\n",
      "\n",
      "Minimize\n",
      " obj: - 46 x + 24 y - 24 z - 24 c0@int_slack@0 - 48 c0@int_slack@1 + [ 48 x^2\n",
      "      - 48 x*y + 50 x*z + 48 x*c0@int_slack@0 + 96 x*c0@int_slack@1 + 12 y^2\n",
      "      - 28 y*z - 24 y*c0@int_slack@0 - 48 y*c0@int_slack@1 + 12 z^2\n",
      "      + 24 z*c0@int_slack@0 + 48 z*c0@int_slack@1 + 12 c0@int_slack@0^2\n",
      "      + 48 c0@int_slack@0*c0@int_slack@1 + 48 c0@int_slack@1^2 ]/2 + 24\n",
      "Subject To\n",
      "\n",
      "Bounds\n",
      " 0 <= x <= 1\n",
      " 0 <= y <= 1\n",
      " 0 <= z <= 1\n",
      " 0 <= c0@int_slack@0 <= 1\n",
      " 0 <= c0@int_slack@1 <= 1\n",
      "\n",
      "Binaries\n",
      " x y z c0@int_slack@0 c0@int_slack@1\n",
      "End\n",
      "\n"
     ]
    }
   ],
   "source": [
    "from qiskit_optimization.converters import QuadraticProgramToQubo\n",
    "\n",
    "qp_to_qubo = QuadraticProgramToQubo()\n",
    "qubo = qp_to_qubo.convert(qp)\n",
    "print(qubo.export_as_lp_string())"
   ]
  },
  {
   "cell_type": "markdown",
   "metadata": {},
   "source": [
    "Solving QUBO"
   ]
  },
  {
   "cell_type": "code",
   "execution_count": 15,
   "metadata": {},
   "outputs": [
    {
     "name": "stderr",
     "output_type": "stream",
     "text": [
      "/var/folders/kz/_mr3r3b55qd2r5hd025yvpfw0000gn/T/ipykernel_13619/521563221.py:1: DeprecationWarning: The class ``qiskit.primitives.sampler.Sampler`` is deprecated as of qiskit 1.2. It will be removed no earlier than 3 months after the release date. All implementations of the `BaseSamplerV1` interface have been deprecated in favor of their V2 counterparts. The V2 alternative for the `Sampler` class is `StatevectorSampler`.\n",
      "  grover_optimizer = GroverOptimizer(10, num_iterations=4, sampler=Sampler())\n"
     ]
    },
    {
     "name": "stdout",
     "output_type": "stream",
     "text": [
      "objective function value: -2.0\n",
      "variable values: x=0.0, y=1.0, z=1.0, c0@int_slack@0=0.0, c0@int_slack@1=1.0\n",
      "status: SUCCESS\n"
     ]
    }
   ],
   "source": [
    "# Solving QUBO\n",
    "grover_optimizer = GroverOptimizer(10, num_iterations=4, sampler=Sampler())\n",
    "results = grover_optimizer.solve(qubo)\n",
    "print(results.prettyprint())"
   ]
  },
  {
   "cell_type": "markdown",
   "metadata": {},
   "source": [
    "Solving qp"
   ]
  },
  {
   "cell_type": "code",
   "execution_count": null,
   "metadata": {},
   "outputs": [
    {
     "name": "stderr",
     "output_type": "stream",
     "text": [
      "/var/folders/kz/_mr3r3b55qd2r5hd025yvpfw0000gn/T/ipykernel_13619/2588980930.py:1: DeprecationWarning: The class ``qiskit.primitives.sampler.Sampler`` is deprecated as of qiskit 1.2. It will be removed no earlier than 3 months after the release date. All implementations of the `BaseSamplerV1` interface have been deprecated in favor of their V2 counterparts. The V2 alternative for the `Sampler` class is `StatevectorSampler`.\n",
      "  grover_optimizer = GroverOptimizer(10, num_iterations=4, sampler=Sampler())\n"
     ]
    },
    {
     "name": "stdout",
     "output_type": "stream",
     "text": [
      "objective function value: -2.0\n",
      "variable values: x=0.0, y=1.0, z=1.0\n",
      "status: SUCCESS\n"
     ]
    }
   ],
   "source": [
    "grover_optimizer = GroverOptimizer(10, num_iterations=4, sampler=Sampler())\n",
    "results = grover_optimizer.solve(qp)\n",
    "print(results.prettyprint())"
   ]
  },
  {
   "cell_type": "markdown",
   "metadata": {},
   "source": [
    "You should get the exact result like the qubo but without slack variables."
   ]
  }
 ],
 "metadata": {
  "kernelspec": {
   "display_name": "pcchouCR97",
   "language": "python",
   "name": "python3"
  },
  "language_info": {
   "codemirror_mode": {
    "name": "ipython",
    "version": 3
   },
   "file_extension": ".py",
   "mimetype": "text/x-python",
   "name": "python",
   "nbconvert_exporter": "python",
   "pygments_lexer": "ipython3",
   "version": "3.13.1"
  }
 },
 "nbformat": 4,
 "nbformat_minor": 2
}
