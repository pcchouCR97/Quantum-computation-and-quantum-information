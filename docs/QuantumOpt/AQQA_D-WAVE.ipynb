{
 "cells": [
  {
   "cell_type": "markdown",
   "metadata": {},
   "source": [
    "# Working with D-wave\n",
    "D-Wave, the first company commercialize a quantum device that implemented quantum annealing as we have just covered. We need to keep in mind that, with these quantum computers, the evolution process will not be adiabatic in general, so there is no guarantee that the exact solution will be found in all cases.\n",
    "\n",
    "Using D-wave is easier than you think. You need to install Ocean, which is D-Wave's quantum annealing Python library, and to create a free account on D-Wave Laep, a cloud service where you can get one minute per month of free computing time on D-Wave's quantum annealers. \n",
    "\n",
    "Once you have everything set up, you can access quantum annealers to find an approximation of a solution to any combinatiorial optimiazation problem that you may have written as either an instance of finding the groud state of an Ising model or as a QUBO problem. Let's try with the MaxCut problem from QUBO first! \n",
    "\n",
    "ok let's do some review first, for the Ising model from QUBO, we have\n",
    "\n",
    "$$\n",
    "\\begin{array}{ll}\n",
    "\\text{Minimize} & -\\sum_{(j,k)\\in E} J_{jk}\\langle \\psi \\lvert Z_{j}Z_{k}\\lvert \\psi \\rangle -\\sum_{j} h_{j}\\langle \\psi \\lvert Z_{j}\\lvert \\psi \\rangle \\\\\n",
    "\\text{where} & \\lvert \\psi \\rangle \\text{is taken from the set of quantum states on} \\ n \\ \\text{qubis}\n",
    "\\end{array}\n",
    "$$\n",
    "\n",
    "and we can reduce to a 3 vertices problem to the following:\n",
    "\n",
    "$$\n",
    "\\begin{array}{ll}\n",
    "\\text{Minimize} & \\langle \\psi\\lvert(Z_{0}Z_{1}+Z_{0}Z_{2})\\lvert \\psi\\rangle = \\langle \\psi \\lvert Z_{0}Z_{1}\\lvert \\psi \\rangle + \\langle \\psi \\lvert Z_{0}Z_{2}\\lvert \\psi \\rangle,\\\\\n",
    "\\text{where} & \\lvert \\psi \\rangle \\text{is taken from the set of quantum states on 3 qubis}\n",
    "\\end{array}\n",
    "$$\n",
    "\n",
    "we can write the ground state as,\n",
    "\n",
    "$$\n",
    "Z_{0}Z_{1} + Z_{0}Z_{2} = Z \\otimes Z \\otimes I + Z \\otimes I \\otimes Z\n",
    "$$\n",
    "\n",
    "which is, of course, an Ising Hamiltonian in which $J_{01} = J_{02} = 1$ and the rest of the coefficients are $0$.\n",
    "\n",
    "Next, all we need is to tell the quantum annealer is that those are the coefficients we want to use, and then we can perfrom the annealing multiple times to obtain some resutls that will hopefully wolve our problem. To specift the problem, we can use the `dimod` package inclided in the Ocean library."
   ]
  },
  {
   "cell_type": "markdown",
   "metadata": {},
   "source": [
    "## Build a MaxCut model with dimod\n",
    "\n",
    "First, we use the function `BinaryQuadraticModel(linear, quadratic, offset, vartype)` in `dimod` object."
   ]
  },
  {
   "cell_type": "code",
   "execution_count": 3,
   "metadata": {},
   "outputs": [
    {
     "name": "stdout",
     "output_type": "stream",
     "text": [
      "The problem we are going to solve is:\n",
      "BinaryQuadraticModel({0: 0.0, 1: 0.0, 2: 0.0}, {(1, 0): 1.0, (2, 0): 1.0}, 0.0, 'SPIN')\n"
     ]
    }
   ],
   "source": [
    "import dimod\n",
    "\n",
    "J = {(0,1):1, (0,2):1}\n",
    "h = {}\n",
    "\n",
    "problem = dimod.BinaryQuadraticModel(h,J,0.0,dimod.SPIN)\n",
    "\n",
    "print(\"The problem we are going to solve is:\")\n",
    "print(problem)"
   ]
  },
  {
   "cell_type": "markdown",
   "metadata": {},
   "source": [
    "You should get the following result:\n",
    "\n",
    "`\n",
    "The problem we are going to solve is:\n",
    "BinaryQuadraticModel({0: 0.0, 1: 0.0, 2: 0.0}, {(1, 0): 1.0, (2, 0): 1.0}, 0.0, 'SPIN')\n",
    "`"
   ]
  },
  {
   "cell_type": "markdown",
   "metadata": {},
   "source": [
    "1. We used $J$ for the coefficients of the degree $2$ terms (quadratic) - `(0,1):1` sets the $J_{01}$ coefficient to 1 and `(0,2):1` sets $J_{02} = 1$ - and `h` for the linear ones.\n",
    "\n",
    "2. These parameters will be set to $0$ by `BinaryQuadraticModel()` if we don't specify.\n",
    "3. Notice that the result shows `(1,0)` and `(2,0)` that are identical to $Z_{0}Z_{1}$ and $Z_{0}Z_{2}$ since $Z_{0}Z_{1} = Z_{1}Z_{0}$ and, thus, the situation is symmetrical.\n",
    "4. We set **offset** to $0.0$, which is a constant term that can be added to the Hamiltonian.\n",
    "5. We used `dimod.SPIN` since we are working with an Ising Hamiltonian and, thus, the values of our variables are $1$ and $-1$.\n"
   ]
  },
  {
   "cell_type": "markdown",
   "metadata": {},
   "source": [
    "## Run the annealing process on one of the quantum annealers:\n",
    "\n",
    "### Modeling\n",
    "Let's break down what are going to do:\n",
    "1. We use `EmbeddingComposite()`, which allow us to **map** or **embed** our problem into the actual qubits of the annealer. (An automatically way of selecting a few qubits in the computer that will be used to represent our variables.)\n",
    "2. After mapping, we will create an object `sampler` that we then use to obtain 10 samples or possible solutions to our problem **This is where the actual execution on the actual quantum annealer happens**.\n",
    "3. Print our result, which will vary from execution to execution, **since we are using an actual quantum computer!**\n"
   ]
  },
  {
   "cell_type": "code",
   "execution_count": 6,
   "metadata": {},
   "outputs": [
    {
     "name": "stdout",
     "output_type": "stream",
     "text": [
      "The solutions that we have obtained are\n",
      "   0  1  2 energy num_oc. chain_.\n",
      "0 -1 +1 +1   -2.0       1     0.0\n",
      "1 +1 -1 -1   -2.0       9     0.0\n",
      "['SPIN', 2 rows, 10 samples, 3 variables]\n"
     ]
    }
   ],
   "source": [
    "from dwave.system import DWaveSampler\n",
    "from dwave.system import EmbeddingComposite\n",
    "\n",
    "sampler = EmbeddingComposite(DWaveSampler())\n",
    "result = sampler.sample(problem, num_reads = 10)\n",
    "\n",
    "print(\"The solutions that we have obtained are\")\n",
    "print(result)"
   ]
  },
  {
   "cell_type": "markdown",
   "metadata": {},
   "source": [
    "### Results\n",
    "You should get the result similar to this form.\n",
    "\n",
    "`\n",
    "The solutions that we have obtained are\n",
    "   0  1  2 energy num_oc. chain_.\n",
    "0 -1 +1 +1   -2.0       1     0.0\n",
    "1 +1 -1 -1   -2.0       9     0.0\n",
    "['SPIN', 2 rows, 10 samples, 3 variables]\n",
    "`"
   ]
  },
  {
   "cell_type": "markdown",
   "metadata": {},
   "source": [
    "This means that we obtained two different solutions: $z_{0} = -1$, $z_{1} = 1$, and $z_{2} = 1$, and $z_{0} = 1$, $z_{1} = -1$, and $z_{2} = -1$, both with energy $-2$; the first one was measured in $1$ of the executions and the second one was measured in $9$ of the executions. The `chain_` column shows information about the chain break in quantum annealing or related solvers. A value of 0.0 means there were no chain breaks (ideal solution). But, as you can check, these two solutions are maximum cuts in our graph.\n",
    "\n",
    "For the first result: \n",
    "\n",
    "$$\n",
    "Z_{0}\\cdot Z_{1}\\cdot I + Z_{0}\\cdot I\\cdot Z_{2} = -1\\cdot 1\\cdot 1 + 1\\cdot 1 \\cdot -1 = -2\n",
    "$$\n",
    "\n",
    "1. $Z_{0}$ = -1 is in one partition.\n",
    "2. $Z_{1}$ = 1 and $Z_{2}$ = 1 are in another partition.\n",
    "3. The edges between $Z_{0}$ and $Z_{1}$, and between $Z_{0}$ and $Z_{2}$, are cut since their spins differ."
   ]
  },
  {
   "cell_type": "markdown",
   "metadata": {},
   "source": [
    "### Additional info\n",
    "\n",
    "In addition, we can access the best solution through `result.first` and the total time what we used the quantum annealer for, with `result.info['timing][qpu_access_time]`, which is the actual time you use for your monthly credit. ***The time is in microseconds.***"
   ]
  },
  {
   "cell_type": "markdown",
   "metadata": {},
   "source": [
    "## Build a QUBO problem"
   ]
  },
  {
   "cell_type": "markdown",
   "metadata": {},
   "source": [
    "For the QUBO problems, we have to specify the linear coefficients of the quadratic terms (2 degree terms). Also, don't forget we are using binary (0,1) variables, so expression like $x_{3}^{2}$ can be simplified to $x_3$ $(1^2 = 1)$. Also we have to specify the independent coefficient. The only change is that we will use `dimod.BINARY` parameter when creating our problem with the `BinaryQuadraticModel` class."
   ]
  },
  {
   "cell_type": "markdown",
   "metadata": {},
   "source": [
    "# Using Ocean to formulate and transform optimization problems"
   ]
  },
  {
   "cell_type": "markdown",
   "metadata": {},
   "source": [
    "You are given a problem like this:\n",
    "\n",
    "$$\n",
    "\\begin{array}{ll}\n",
    "\\text{Minimize} & -5x_{0} + 3x_{1} - 2x_{2} \\\\\n",
    "\\text{subject to} & x_{0} + x_{2} \\leq 1,\\\\\n",
    "                  & 3x_{0} - x_{1} + 3x_{2} \\leq 4\\\\\n",
    "                  & x_{j} \\in \\{ 0,1 \\}, \\ \\ \\ j=0,1,2\n",
    "\\end{array}\n",
    "$$\n",
    "\n",
    "This is an obvious binary linear programming problem which we have introduced before that can be transformed into a QUBO or Icing problems by using proper slack variables and penalty terms.\n",
    "\n",
    "For the binary linear programming problem, we don't need to transform our problem into QUBO coefficients and then use them to define `BinaryQuadraticModel` manually. All we have to do is to use `ConstrainedQuadraticModel`class provided by `dimod`. To construct our binary linear programm as a `ConstrainedQuadraticModel` model, we need to do the followlings:\n",
    "\n",
    "1. `x0 = dimod.Binary(\"x0\")` \n",
    "2. `x1 = dimod.Binary(\"x1\")`\n",
    "3. `x2 = dimod.Binary(\"x2\")`\n",
    "\n",
    "These three instructions created three binary variables and we have labeled them so that we can use them in math expression directly!\n",
    "\n",
    "Note that if you don't define constraint before execute the code, dimod will assign an alphanumeric string to each constraint, you need to use `relabel_constraints` if you want to change label after."
   ]
  },
  {
   "cell_type": "code",
   "execution_count": 11,
   "metadata": {},
   "outputs": [
    {
     "name": "stdout",
     "output_type": "stream",
     "text": [
      "Our variables: Variables(['x0', 'x1', 'x2'])\n",
      "Our objective: ObjectiveView({'x0': -5.0, 'x1': 3.0, 'x2': -2.0}, {}, 0.0, {'x0': 'BINARY', 'x1': 'BINARY', 'x2': 'BINARY'})\n",
      "Our constraints: {'First constraint': Le(ConstraintView({'x0': 1.0, 'x2': 1.0}, {}, 0.0, {'x0': 'BINARY', 'x2': 'BINARY'}), np.float64(1.0)), 'Second constraint': Le(ConstraintView({'x0': 3.0, 'x1': -1.0, 'x2': 3.0}, {}, 0.0, {'x0': 'BINARY', 'x1': 'BINARY', 'x2': 'BINARY'}), np.float64(4.0))}\n"
     ]
    }
   ],
   "source": [
    "# Define binary \n",
    "x0 = dimod.Binary(\"x0\")\n",
    "x1 = dimod.Binary(\"x1\")\n",
    "x2 = dimod.Binary(\"x2\")\n",
    "\n",
    "# Use these binary in to the math expression directly!\n",
    "blp = dimod.ConstrainedQuadraticModel()\n",
    "blp.set_objective(-5*x0 + 3*x1 - 2*x2)\n",
    "blp.add_constraint(x0 + x2 <= 1, \"First constraint\")\n",
    "blp.add_constraint(3*x0 - x1 + 3*x2 <= 4, \"Second constraint\")\n",
    "\n",
    "# Inspect our model\n",
    "print(\"Our variables:\", blp.variables)\n",
    "print(\"Our objective:\", blp.objective)\n",
    "print(\"Our constraints:\", blp.constraints)\n"
   ]
  },
  {
   "cell_type": "markdown",
   "metadata": {},
   "source": [
    "You should expect the result as following:\n",
    "\n",
    "`\n",
    "Our variables: Variables(['x0', 'x1', 'x2'])\n",
    "Our objective: ObjectiveView({'x0': -5.0, 'x1': 3.0, 'x2': -2.0}, {}, 0.0, {'x0': 'BINARY', 'x1': 'BINARY', 'x2': 'BINARY'})\n",
    "Our constraints: {'First constraint': Le(ConstraintView({'x0': 1.0, 'x2': 1.0}, {}, 0.0, {'x0': 'BINARY', 'x2': 'BINARY'}), np.float64(1.0)), 'Second constraint': Le(ConstraintView({'x0': 3.0, 'x1': -1.0, 'x2': 3.0}, {}, 0.0, {'x0': 'BINARY', 'x1': 'BINARY', 'x2': 'BINARY'}), np.float64(4.0))}\n",
    "`\n",
    "\n",
    "1. `Le` stands for *less than or equal to*. \n",
    "2. You can also create quality constraints, which will belong to the `dimod.sym.Eq` class. \n",
    "3. The inequality constraint $\\geq$ belongs to `dimod.sym.Ge` objects."
   ]
  },
  {
   "cell_type": "markdown",
   "metadata": {},
   "source": [
    "## Solving constructed quadratic models with dimod"
   ]
  },
  {
   "cell_type": "markdown",
   "metadata": {},
   "source": [
    "Here we are aiming to solve the problem we just formulated by using `dimod`. To do this, we can define an assignment of values to the variables, check if it is feasible, and compute its cost for the problem defined in the previous subsection by using the following code:"
   ]
  },
  {
   "cell_type": "code",
   "execution_count": 12,
   "metadata": {},
   "outputs": [
    {
     "name": "stdout",
     "output_type": "stream",
     "text": [
      "The assignment is {'x0': 1, 'x1': 1, 'x2': 1}\n",
      "It's cost is: -4.0\n",
      "Is it feasible: False\n",
      "The violations of the constraints are: {'First constraint': np.float64(1.0), 'Second constraint': np.float64(1.0)}\n"
     ]
    }
   ],
   "source": [
    "# Check if sample1 is a feasible solution\n",
    "sample1 = {\"x0\":1, \"x1\":1, \"x2\":1}\n",
    "print(\"The assignment is\", sample1)\n",
    "print (\"It's cost is:\", blp.objective.energy(sample1))\n",
    "print (\"Is it feasible:\", blp.check_feasible(sample1))\n",
    "print(\"The violations of the constraints are:\", blp.violations(sample1))\n"
   ]
  },
  {
   "cell_type": "markdown",
   "metadata": {},
   "source": [
    "This tells us that the assignment is not feasible. The $1$s represent that left-hand side of each inequality is bigger than the right-hand side.\n",
    "\n",
    "Let's try `sample2`"
   ]
  },
  {
   "cell_type": "code",
   "execution_count": 13,
   "metadata": {},
   "outputs": [
    {
     "name": "stdout",
     "output_type": "stream",
     "text": [
      "The assignment is {'x0': 0, 'x1': 0, 'x2': 1}\n",
      "It's cost is: -2.0\n",
      "Is it feasible: True\n",
      "The violations of the constraints are: {'First constraint': np.float64(0.0), 'Second constraint': np.float64(-1.0)}\n"
     ]
    }
   ],
   "source": [
    "# Check if sample2 is a feasible solution\n",
    "sample2 = {\"x0\":0, \"x1\":0, \"x2\":1}\n",
    "print(\"The assignment is\", sample2)\n",
    "print (\"It's cost is:\", blp.objective.energy(sample2))\n",
    "print (\"Is it feasible:\", blp.check_feasible(sample2))\n",
    "print(\"The violations of the constraints are:\", blp.violations(sample2))"
   ]
  },
  {
   "cell_type": "markdown",
   "metadata": {},
   "source": [
    "The result should show that `sample2` is a feasible solution and no positive term in `violation`."
   ]
  },
  {
   "cell_type": "markdown",
   "metadata": {},
   "source": [
    "The `dimod` package also provide a brute-force solver that tries all possible assignments and sort them according to their cost, from lowest to highest. Please run the below code:"
   ]
  },
  {
   "cell_type": "code",
   "execution_count": 15,
   "metadata": {},
   "outputs": [
    {
     "name": "stdout",
     "output_type": "stream",
     "text": [
      "The list of assignments is:\n",
      "  x0 x1 x2 energy num_oc. is_sat. is_fea.\n",
      "6  1  0  1   -7.0       1 arra... np.F...\n",
      "2  1  0  0   -5.0       1 arra... np.T...\n",
      "7  1  1  1   -4.0       1 arra... np.F...\n",
      "3  1  1  0   -2.0       1 arra... np.T...\n",
      "4  0  0  1   -2.0       1 arra... np.T...\n",
      "0  0  0  0    0.0       1 arra... np.T...\n",
      "5  0  1  1    1.0       1 arra... np.T...\n",
      "1  0  1  0    3.0       1 arra... np.T...\n",
      "['INTEGER', 8 rows, 8 samples, 3 variables]\n"
     ]
    }
   ],
   "source": [
    "solver = dimod.ExactCQMSolver()\n",
    "solution = solver.sample_cqm(blp)\n",
    "print(\"The list of assignments is:\")\n",
    "print(solution)"
   ]
  },
  {
   "cell_type": "markdown",
   "metadata": {},
   "source": [
    "The first number is just an identifier of the assignment. The result also shows that if the assignemnt is feasible or not. In fact, if we execute `solution.first`, we will get:"
   ]
  },
  {
   "cell_type": "code",
   "execution_count": 17,
   "metadata": {},
   "outputs": [
    {
     "name": "stdout",
     "output_type": "stream",
     "text": [
      "Sample(sample={'x0': np.int64(1), 'x1': np.int64(0), 'x2': np.int64(1)}, energy=np.float64(-7.0), num_occurrences=np.int64(1), is_satisfied=array([False, False]), is_feasible=np.False_)\n"
     ]
    }
   ],
   "source": [
    "print(solution.first)"
   ]
  },
  {
   "cell_type": "markdown",
   "metadata": {},
   "source": [
    "This shows the first solution, which is obviously infeasible in our case.\n",
    "\n",
    "You may wonder what if I want the optimal solution? We can try `filter` method like below:"
   ]
  },
  {
   "cell_type": "code",
   "execution_count": 19,
   "metadata": {},
   "outputs": [
    {
     "name": "stdout",
     "output_type": "stream",
     "text": [
      "Sample(sample={'x0': np.int64(1), 'x1': np.int64(0), 'x2': np.int64(0)}, energy=np.float64(-5.0), num_occurrences=np.int64(1), is_satisfied=array([ True,  True]), is_feasible=np.True_)\n"
     ]
    }
   ],
   "source": [
    "feasible_sols = solution.filter(lambda s: s.is_feasible)\n",
    "print(feasible_sols.first)"
   ]
  },
  {
   "cell_type": "markdown",
   "metadata": {},
   "source": [
    "You should get the solution of $x_{0} = 1$, $x_{1} = 0$, $x_{2} = 0$ with an energy of $-5.0$ and it's a feasible assignment."
   ]
  },
  {
   "cell_type": "markdown",
   "metadata": {},
   "source": [
    "## Running constrained problems on quantum annealers\n"
   ]
  },
  {
   "cell_type": "markdown",
   "metadata": {},
   "source": [
    "To define problem on class `ConstrainedQuadraticModel` and run it on the quantum annealers, we first need to eliminate the constraints and created a `BinaryQuadraticModel` object that we can later execute on actual quantum hardware. This process can be achieved thanks to the Ocean library. Let's define a simple constrained problem with the following code:"
   ]
  },
  {
   "cell_type": "code",
   "execution_count": 22,
   "metadata": {},
   "outputs": [
    {
     "name": "stdout",
     "output_type": "stream",
     "text": [
      "BinaryQuadraticModel({'y0': -17.0, 'y1': -23.0, 'slack_v8466ba63c65c435890f38d4ac99e843e_0': -15.0, 'slack_v8466ba63c65c435890f38d4ac99e843e_1': -15.0}, {('y1', 'y0'): 20.0, ('slack_v8466ba63c65c435890f38d4ac99e843e_0', 'y0'): 10.0, ('slack_v8466ba63c65c435890f38d4ac99e843e_0', 'y1'): 20.0, ('slack_v8466ba63c65c435890f38d4ac99e843e_1', 'y0'): 10.0, ('slack_v8466ba63c65c435890f38d4ac99e843e_1', 'y1'): 20.0, ('slack_v8466ba63c65c435890f38d4ac99e843e_1', 'slack_v8466ba63c65c435890f38d4ac99e843e_0'): 10.0}, 20.0, 'BINARY')\n"
     ]
    }
   ],
   "source": [
    "# Construct a smple constrained problem\n",
    "y0, y1 = dimod.Binaries([\"y0\",\"y1\"])\n",
    "cqm = dimod.ConstrainedQuadraticModel()\n",
    "cqm.set_objective(-2*y0 - 3*y1)\n",
    "cqm.add_constraint(y0 + 2*y1 <= 2)\n",
    "\n",
    "# Make the above problem into a unconstrained problem.\n",
    "qubo, invert = dimod.cqm_to_bqm(cqm, lagrange_multiplier=5)\n",
    "print(qubo)\n"
   ]
  },
  {
   "cell_type": "markdown",
   "metadata": {},
   "source": [
    "The result may seems overwhelming at the begining, but let's break it down! \n",
    "\n",
    "1. First, we have the linear part, which starts with `y0 : -17.0`. It tells us that in the objective function, $y_0$ has coefficient of $-17$, $y_1$ has coefficient $-23$, and the two other variables ahve coefficient of $-15$. \n",
    "2. Then we look into the quadratic term. $y_{0}y_{1}$ has a coefficient of 20 and with coefficients $10$ and $20$ for the other products of two variables. \n",
    "3. Lastly, 20 is the independent term or offset.\n",
    "4. We know that all the variables are binary."
   ]
  },
  {
   "cell_type": "markdown",
   "metadata": {},
   "source": [
    "What `dimod` does is to apply transformation in section 3.4.1 : Binary linear programmig. First two slack variables are introduced to transform the inequality constraint into an equality one. Then the equality constraint is incorporated into the cose function as a penalty term with a penalty coefficient (`lagrange_multiplier` parameter).\n",
    "\n",
    "After all of these transformation, we can finally use a quantum annealer to run the problem defined in the `qubo` object!"
   ]
  },
  {
   "cell_type": "code",
   "execution_count": 23,
   "metadata": {},
   "outputs": [
    {
     "name": "stdout",
     "output_type": "stream",
     "text": [
      "The solutions that we have obtained are\n",
      "  slack_v8466ba63c65c435890f38d4ac99e843e_0 ... y1 energy num_oc. chain_.\n",
      "0                                         0 ...  1   -3.0       5     0.0\n",
      "1                                         1 ...  0   -2.0       1     0.0\n",
      "2                                         0 ...  0   -2.0       2     0.0\n",
      "3                                         0 ...  1    0.0       1     0.0\n",
      "4                                         1 ...  0    0.0       1     0.0\n",
      "['BINARY', 5 rows, 10 samples, 4 variables]\n"
     ]
    }
   ],
   "source": [
    "# Run the quantum annealer\n",
    "sampler = EmbeddingComposite(DWaveSampler())\n",
    "result = sampler.sample(qubo, num_reads = 10)\n",
    "print(\"The solutions that we have obtained are\")\n",
    "print(result)\n"
   ]
  },
  {
   "cell_type": "markdown",
   "metadata": {},
   "source": [
    "To make the result more informative. I mean we don't really care about the slack variables that we used to transform our problem. Therefore, we can use `invert` object to retrieve the solution to the original problem. "
   ]
  },
  {
   "cell_type": "code",
   "execution_count": 27,
   "metadata": {},
   "outputs": [
    {
     "name": "stdout",
     "output_type": "stream",
     "text": [
      "The solutions to the original problem are\n",
      "  y0 y1 energy num_oc. is_sat. is_fea.\n",
      "3  1  1   -5.0       1 arra... np.F...\n",
      "0  0  1   -3.0       5 arra... np.T...\n",
      "1  1  0   -2.0       1 arra... np.T...\n",
      "2  1  0   -2.0       2 arra... np.T...\n",
      "4  0  0    0.0       1 arra... np.T...\n",
      "['INTEGER', 5 rows, 10 samples, 2 variables]\n"
     ]
    }
   ],
   "source": [
    "# Use invert object to retrieve the original solution from `result`\n",
    "samples = []\n",
    "occurrences =[]\n",
    "for s in result.data():\n",
    "    samples.append(invert(s.sample))\n",
    "    occurrences.append(s.num_occurrences)\n",
    "sampleset = dimod.SampleSet.from_samples_cqm(samples, cqm, num_occurrences = occurrences)\n",
    "\n",
    "print(\"The solutions to the original problem are\")\n",
    "print(sampleset)"
   ]
  },
  {
   "cell_type": "markdown",
   "metadata": {},
   "source": [
    "Here, we created `SampleSet` object from the samples obtained with the trainsformed probelm. we also elimiate slack variables by using the `invert` method. Finally, we pass the `cqm` problem to the `from_samples_cqm` method, the energy without the penalties computed, as well as the feasibility status of each assignment. \n",
    "\n",
    "Againm lets use `filter` to get the feasible results."
   ]
  },
  {
   "cell_type": "code",
   "execution_count": 28,
   "metadata": {},
   "outputs": [
    {
     "name": "stdout",
     "output_type": "stream",
     "text": [
      "The final solutions are\n",
      "  y0 y1 energy num_oc. is_sat. is_fea.\n",
      "0  0  1   -3.0       5 arra... np.T...\n",
      "1  1  0   -2.0       3 arra... np.T...\n",
      "2  0  0    0.0       1 arra... np.T...\n",
      "['INTEGER', 3 rows, 9 samples, 2 variables]\n"
     ]
    }
   ],
   "source": [
    "final_sols = sampleset.filter(lambda s: s.is_feasible)\n",
    "final_sols = final_sols.aggregate()\n",
    "print(\"The final solutions are\")\n",
    "print(final_sols)"
   ]
  },
  {
   "cell_type": "markdown",
   "metadata": {},
   "source": [
    "# Solving optimization problems on quantum annealer with Leap"
   ]
  },
  {
   "cell_type": "markdown",
   "metadata": {},
   "source": [
    "In this section, we will learn how to have more control over what the quantum annealer is doing in order to fine the ground state of our Hamiltonians. Also, we will discuss the different types of annealers that we can access via D-Wave Leap. And also, what does `EmbeddingComposite` do."
   ]
  },
  {
   "cell_type": "markdown",
   "metadata": {},
   "source": [
    "## The Leap annealers"
   ]
  },
  {
   "cell_type": "code",
   "execution_count": null,
   "metadata": {},
   "outputs": [
    {
     "name": "stdout",
     "output_type": "stream",
     "text": [
      "BQMSolver(id='hybrid_binary_quadratic_model_version2')\n",
      "DQMSolver(id='hybrid_discrete_quadratic_model_version1')\n",
      "StructuredSolver(id='Advantage_system4.1')\n",
      "CQMSolver(id='hybrid_constrained_quadratic_model_version1')\n",
      "NLSolver(id='hybrid_nonlinear_program_version1')\n",
      "StructuredSolver(id='Advantage2_prototype2.6')\n",
      "StructuredSolver(id='Advantage_system6.4')\n"
     ]
    }
   ],
   "source": [
    "# A list of solver we can access via D-Wave\n",
    "from dwave.cloud import Client\n",
    "for solver in Client.from_config().get_solvers():\n",
    "    print(solver)"
   ]
  },
  {
   "cell_type": "markdown",
   "metadata": {},
   "source": [
    "Let's grab one of the solver and see some of the basic sampler properties."
   ]
  },
  {
   "cell_type": "code",
   "execution_count": 48,
   "metadata": {},
   "outputs": [
    {
     "name": "stdout",
     "output_type": "stream",
     "text": [
      "Name: Advantage_system4.1\n",
      "Number of qubits: 5760\n",
      "Category: qpu\n",
      "Support problems: ['ising', 'qubo']\n",
      "Topology: {'type': 'pegasus', 'shape': [16]}\n",
      "Range of reads: [1, 10000]\n"
     ]
    }
   ],
   "source": [
    "from dwave.system import DWaveSampler\n",
    "sampler = DWaveSampler(solver = 'Advantage_system4.1')\n",
    "print(\"Name:\", sampler.properties[\"chip_id\"])\n",
    "print(\"Number of qubits:\", sampler.properties[\"num_qubits\"])\n",
    "print(\"Category:\", sampler.properties[\"category\"])\n",
    "print(\"Support problems:\", sampler.properties[\"supported_problem_types\"])\n",
    "print(\"Topology:\", sampler.properties[\"topology\"])\n",
    "print(\"Range of reads:\", sampler.properties[\"num_reads_range\"])\n"
   ]
  },
  {
   "cell_type": "markdown",
   "metadata": {},
   "source": [
    "It's worth to notice that all of them accept problems in the QUBO or Ising formats but **not constrained problems** and that's why we need to transform them befoe running them in the previous section. The toloplogy refers to the way in which the qubits are connected to each other in the machine, and determines which **couplings** - or connections bewteen variables - can be used to define our problem."
   ]
  },
  {
   "cell_type": "markdown",
   "metadata": {},
   "source": [
    "## Embeddings and annealer topologies"
   ]
  },
  {
   "cell_type": "markdown",
   "metadata": {},
   "source": [
    "In current quantum computers, technological difficulties prevent qubits from being connected in an all-to-all way. In fact, each qubit is usually connected exclusively to some of its neighbours and we can only apply **two-qubit gates** or use couplings (that is, use non-zero coefficients in the Ising model) between those qubits that are actually linked. \n",
    "\n",
    "That is, the particular way in which the qubits are connected in a certain quantum chip is called its **topology** nad sometimes it is important to be aware of it when we design our algorithm or when we anneal our problems. You can find more on Ocean websute $\\rightarrow$ [QPU Topology](https://docs.ocean.dwavesys.com/en/latest/concepts/topology.html#).\n",
    "\n",
    "Here are the high level overview for the topology used in D-Wave systems:\n",
    "\n",
    "1. Chimera topology for [D-Wave 2000Q systems](https://docs.ocean.dwavesys.com/en/latest/concepts/topology.html#topology-sdk-chimera).\n",
    "\n",
    "<div>\n",
    "<img src=\"ChimeraUnitCell.png\" width=\"300\"/>\n",
    "</div>\n",
    "\n",
    "- In the topology Chimera, it has 6 qubits organized into two groups of 4 qubits each in column configuration. All the qubits in one group are connected to all the qubits in the other group, but there are no connections inside each group. \n",
    "\n",
    "2. Pegasus topology for [Advantage systems](https://docs.ocean.dwavesys.com/en/latest/concepts/topology.html#topology-sdk-pegasus).\n",
    "- Every qubits connected to up to 15 qubits, compared to the maximum of 6 in Chimera.\n",
    "- This topology also contains group of 4 qubits that are all connected to each other, making it mush easier to embed problems into it.\n",
    "\n",
    "<div>\n",
    "<img src=\"Pegasus_qubits.png\" width=\"300\"/>\n",
    "</div>\n",
    "\n",
    "3. Zephyr topology for [next-generation quantum computers](https://docs.ocean.dwavesys.com/en/latest/concepts/topology.html#topology-sdk-zephyr) currently under development.\n",
    "\n",
    "<div>\n",
    "<img src=\"zephyr_unitcell_halfqubits.png\" width=\"300\"/>\n",
    "</div>\n",
    "\n",
    "\n",
    "\n",
    "\n",
    "\n"
   ]
  },
  {
   "cell_type": "markdown",
   "metadata": {},
   "source": [
    "To obtain a list enumerating all the connections by using the `properties[\"couplers\"]` attribute as follows:"
   ]
  },
  {
   "cell_type": "code",
   "execution_count": 1,
   "metadata": {},
   "outputs": [
    {
     "ename": "NameError",
     "evalue": "name 'DWaveSampler' is not defined",
     "output_type": "error",
     "traceback": [
      "\u001b[1;31m---------------------------------------------------------------------------\u001b[0m",
      "\u001b[1;31mNameError\u001b[0m                                 Traceback (most recent call last)",
      "Cell \u001b[1;32mIn[1], line 2\u001b[0m\n\u001b[0;32m      1\u001b[0m \u001b[38;5;66;03m# Using the properties[\"couplers\"]\u001b[39;00m\n\u001b[1;32m----> 2\u001b[0m sampler \u001b[38;5;241m=\u001b[39m \u001b[43mDWaveSampler\u001b[49m(solver \u001b[38;5;241m=\u001b[39m \u001b[38;5;124m'\u001b[39m\u001b[38;5;124mAdvantage_system4.1\u001b[39m\u001b[38;5;124m'\u001b[39m)\n\u001b[0;32m      3\u001b[0m \u001b[38;5;66;03m#print(\"Couplings:\", sampler.properties[\"couplers\"])\u001b[39;00m\n",
      "\u001b[1;31mNameError\u001b[0m: name 'DWaveSampler' is not defined"
     ]
    }
   ],
   "source": [
    "# Using the properties[\"couplers\"]\n",
    "sampler = DWaveSampler(solver = 'Advantage_system4.1')\n",
    "#print(\"Couplings:\", sampler.properties[\"couplers\"])"
   ]
  },
  {
   "cell_type": "markdown",
   "metadata": {},
   "source": [
    "One more important thing to note about the Chimera topology is that it does not contain triangles. There are no three vertices all connected to each other. Thus if our Ising Hamiltonian is somethin like $Z_{0}Z_{1}+Z_{0}Z_{2}+Z_{1}Z_{2}$, we cannot directly map it to qubits in the Chimera annealer. Therefore, we need to introduce `embedding` in to our solver."
   ]
  },
  {
   "cell_type": "markdown",
   "metadata": {},
   "source": [
    "An `embedding` is a way of mapping the qubits in our problem Hamiltonian to the phsical qubits in the annealer. We can use several physical qubits (what we call a **chain**) to represent a single qubit from our problem. In that case, we want all the qubits in the same chain to have the same value when we measure them.\n",
    "\n",
    "For instance, if qubits 12 and 20 are part of the same chain, the coefficient for (12,20) could be, for instance, -15. Then, the term -15$Z_{12}Z_{20}$ will be part of the spin Hamiltonian that we want to minimize and it will make it very likely for $Z_{12}$ and $Z_{20}$ to be equal to each other, because that will make the total energy significantly slower."
   ]
  },
  {
   "cell_type": "markdown",
   "metadata": {},
   "source": [
    "You may think it's complicated to ensure every embedding is correct and each every physical qubits are used to ensure they repsent our problem properly and correctly. However, Ocean can compute embeddings automatically for us."
   ]
  },
  {
   "cell_type": "code",
   "execution_count": 51,
   "metadata": {},
   "outputs": [
    {
     "name": "stdout",
     "output_type": "stream",
     "text": [
      "The sampels obtained are:\n",
      "   0  1  2 energy num_oc. chain_.\n",
      "0 +1 +1 -1   -1.0       1     0.0\n",
      "1 +1 -1 -1   -1.0       3     0.0\n",
      "2 -1 +1 -1   -1.0       2     0.0\n",
      "3 -1 +1 +1   -1.0       1     0.0\n",
      "4 +1 -1 +1   -1.0       3     0.0\n",
      "['SPIN', 5 rows, 10 samples, 3 variables]\n",
      "The embedding used was:\n",
      "{'embedding': {1: (5519,), 0: (2684,), 2: (5504,)}, 'chain_break_method': 'majority_vote', 'embedding_parameters': {}, 'chain_strength': 1.9996979771955565}\n"
     ]
    }
   ],
   "source": [
    "# Define problem \n",
    "J = {(0,1):1, (0,2):1, (1,2):1 }\n",
    "h = {}\n",
    "triangle = dimod.BinaryQuadraticModel(h, J, 0.0, dimod.SPIN)\n",
    "\n",
    "# Embed it and solve it on the \n",
    "sampler = EmbeddingComposite(DWaveSampler(solver = 'Advantage_system4.1'))\n",
    "result = sampler.sample(triangle, num_reads= 10, return_embedding=True)\n",
    "\n",
    "print(\"The sampels obtained are:\")\n",
    "print(result)\n",
    "print(\"The embedding used was:\")\n",
    "print(result.info[\"embedding_context\"])\n",
    "                                        "
   ]
  },
  {
   "cell_type": "markdown",
   "metadata": {},
   "source": [
    "As you can see, `EmbeddingComposite` performs the embdeeing in a way that is completely transparent for the user and, in fact, the samples returned only refer to the variables in the original pronlem. However, variable `0` has been mapped to qubit 2684, variable `2` has been mapped to 5504, and `1` is represented by 5519.\n",
    "\n",
    "In addition to `EmbeddingComposite`, there are other classes in Ocean that allow you to find embeddings for your problems. \n",
    "\n",
    "1. For instance `AutoEmbeddingComposite` first tries to run the problem on the annealer directly without using embedding, and use it only if it is needed, which can save some computation time.\n",
    "2. The `FixEmbeddingComposite` class doesn't compute an embedding, but uses whichever one is passed as a parameter.\n",
    "3. The `LazyEmbeddingComposite` only computes the embedding for a problem on the first call to the `sample` method, storing it for future calls;`EmbeddingComposite`, on the other hand, recomputes the embedding with each call `sample`."
   ]
  },
  {
   "cell_type": "markdown",
   "metadata": {},
   "source": [
    "## Controlling annealing parameters\n",
    "You may remember that we have mentioned handle the adiabatic process, a system which remains in a state of minimal energy, slow enough. However, we also know that it's hard to achieve in practice os we jsut use the quantum annealing. In order to control the annealing process with D-Wave's quantum annealer, we need to do something to improve our results for our combinatorial optimization problems.\n",
    "\n",
    "1. Changing the duration of the annealing process."
   ]
  },
  {
   "cell_type": "code",
   "execution_count": 54,
   "metadata": {},
   "outputs": [
    {
     "name": "stdout",
     "output_type": "stream",
     "text": [
      "The default annealing time is 20.0 microseconds\n",
      "The possible values for the annealing time (in microseconds) lie in the range [0.5, 2000.0]\n"
     ]
    }
   ],
   "source": [
    "# Define problem\n",
    "sampler = DWaveSampler(solver  = \"Advantage_system4.1\")\n",
    "\n",
    "# Show default and possible annealing time\n",
    "print(\"The default annealing time is\", sampler.properties[\"default_annealing_time\"], \"microseconds\")\n",
    "print(\"The possible values for the annealing time (in microseconds) lie in the range\", sampler.properties[\"annealing_time_range\"])"
   ]
  },
  {
   "cell_type": "markdown",
   "metadata": {},
   "source": [
    "You should see the follwoing result\n",
    "\n",
    "`\n",
    "The default annealing time is 20.0 microseconds\n",
    "The possible values for the annealing time (in microseconds) lie in the range [0.5, 2000.0]\n",
    "`\n",
    "\n",
    "We can jsut modify the annealing in `sample` function."
   ]
  },
  {
   "cell_type": "code",
   "execution_count": 55,
   "metadata": {},
   "outputs": [
    {
     "name": "stdout",
     "output_type": "stream",
     "text": [
      "The samples obtained are    0  1  2 energy num_oc. chain_.\n",
      "0 +1 -1 -1   -1.0       3     0.0\n",
      "1 -1 -1 +1   -1.0       3     0.0\n",
      "2 +1 -1 +1   -1.0       2     0.0\n",
      "3 +1 +1 -1   -1.0       2     0.0\n",
      "['SPIN', 4 rows, 10 samples, 3 variables]\n"
     ]
    }
   ],
   "source": [
    "J = {(0,1):1, (0,2):1, (1,2):1}\n",
    "h = {}\n",
    "triangle = dimod.BinaryQuadraticModel(h,J,0.0, dimod.SPIN)\n",
    "sampler = EmbeddingComposite(DWaveSampler(solver = \"Advantage_system4.1\"))\n",
    "result = sampler.sample(triangle, num_reads = 10, annealing_time = 100)\n",
    "print(\"The samples obtained are\", result)"
   ]
  },
  {
   "cell_type": "markdown",
   "metadata": {},
   "source": [
    "To obtain better and better solutions, you may be tempted to increase the annealing time to its maximum possible value. However, the longer you run the annealing process, the higher possibility that external interactions will affect the system state and ruin your computation: you might get worse resuls instead of better one. On the other handm by increasing the annealing time, you will obvisously spend more time!\n",
    "\n",
    "Not only you can adjust the annealing time, but you can also adjust the annealing sequence. Let's refer the follwoing equation:\n",
    "\n",
    "$$\n",
    "H(t) = -A(t)\\sum_{j=0}^{n-1} X_{j} - B(t)\\sum_{j,k}Z_{j}Z_{k} - B(t)\\sum_{j}h_{j}Z_{j},\n",
    "$$\n",
    "\n",
    "which defines the Hamiltonian that we use in the annealing process.\n",
    "\n",
    "Also, you know that we only required $A$ and $B$ to satisfy that $A(0) = B(T) = 1$ and $A(t) = B(0) = 0$, where T is the total annealing time, but we did not restrict in any way how $A$ and $B$ should behave except fo these boundary conditions.\n",
    "\n",
    "While D-Wave has its [own annealing schedule (annealing section)](https://docs.dwavesys.com/docs/latest/doc_physical_properties.html?_gl=1*raiwy1*_gcl_au*MTYxMTQ1OTQuMTczNTUxMzU4OC4yMTE1MjQ0ODIzLjE3MzU1MTQyMTEuMTczNTUxNDQzMQ..*_ga*MTA5ODUxMTQ2OC4xNzM1NTEzNTg4*_ga_DXNKH9HE3W*MTczNTYwMzU4Mi44LjEuMTczNTYwMzU4NS41Ny4wLjA.), we can still modify those default schdeules by assigning the values that we want the funcitons to take at some intermediate times.\n",
    "\n",
    "Let's see what can we change:\n",
    "\n",
    "1. **Anneal fraction (s)**: \n",
    "- The first number of each pair needs to be a time value given in microseconds and the second number has to be a number between $0$ and $1$.\n",
    "- The higher the value of $s$ is, the higher the value of $B$ and the lower the value of $A$ will be. As a consequence, when $s=1$, we can interpret that $B$ is $1$ and $A$ is $0$; when $s=0$, we can interpret that $A$ is $1$ and $B$ is $0$.\n",
    "\n",
    "2. **Forward Annealing**: \n",
    "- Starts at $(0,0)$ and ends at $(T,1)$, where $T$ is the total annealing time.\n",
    "- $s$ values increase monotonically overtime.\n",
    "- Represents the standard annealing process.\n",
    "- Example: `forward_schedule = [[0.0, 1.0], [5.0, 0.25], [25, 0.75], [30, 1.0]]`.\n",
    "    - `forward_schedule = [[0.0, 1.0], [5.0, 0.25], [25, 0.75], [30, 1.0]]`\n",
    "    - `sampler = EmbeddingComposite(DWaveSampler())`\n",
    "    - `result = sampler.sample(triangle, num_reads = 10, anneal_schedule = forward_schedule)`\n",
    "\n",
    "3. **Reverse Annealing**: \n",
    "- Starts with $s=1$, decreases, and then increases back to $s=1$.\n",
    "- Requires an initial state since the ground state of the Hamiltonian is unknown.\n",
    "- ***Commonly sued to refine approximate solutions to find lower-energy configuration,*** which means we already found solution and are trying to find a better one.\n",
    "- For example, `reverse_schedule = [[0.0, 1.0], [10.0, 0.5], [20, 1.0]]`.\n",
    "- Two approaches:\n",
    "    - **Reinitialize State**: Repeats the annealing process on the same initial state by setting: `reinitialize_state = True`.\n",
    "    - **Final State Progression**: Uses the final state of one run as the initial state for the next by setting `reinitialize_state = True`."
   ]
  },
  {
   "cell_type": "markdown",
   "metadata": {},
   "source": [
    "Controlling the annealing schedule can be useful for certain problems, for instance, you know that at some points the groud state and the first excited state are closer, you may slow down the annealing process."
   ]
  },
  {
   "cell_type": "code",
   "execution_count": 56,
   "metadata": {},
   "outputs": [
    {
     "name": "stdout",
     "output_type": "stream",
     "text": [
      "The samples obtained are\n",
      "   0  1  2 energy num_oc. chain_.\n",
      "0 -1 +1 +1   -1.0       1     0.0\n",
      "1 -1 +1 +1   -1.0       1     0.0\n",
      "2 -1 -1 +1   -1.0       1     0.0\n",
      "3 -1 +1 -1   -1.0       1     0.0\n",
      "4 -1 +1 +1   -1.0       1     0.0\n",
      "5 -1 -1 +1   -1.0       1     0.0\n",
      "6 -1 +1 -1   -1.0       1     0.0\n",
      "7 -1 -1 +1   -1.0       1     0.0\n",
      "8 +1 -1 -1   -1.0       1     0.0\n",
      "9 +1 -1 +1   -1.0       1     0.0\n",
      "['SPIN', 10 rows, 10 samples, 3 variables]\n"
     ]
    }
   ],
   "source": [
    "# Reverse schedule\n",
    "reverse_schedule = [[0.0, 1.0], [10.0, 0.5], [20, 1.0]]\n",
    "initial_state = {0:1, 1:1, 2:1}\n",
    "sample = EmbeddingComposite(DWaveSampler())\n",
    "result = sampler.sample(triangle, num_reads = 10,\n",
    "                        anneal_schedule = reverse_schedule,\n",
    "                        reinitialize_state = False, initial_state = initial_state)\n",
    "print(\"The samples obtained are\")\n",
    "print(result)"
   ]
  },
  {
   "cell_type": "markdown",
   "metadata": {},
   "source": [
    "Congrats! you know how to control both the annealing time and the schedule! Let's look into why it's important to set the coupling strengths and the penalty terms wisely!"
   ]
  },
  {
   "cell_type": "markdown",
   "metadata": {},
   "source": [
    "## The importance of coupling strengths"
   ]
  },
  {
   "cell_type": "markdown",
   "metadata": {},
   "source": [
    "You know that there are a couple of situations wherer we have to select values for some arbitrary constants that are used to set coupling strengths in the annealer:\n",
    "\n",
    "1. **Penalty Terms in Objective Functions**: Constants are used as penalty terms in the objective function, like the `lagrange_multiploer` parameter in the `cqm_to_bqm` method of the `dimod package.`\n",
    "\n",
    "2. **Coupling Strengths in Embedding**: Selevting coupling strengths for chains in a quantum embedding, often handled automatically by classes like `EmbeddindComposite`.\n",
    "\n",
    "You also know that we want these parameters as big as possible since all of us are not interested in solutions that do not satisfy the problem constraints and you don't want your chains to be broken. "
   ]
  },
  {
   "cell_type": "markdown",
   "metadata": {},
   "source": [
    "Before select a good number, we need to know that D-Wave does not allow us to selet arbitrarily large numbers. In fact, the `h_range` will be [-4.0, 4.0] as you can verify it by running the following code:"
   ]
  },
  {
   "cell_type": "code",
   "execution_count": 57,
   "metadata": {},
   "outputs": [
    {
     "name": "stdout",
     "output_type": "stream",
     "text": [
      "The coupling strength range is [-4.0, 4.0]\n"
     ]
    }
   ],
   "source": [
    "sampler = DWaveSampler(\"Advantage_system4.1\")\n",
    "print(\"The coupling strength range is\", sampler.properties[\"h_range\"])"
   ]
  },
  {
   "cell_type": "markdown",
   "metadata": {},
   "source": [
    "This means that if you set coupling strengths (that is, $J$ coefficicent) that in absolute value are bigger than $4$, the largest one will be scaled down to $4$, and the rest of the coefficients in your model will be scaled down accordingly. This can cause some of the values to be very close together, even closer than the resolution of the device, affecting the results of the annealing process, as we can see in the follwoing example:"
   ]
  },
  {
   "cell_type": "code",
   "execution_count": 59,
   "metadata": {},
   "outputs": [
    {
     "name": "stdout",
     "output_type": "stream",
     "text": [
      "The solutions to the original problem are\n",
      "  x0 x1 x2 energy num_oc. is_sat. is_fea.\n",
      "0  1  0  0   -5.0      16 arra... np.T...\n",
      "1  1  1  0   -2.0      26 arra... np.T...\n",
      "2  0  0  1   -2.0      17 arra... np.T...\n",
      "3  0  0  0    0.0      11 arra... np.T...\n",
      "4  0  1  1    1.0      20 arra... np.T...\n",
      "5  0  1  0    3.0       6 arra... np.T...\n",
      "['INTEGER', 6 rows, 96 samples, 3 variables]\n"
     ]
    }
   ],
   "source": [
    "# Choose a sampler\n",
    "sampler = EmbeddingComposite(DWaveSampler(\"Advantage_system4.1\"))\n",
    "\n",
    "# Define the problem\n",
    "x0 = dimod.Binary(\"x0\")\n",
    "x1 = dimod.Binary(\"x1\")\n",
    "x2 = dimod.Binary(\"x2\")\n",
    "blp = dimod.ConstrainedQuadraticModel()\n",
    "blp.set_objective(-5*x0 + 3*x1 - 2*x2)\n",
    "blp.add_constraint(x0 + x2 <= 1, \"First constraint\")\n",
    "blp.add_constraint(3*x0 - x1 + 3*x2 <= 4, \"Second constraint\")\n",
    "\n",
    "# Convert the problem and run it\n",
    "qubo, invert = dimod.cqm_to_bqm(blp, lagrange_multiplier=10)\n",
    "result = sampler.sample(qubo, num_reads = 100)\n",
    "\n",
    "# Aggregate and show the results\n",
    "samples = []\n",
    "occurrences = []\n",
    "for s in result.data():\n",
    "    samples.append(invert(s.sample))\n",
    "    occurrences.append(s.num_occurrences)\n",
    "sampleset = dimod.SampleSet.from_samples_cqm(samples, blp, num_occurrences = occurrences)\n",
    "print(\"The solutions to the original problem are\")\n",
    "print(sampleset.filter(lambda s: s.is_feasible).aggregate())\n"
   ]
  },
  {
   "cell_type": "markdown",
   "metadata": {},
   "source": [
    "The result may very but we can tell that the result is not very obvious since the **`Lagrange_multiplier`** parameter is too big compared to the range of energies of the objective function. In fact, if you use `Exactsolver` on the transformed problem, you can easily check that all the assignment that are unfeasible on the the original problem get energy $16$ or higher on the transformed one, while the feasible solutions always get energy $3$ or lower. **THAT IS A HUGE GAP!**\n",
    "\n",
    "Let's try set `Lagrange_multiplier` to $4$ and rerun the problem!"
   ]
  },
  {
   "cell_type": "code",
   "execution_count": null,
   "metadata": {},
   "outputs": [
    {
     "name": "stdout",
     "output_type": "stream",
     "text": [
      "The solutions to the original problem are\n",
      "  x0 x1 x2 energy num_oc. is_sat. is_fea.\n",
      "0  1  0  0   -5.0      42 arra... np.T...\n",
      "1  1  1  0   -2.0      21 arra... np.T...\n",
      "2  0  0  1   -2.0      13 arra... np.T...\n",
      "3  0  0  0    0.0       8 arra... np.T...\n",
      "4  0  1  1    1.0      10 arra... np.T...\n",
      "5  0  1  0    3.0       5 arra... np.T...\n",
      "['INTEGER', 6 rows, 99 samples, 3 variables]\n"
     ]
    }
   ],
   "source": [
    "## Case: lagrange_multiplier = 4\n",
    "\n",
    "# Convert the problem and run it\n",
    "qubo, invert = dimod.cqm_to_bqm(blp, lagrange_multiplier=4)\n",
    "result = sampler.sample(qubo, num_reads = 100)\n",
    "\n",
    "# Aggregate and show the results\n",
    "samples = []\n",
    "occurrences = []\n",
    "for s in result.data():\n",
    "    samples.append(invert(s.sample))\n",
    "    occurrences.append(s.num_occurrences)\n",
    "sampleset = dimod.SampleSet.from_samples_cqm(samples, blp, num_occurrences = occurrences)\n",
    "print(\"The solutions to the original problem are\")\n",
    "print(sampleset.filter(lambda s: s.is_feasible).aggregate())"
   ]
  },
  {
   "cell_type": "markdown",
   "metadata": {},
   "source": [
    "You can see that the lowest energy state of value $-5.0$ has the most number. By setting the `lagrange_multiplier = 4`, all the infeasible solutions will, therefore, have a relative low energy state. by checking with the `Exactsolver`, the energy gap is much smaller now and we got 99 feasible solution over 99 samples.\n",
    "\n",
    "How about we change the `lagrange_multiplier = 1`?"
   ]
  },
  {
   "cell_type": "code",
   "execution_count": 65,
   "metadata": {},
   "outputs": [
    {
     "name": "stdout",
     "output_type": "stream",
     "text": [
      "The solutions to the original problem are\n",
      "  x0 x1 x2 energy num_oc. is_sat. is_fea.\n",
      "0  1  0  0   -5.0      79 arra... np.T...\n",
      "1  1  1  0   -2.0       9 arra... np.T...\n",
      "2  0  0  1   -2.0       8 arra... np.T...\n",
      "3  0  0  0    0.0       1 arra... np.T...\n",
      "['INTEGER', 4 rows, 97 samples, 3 variables]\n"
     ]
    }
   ],
   "source": [
    "## Case: lagrange_multiplier = 1\n",
    "\n",
    "# Convert the problem and run it\n",
    "qubo, invert = dimod.cqm_to_bqm(blp, lagrange_multiplier=1)\n",
    "result = sampler.sample(qubo, num_reads = 100)\n",
    "\n",
    "# Aggregate and show the results\n",
    "samples = []\n",
    "occurrences = []\n",
    "for s in result.data():\n",
    "    samples.append(invert(s.sample))\n",
    "    occurrences.append(s.num_occurrences)\n",
    "sampleset = dimod.SampleSet.from_samples_cqm(samples, blp, num_occurrences = occurrences)\n",
    "print(\"The solutions to the original problem are\")\n",
    "print(sampleset.filter(lambda s: s.is_feasible).aggregate())"
   ]
  },
  {
   "cell_type": "markdown",
   "metadata": {},
   "source": [
    "**The frequency of the optimal result has dramatically improved!** However, we \"lost\" 3 samples because they corresponded ot unfeasible solutions. \n",
    "\n",
    "Setting a gooe penalty constant can be difficult since it involves having some information about the energy distribution of the solutions to the problem. The example here just showed that you should not just use any value for `lagrange_multiplier`, since it can mess up your result."
   ]
  },
  {
   "cell_type": "markdown",
   "metadata": {},
   "source": [
    "Note: Something similar may happen when the value of the coupling strength for chains in an embedding is too big. Fortunately, `EmbeddingComposite` and its relatives takes this into account and will try to keep the value as low as possible without breaking many chains. Don't take the choice of the coupling strenglth lightly."
   ]
  },
  {
   "cell_type": "markdown",
   "metadata": {},
   "source": [
    "## Classical and hybrid samplers\n",
    "Besides the quantum annealing, D-Wave also provide other ways of solving optimization problem beyond \"pure\" quantum annealing. We will talk about Classiscal solvers and Hybrid solvers in this section."
   ]
  },
  {
   "cell_type": "markdown",
   "metadata": {},
   "source": [
    "### Classical solvers\n",
    "In D-Wave, `SimulatedAnnealing` and `SteepestDescentSolver` are two solvers other than the `ExactSolver` that do not use quantum resources whatsoever. This seciont helps you not just know how to use classical solver to solve your problem but also provide so called **hybrid solver** to work with the power of quantum annealer!"
   ]
  },
  {
   "cell_type": "markdown",
   "metadata": {},
   "source": [
    "#### SteepestDescentSolver\n",
    "\n",
    "The first classical solver we are going to talk about is the `SteepestDescentSolver`. This is included in the `greedy` package and it is a discrete version of the gradient descent algorith, for continuous optimization. It selects one direction where the decrease in energy is bigger. Let's see how to use it in D-Wave by the following code:\n",
    "\n",
    "*SteepestDescentSolver accepts using of `initial_states` and `seed` commands.*"
   ]
  },
  {
   "cell_type": "markdown",
   "metadata": {},
   "source": [
    "Before that, please run `pip install dwave-greedy` to install tabu package."
   ]
  },
  {
   "cell_type": "code",
   "execution_count": 77,
   "metadata": {},
   "outputs": [
    {
     "name": "stdout",
     "output_type": "stream",
     "text": [
      "Requirement already satisfied: dwave-greedy in /opt/anaconda3/envs/pcchouCR97/lib/python3.13/site-packages (0.3.0)\n",
      "Requirement already satisfied: dwave-samplers>=1.0.0 in /opt/anaconda3/envs/pcchouCR97/lib/python3.13/site-packages (from dwave-greedy) (1.4.0)\n",
      "Requirement already satisfied: numpy<3.0.0,>=1.19.0 in /opt/anaconda3/envs/pcchouCR97/lib/python3.13/site-packages (from dwave-samplers>=1.0.0->dwave-greedy) (2.0.2)\n",
      "Requirement already satisfied: dimod<0.13.0,>=0.12.13 in /opt/anaconda3/envs/pcchouCR97/lib/python3.13/site-packages (from dwave-samplers>=1.0.0->dwave-greedy) (0.12.18)\n",
      "Requirement already satisfied: networkx>=3.0 in /opt/anaconda3/envs/pcchouCR97/lib/python3.13/site-packages (from dwave-samplers>=1.0.0->dwave-greedy) (3.4.2)\n"
     ]
    }
   ],
   "source": [
    "! pip install dwave-greedy"
   ]
  },
  {
   "cell_type": "code",
   "execution_count": 71,
   "metadata": {},
   "outputs": [
    {
     "name": "stdout",
     "output_type": "stream",
     "text": [
      "   0  1  2  3 energy num_oc. num_st.\n",
      "0 -1 +1 -1 +1   -4.0       5       1\n",
      "1 +1 -1 +1 -1   -4.0       2       1\n",
      "2 +1 +1 -1 -1    0.0       3       0\n",
      "['SPIN', 3 rows, 10 samples, 4 variables]\n"
     ]
    }
   ],
   "source": [
    "import greedy\n",
    "import dimod\n",
    "\n",
    "# Create a BinaryQuadraticModel\n",
    "J = {(0,1):1, (1,2):1, (2,3):1, (3,0):1}\n",
    "h = {}\n",
    "problem = dimod.BinaryQuadraticModel(h, J, 0.0, dimod.SPIN)\n",
    "\n",
    "# Using SteepestDescentSolver\n",
    "solver = greedy.SteepestDescentSolver()\n",
    "solution = solver.sample(problem, num_reads = 10)\n",
    "print(solution.aggregate())"
   ]
  },
  {
   "cell_type": "markdown",
   "metadata": {},
   "source": [
    "As you can see, this is exactly the format we already know from using quantum solvers.\n",
    "\n",
    "Next, we will talk about the `TabuSolver`. "
   ]
  },
  {
   "cell_type": "markdown",
   "metadata": {},
   "source": [
    "#### TabuSolver\n",
    "Tabu solver is a type of **local search** algorithm, which means it improves its search by exploring neighbors. The tabu solver avoids falling into local minima by sometimes accepting solutions with higher energy than the current one, and it also \"remembers\" solutions it has already explored. Let's look into how to use `TabuSolver` in D-Wave.\n",
    "\n",
    "*TabuSolver accepts using of `initial_states` and `seed` commands.*"
   ]
  },
  {
   "cell_type": "markdown",
   "metadata": {},
   "source": [
    "Before that, please run `pip install dwave-tabu` to install tabu package."
   ]
  },
  {
   "cell_type": "code",
   "execution_count": 74,
   "metadata": {},
   "outputs": [
    {
     "name": "stdout",
     "output_type": "stream",
     "text": [
      "Requirement already satisfied: dwave-tabu in /opt/anaconda3/envs/pcchouCR97/lib/python3.13/site-packages (0.5.0)\n",
      "Requirement already satisfied: dwave-samplers>=1.0.0 in /opt/anaconda3/envs/pcchouCR97/lib/python3.13/site-packages (from dwave-tabu) (1.4.0)\n",
      "Requirement already satisfied: numpy<3.0.0,>=1.19.0 in /opt/anaconda3/envs/pcchouCR97/lib/python3.13/site-packages (from dwave-samplers>=1.0.0->dwave-tabu) (2.0.2)\n",
      "Requirement already satisfied: dimod<0.13.0,>=0.12.13 in /opt/anaconda3/envs/pcchouCR97/lib/python3.13/site-packages (from dwave-samplers>=1.0.0->dwave-tabu) (0.12.18)\n",
      "Requirement already satisfied: networkx>=3.0 in /opt/anaconda3/envs/pcchouCR97/lib/python3.13/site-packages (from dwave-samplers>=1.0.0->dwave-tabu) (3.4.2)\n"
     ]
    }
   ],
   "source": [
    "! pip install dwave-tabu"
   ]
  },
  {
   "cell_type": "code",
   "execution_count": 76,
   "metadata": {},
   "outputs": [
    {
     "name": "stdout",
     "output_type": "stream",
     "text": [
      "   0  1  2  3 energy num_oc. num_re.\n",
      "0 +1 -1 +1 -1   -4.0       7       1\n",
      "1 -1 +1 -1 +1   -4.0       3       0\n",
      "['SPIN', 2 rows, 10 samples, 4 variables]\n"
     ]
    }
   ],
   "source": [
    "import tabu\n",
    "\n",
    "# Build a sample\n",
    "solver = tabu.TabuSampler()\n",
    "solution = solver.sample(problem, num_reads = 10)\n",
    "print(solution.aggregate())\n"
   ]
  },
  {
   "cell_type": "markdown",
   "metadata": {},
   "source": [
    "#### SimulatedAnnealingSampler\n",
    "\n",
    "The last calssical solver we are going to talk about is the `SimulatedAnnealingSampler`. As you may assume, this solver *simulates* annealing behavior. It's just another algorithm that explores the neighbourhood of the candidate solution that it is considering at a given moment. It tries to move to solutions with lower energy.\n",
    "\n",
    "Just like the `TabuSolver`, it sometime explore higher energy state to avoid stucking at the local minimum, which is accomplished by controlling the global \"temperature\" parameter that decreases with time, eventually to 0. In fact, the Hamiltonian $H_0$ in our quantum annealing process can be understood as analogous to the temperature in simulated annealing: it allows the solutions to move or \"tunnel\" to some neightboring ones and it decreases over time. The `SimulatedAnnealingSampler` can be used in D-Wave Ocean as:"
   ]
  },
  {
   "cell_type": "markdown",
   "metadata": {},
   "source": [
    "*SimulatedAnnealingSampler accepts using of `initial_states` and `seed` commands.*"
   ]
  },
  {
   "cell_type": "code",
   "execution_count": 78,
   "metadata": {},
   "outputs": [
    {
     "name": "stdout",
     "output_type": "stream",
     "text": [
      "Collecting dwave-neal\n",
      "  Downloading dwave_neal-0.6.0-py3-none-any.whl.metadata (3.0 kB)\n",
      "Requirement already satisfied: dwave-samplers<2.0.0,>=1.0.0 in /opt/anaconda3/envs/pcchouCR97/lib/python3.13/site-packages (from dwave-neal) (1.4.0)\n",
      "Requirement already satisfied: numpy<3.0.0,>=1.19.0 in /opt/anaconda3/envs/pcchouCR97/lib/python3.13/site-packages (from dwave-samplers<2.0.0,>=1.0.0->dwave-neal) (2.0.2)\n",
      "Requirement already satisfied: dimod<0.13.0,>=0.12.13 in /opt/anaconda3/envs/pcchouCR97/lib/python3.13/site-packages (from dwave-samplers<2.0.0,>=1.0.0->dwave-neal) (0.12.18)\n",
      "Requirement already satisfied: networkx>=3.0 in /opt/anaconda3/envs/pcchouCR97/lib/python3.13/site-packages (from dwave-samplers<2.0.0,>=1.0.0->dwave-neal) (3.4.2)\n",
      "Downloading dwave_neal-0.6.0-py3-none-any.whl (8.7 kB)\n",
      "Installing collected packages: dwave-neal\n",
      "Successfully installed dwave-neal-0.6.0\n"
     ]
    }
   ],
   "source": [
    "! pip install dwave-neal"
   ]
  },
  {
   "cell_type": "code",
   "execution_count": 80,
   "metadata": {},
   "outputs": [
    {
     "name": "stdout",
     "output_type": "stream",
     "text": [
      "   0  1  2  3 energy num_oc.\n",
      "3 +1 -1 +1 -1   -4.0       2\n",
      "0 +1 +1 +1 -1    0.0       2\n",
      "1 -1 -1 +1 +1    0.0       3\n",
      "2 +1 +1 -1 -1    0.0       2\n",
      "4 -1 -1 -1 +1    0.0       1\n",
      "['SPIN', 5 rows, 10 samples, 4 variables]\n"
     ]
    }
   ],
   "source": [
    "import neal\n",
    "\n",
    "solver = neal.SimulatedAnnealingSampler()\n",
    "solution = solver.sample(problem, num_reads = 10)\n",
    "print(solution.aggregate())\n"
   ]
  },
  {
   "cell_type": "markdown",
   "metadata": {},
   "source": [
    "### Hybrid solvers"
   ]
  },
  {
   "cell_type": "markdown",
   "metadata": {},
   "source": [
    "#### LeapHybridSampler\n",
    "Let's start with the `LeapHybridSampler()`. This sampler accepts QUBO and Ising problems and can scale up to a high number of variables because it deivdes the problem, assigns different parts to classical solvers and quantum annealers, and then reconstructs a global solution from the local ones."
   ]
  },
  {
   "cell_type": "code",
   "execution_count": 81,
   "metadata": {},
   "outputs": [
    {
     "name": "stdout",
     "output_type": "stream",
     "text": [
      "   0  1  2  3 energy num_oc.\n",
      "0 +1 -1 +1 -1   -4.0       5\n",
      "3 -1 +1 -1 +1   -4.0       1\n",
      "1 +1 +1 +1 -1    0.0       1\n",
      "2 -1 -1 +1 +1    0.0       1\n",
      "4 +1 +1 -1 -1    0.0       1\n",
      "5 +1 -1 -1 -1    0.0       1\n",
      "['SPIN', 6 rows, 10 samples, 4 variables]\n"
     ]
    }
   ],
   "source": [
    "import dwave.system\n",
    "\n",
    "sampler = dwave.system.LeapHybridSampler()\n",
    "solution = solver.sample(problem, num_reads= 10)\n",
    "print(solution.aggregate())"
   ]
  },
  {
   "cell_type": "markdown",
   "metadata": {},
   "source": [
    "It's also worth to notice that these hybrid samplers has a property called `qouta_conversion_rate`. This can be check by running `sampler.properties[\"quota_conversion_rate\"]`. The `qouta_conversion_rate` for the `LeapHybridSampler` is 20. This means that for each 20 microseconds that you use this hybrid sampler, you will get charge of 1 microsecond of quantum processor access.\n",
    "\n",
    "The other hybrid solver Dwave provides is `LeapHybridCQMsampler`, which is used similarly to `LeapHybridSampler`, but with constrained problems. Finally, there is also `LeapHybridDQMSampler`, which works with discrete quadratic problems defined as objects of the `DiscreteQuadraticModel` class."
   ]
  },
  {
   "cell_type": "code",
   "execution_count": 82,
   "metadata": {},
   "outputs": [
    {
     "data": {
      "text/plain": [
       "20"
      ]
     },
     "execution_count": 82,
     "metadata": {},
     "output_type": "execute_result"
    }
   ],
   "source": [
    "sampler.properties[\"quota_conversion_rate\"]"
   ]
  },
  {
   "cell_type": "markdown",
   "metadata": {},
   "source": []
  }
 ],
 "metadata": {
  "kernelspec": {
   "display_name": ".venv",
   "language": "python",
   "name": "python3"
  },
  "language_info": {
   "codemirror_mode": {
    "name": "ipython",
    "version": 3
   },
   "file_extension": ".py",
   "mimetype": "text/x-python",
   "name": "python",
   "nbconvert_exporter": "python",
   "pygments_lexer": "ipython3",
   "version": "3.11.3"
  }
 },
 "nbformat": 4,
 "nbformat_minor": 2
}
