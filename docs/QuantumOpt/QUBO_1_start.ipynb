{
 "cells": [
  {
   "cell_type": "markdown",
   "metadata": {},
   "source": [
    "# QUBO start - Let's work on some optimization problem!\n",
    "\n",
    "In this section, we are going to calculate some expection values in \"quantum way\".\n",
    "\n",
    "1. We will first understand how to construct our state basis such as $|100\\rangle$ using different ways in 'Define Basis' section.\n",
    "2. We will introduce how to calculate Hamiltonian and its expectation value."
   ]
  },
  {
   "cell_type": "markdown",
   "metadata": {},
   "source": [
    "## Define Basis\n",
    "\n",
    "As we mentioned before, we use $\\lvert xyz\\rangle$, $x,y,z\\in (0,1)$ to define the computational basis in our previous example. We can define these value in the following 3 ways.\n",
    "\n",
    "1. Define one-qubit state $\\lvert 0 \\rangle$ and $\\lvert 1 \\rangle$ and computer their tensor products by using `statevector`\n",
    "2. Initialize `statevector` object from an integer such as `0` or `1`.\n",
    "3. A more concise way."
   ]
  },
  {
   "cell_type": "markdown",
   "metadata": {},
   "source": [
    "First, let's import some necessary packages"
   ]
  },
  {
   "cell_type": "code",
   "execution_count": 1,
   "metadata": {},
   "outputs": [],
   "source": [
    "from qiskit import *"
   ]
  },
  {
   "cell_type": "markdown",
   "metadata": {},
   "source": [
    "### 1. Define one-qubit to a statevector"
   ]
  },
  {
   "cell_type": "code",
   "execution_count": 2,
   "metadata": {},
   "outputs": [
    {
     "name": "stdout",
     "output_type": "stream",
     "text": [
      "zero is Statevector([1.+0.j, 0.+0.j],\n",
      "            dims=(2,))\n",
      "one is Statevector([0.+0.j, 1.+0.j],\n",
      "            dims=(2,))\n"
     ]
    }
   ],
   "source": [
    "from qiskit.quantum_info import Statevector\n",
    "\n",
    "# Defining 0\n",
    "zero = Statevector([1,0]) # Remember that the vector form for |0\\ is [1,0]!\n",
    "print(\"zero is\", zero)\n",
    "\n",
    "# Defining 1\n",
    "one = Statevector([0,1]) # Remember that the vector form for |1\\ is [0,1]!\n",
    "print(\"one is\", one)"
   ]
  },
  {
   "cell_type": "markdown",
   "metadata": {},
   "source": [
    "### 2. Initialize `statevector` object from an integer such as `0` or `1`."
   ]
  },
  {
   "cell_type": "code",
   "execution_count": 3,
   "metadata": {},
   "outputs": [
    {
     "name": "stdout",
     "output_type": "stream",
     "text": [
      "zero is Statevector([1.+0.j, 0.+0.j],\n",
      "            dims=(2,))\n",
      "one is Statevector([0.+0.j, 1.+0.j],\n",
      "            dims=(2,))\n"
     ]
    }
   ],
   "source": [
    "# Defining 0\n",
    "zero = Statevector.from_int(0, dims =2) # 0 @position 0 in dims = 2 array\n",
    "print(\"zero is\", zero)\n",
    "\n",
    "# Defining 1\n",
    "one = Statevector.from_int(1, dims =2) # 1 @position 1 in dims = 2 array\n",
    "print(\"one is\", one)"
   ]
  },
  {
   "cell_type": "markdown",
   "metadata": {},
   "source": [
    "Now we can construct states with a higher number of qubits by computing tensor products with the `tensor` method."
   ]
  },
  {
   "cell_type": "code",
   "execution_count": 4,
   "metadata": {},
   "outputs": [
    {
     "name": "stdout",
     "output_type": "stream",
     "text": [
      "psi is Statevector([0.+0.j, 0.+0.j, 0.+0.j, 0.+0.j, 1.+0.j, 0.+0.j, 0.+0.j,\n",
      "             0.+0.j],\n",
      "            dims=(2, 2, 2))\n"
     ]
    }
   ],
   "source": [
    "# Computing state by using `tensor` method.\n",
    "psi = one.tensor(zero.tensor(zero)) # |100\\\n",
    "print (\"psi is\",psi)"
   ]
  },
  {
   "cell_type": "markdown",
   "metadata": {},
   "source": [
    "The result should show the following:\n",
    "\n",
    "`\n",
    "psi is Statevector([0.+0.j, 0.+0.j, 0.+0.j, 0.+0.j, 1.+0.j, 0.+0.j, 0.+0.j,\n",
    "             0.+0.j],\n",
    "            dims=(2, 2, 2))\n",
    "`\n",
    "\n",
    "The results shows 4 means $\\lvert 100\\rangle$ in binery representation. Remember, we start our at 0 to 7 for 1 to 8 in binery form."
   ]
  },
  {
   "cell_type": "markdown",
   "metadata": {},
   "source": [
    "### 3. A more concise way"
   ]
  },
  {
   "cell_type": "code",
   "execution_count": 5,
   "metadata": {},
   "outputs": [
    {
     "name": "stdout",
     "output_type": "stream",
     "text": [
      "psi is Statevector([0.+0.j, 0.+0.j, 0.+0.j, 0.+0.j, 1.+0.j, 0.+0.j, 0.+0.j,\n",
      "             0.+0.j],\n",
      "            dims=(2, 2, 2))\n"
     ]
    },
    {
     "data": {
      "text/latex": [
       "$$ |100\\rangle$$"
      ],
      "text/plain": [
       "<IPython.core.display.Latex object>"
      ]
     },
     "execution_count": 5,
     "metadata": {},
     "output_type": "execute_result"
    }
   ],
   "source": [
    "# A more concise way\n",
    "psi = one^zero^zero\n",
    "print (\"psi is\",psi)\n",
    "psi.draw(\"latex\")"
   ]
  },
  {
   "cell_type": "markdown",
   "metadata": {},
   "source": [
    "The result should show it's statevector \n",
    "\n",
    "`\n",
    "psi is Statevector([0.+0.j, 0.+0.j, 0.+0.j, 0.+0.j, 1.+0.j, 0.+0.j, 0.+0.j,\n",
    "             0.+0.j],\n",
    "            dims=(2, 2, 2))\n",
    "`\n",
    "\n",
    "and $|100\\rangle$."
   ]
  },
  {
   "cell_type": "markdown",
   "metadata": {},
   "source": [
    "Also, a faster way of constructing the $|100\\rangle$ is using, again, the `from_int` method:"
   ]
  },
  {
   "cell_type": "code",
   "execution_count": 6,
   "metadata": {},
   "outputs": [
    {
     "name": "stdout",
     "output_type": "stream",
     "text": [
      "psi is Statevector([0.+0.j, 0.+0.j, 0.+0.j, 0.+0.j, 1.+0.j, 0.+0.j, 0.+0.j,\n",
      "             0.+0.j],\n",
      "            dims=(2, 2, 2))\n"
     ]
    }
   ],
   "source": [
    "# A faster way to construct |100\\ using from_int method\n",
    "psi = Statevector.from_int(4, dims = 8)\n",
    "print(\"psi is\", psi)"
   ]
  },
  {
   "cell_type": "markdown",
   "metadata": {},
   "source": [
    "The result should show the following:\n",
    "\n",
    "`\n",
    "psi is Statevector([0.+0.j, 0.+0.j, 0.+0.j, 0.+0.j, 1.+0.j, 0.+0.j, 0.+0.j,\n",
    "             0.+0.j],\n",
    "            dims=(2, 2, 2))\n",
    "`\n",
    "\n",
    "We specify that we are working with three qubits by setting `dims = 8` (because we need 8 amplitudes to define a three-qubit state)"
   ]
  },
  {
   "cell_type": "markdown",
   "metadata": {},
   "source": [
    "After knowing how to create a basis, we can learn how to create a superposition state! In Qiskit, this is very easy, you just use the following command:"
   ]
  },
  {
   "cell_type": "code",
   "execution_count": 7,
   "metadata": {},
   "outputs": [
    {
     "name": "stdout",
     "output_type": "stream",
     "text": [
      "ghz is: Statevector([0.70710678+0.j, 0.        +0.j, 0.        +0.j,\n",
      "             0.        +0.j, 0.        +0.j, 0.        +0.j,\n",
      "             0.        +0.j, 0.70710678+0.j],\n",
      "            dims=(2, 2, 2))\n"
     ]
    }
   ],
   "source": [
    "import numpy as np\n",
    "\n",
    "ghz = 1/np.sqrt(2)*(zero^zero^zero)+1/np.sqrt(2)*(one^one^one)\n",
    "print('ghz is:', ghz)\n"
   ]
  },
  {
   "cell_type": "markdown",
   "metadata": {},
   "source": [
    "You should get:\n",
    "\n",
    "`\n",
    "ghz is: Statevector([0.70710678+0.j, 0.        +0.j, 0.        +0.j,\n",
    "             0.        +0.j, 0.        +0.j, 0.        +0.j,\n",
    "             0.        +0.j, 0.70710678+0.j],\n",
    "            dims=(2, 2, 2))\n",
    "`\n",
    "\n",
    "which created a state $\\frac{1}{\\sqrt{2}}|000\\rangle + \\frac{1}{\\sqrt{2}}|111\\rangle$.\n",
    "\n",
    "!! in Qiskit, ^, which is a tensor operator, has a lower precedence than $+$ in python, therefore, we need to use parenthesis more carefully!"
   ]
  },
  {
   "cell_type": "markdown",
   "metadata": {},
   "source": [
    "To compute our expectation values, we need not only the state values but also **Hamiltonians**. So, let's work on the Hamiltonians in the next section!"
   ]
  },
  {
   "cell_type": "markdown",
   "metadata": {},
   "source": [
    "## Hamiltonians\n",
    "\n",
    "Let's work with hamiltonians in this section:"
   ]
  },
  {
   "cell_type": "markdown",
   "metadata": {},
   "source": [
    "First, we intorduce `Pauli` from the `qiskit.quantum_info` object."
   ]
  },
  {
   "cell_type": "code",
   "execution_count": 8,
   "metadata": {},
   "outputs": [
    {
     "name": "stdout",
     "output_type": "stream",
     "text": [
      "Z0Z1 is: ZZI\n",
      "And its matrix is:\n",
      "[[ 1.+0.j  0.+0.j  0.+0.j  0.+0.j  0.+0.j  0.+0.j  0.+0.j  0.+0.j]\n",
      " [ 0.+0.j  1.+0.j  0.+0.j  0.+0.j  0.+0.j  0.+0.j  0.+0.j  0.+0.j]\n",
      " [ 0.+0.j  0.+0.j -1.+0.j  0.+0.j  0.+0.j  0.+0.j  0.+0.j  0.+0.j]\n",
      " [ 0.+0.j  0.+0.j  0.+0.j -1.+0.j  0.+0.j  0.+0.j  0.+0.j  0.+0.j]\n",
      " [ 0.+0.j  0.+0.j  0.+0.j  0.+0.j -1.+0.j  0.+0.j  0.+0.j  0.+0.j]\n",
      " [ 0.+0.j  0.+0.j  0.+0.j  0.+0.j  0.+0.j -1.+0.j  0.+0.j  0.+0.j]\n",
      " [ 0.+0.j  0.+0.j  0.+0.j  0.+0.j  0.+0.j  0.+0.j  1.+0.j  0.+0.j]\n",
      " [ 0.+0.j  0.+0.j  0.+0.j  0.+0.j  0.+0.j  0.+0.j  0.+0.j  1.+0.j]]\n"
     ]
    }
   ],
   "source": [
    "from qiskit.quantum_info import Pauli\n",
    "\n",
    "# Create Z0Z1I matrix mentioned before!\n",
    "Z0Z1 = Pauli(\"ZZI\")\n",
    "\n",
    "# Print some results:\n",
    "print(\"Z0Z1 is:\", Z0Z1)\n",
    "print(\"And its matrix is:\")\n",
    "print(Z0Z1.to_matrix())"
   ]
  },
  {
   "cell_type": "markdown",
   "metadata": {},
   "source": [
    "You should get a matrix representation of Z0Z1.\n",
    "\n",
    "Also, if you find the matrix hard to read, it's also welcome to use the sparse method like below:"
   ]
  },
  {
   "cell_type": "code",
   "execution_count": 9,
   "metadata": {},
   "outputs": [
    {
     "name": "stdout",
     "output_type": "stream",
     "text": [
      "The sparse representation of Z0Z1 is\n",
      "<Compressed Sparse Row sparse matrix of dtype 'complex128'\n",
      "\twith 8 stored elements and shape (8, 8)>\n",
      "  Coords\tValues\n",
      "  (0, 0)\t(1+0j)\n",
      "  (1, 1)\t(1+0j)\n",
      "  (2, 2)\t(-1+0j)\n",
      "  (3, 3)\t(-1+0j)\n",
      "  (4, 4)\t(-1+0j)\n",
      "  (5, 5)\t(-1+0j)\n",
      "  (6, 6)\t(1+0j)\n",
      "  (7, 7)\t(1+0j)\n"
     ]
    }
   ],
   "source": [
    "# We can also using the sparse method to demonstrate our results\n",
    "print(\"The sparse representation of Z0Z1 is\")\n",
    "print(Z0Z1.to_matrix(sparse=True))"
   ]
  },
  {
   "cell_type": "markdown",
   "metadata": {},
   "source": [
    "The main drawback for the `Pauli` object is that you cannot add them or multiply them by scaler. To compute something like $Z_{0}Z_{1}+Z_{1}Z_{2}$, we need to convert `Pauli` object to `PauliOp` first."
   ]
  },
  {
   "cell_type": "code",
   "execution_count": 10,
   "metadata": {},
   "outputs": [
    {
     "name": "stdout",
     "output_type": "stream",
     "text": [
      "H_cut is: SparsePauliOp(['ZZI', 'ZIZ'],\n",
      "              coeffs=[1.+0.j, 1.+0.j])\n",
      "The sparse representation of H_cut is <Compressed Sparse Row sparse matrix of dtype 'complex128'\n",
      "\twith 8 stored elements and shape (8, 8)>\n",
      "  Coords\tValues\n",
      "  (0, 0)\t(2+0j)\n",
      "  (1, 1)\t0j\n",
      "  (2, 2)\t0j\n",
      "  (3, 3)\t(-2+0j)\n",
      "  (4, 4)\t(-2+0j)\n",
      "  (5, 5)\t0j\n",
      "  (6, 6)\t0j\n",
      "  (7, 7)\t(2+0j)\n"
     ]
    }
   ],
   "source": [
    "from qiskit.quantum_info import SparsePauliOp\n",
    "\n",
    "H_cut = SparsePauliOp(Pauli(\"ZZI\")) + SparsePauliOp(Pauli(\"ZIZ\"))\n",
    "print(\"H_cut is:\", H_cut)\n",
    "print(\"The sparse representation of H_cut is\", H_cut.to_matrix(sparse=True))"
   ]
  },
  {
   "cell_type": "markdown",
   "metadata": {},
   "source": [
    "Also we can try more complicated method using `parsePauliOp(pauli_strings, coef)` by specifying Paulis and it's coefficient of the following equation:\n",
    "\n",
    "$$\n",
    "0.5Z_{0}Z_{1}+2Z_{0}Z_{2}-Z_{1}Z_{2}+Z_{1}-5Z_{2}\n",
    "$$"
   ]
  },
  {
   "cell_type": "code",
   "execution_count": 11,
   "metadata": {},
   "outputs": [
    {
     "name": "stdout",
     "output_type": "stream",
     "text": [
      "H_ising is: SparsePauliOp(['ZZI', 'ZIZ', 'IZZ', 'IZI', 'IIZ'],\n",
      "              coeffs=[-0.5+0.j,  2. +0.j, -1. +0.j,  1. +0.j, -1.5+0.j])\n",
      "The sparse representation of H_ising is <Compressed Sparse Row sparse matrix of dtype 'complex128'\n",
      "\twith 8 stored elements and shape (8, 8)>\n",
      "  Coords\tValues\n",
      "  (0, 0)\t0j\n",
      "  (1, 1)\t(1+0j)\n",
      "  (2, 2)\t(1+0j)\n",
      "  (3, 3)\t(-2+0j)\n",
      "  (4, 4)\t(-3+0j)\n",
      "  (5, 5)\t(6+0j)\n",
      "  (6, 6)\t(-4+0j)\n",
      "  (7, 7)\t(1+0j)\n"
     ]
    }
   ],
   "source": [
    "from qiskit.quantum_info import SparsePauliOp\n",
    "\n",
    "pauli_strings = [\"ZZI\", \"ZIZ\", \"IZZ\", \"IZI\", \"IIZ\"]\n",
    "coef = [-0.5, 2.0, -1.0, 1.0, -1.5]\n",
    "\n",
    "H_ising = SparsePauliOp(pauli_strings, coef)\n",
    "print(\"H_ising is:\", H_ising)\n",
    "print(\"The sparse representation of H_ising is\", H_ising.to_matrix(sparse=True))"
   ]
  },
  {
   "cell_type": "markdown",
   "metadata": {},
   "source": [
    "Now, we can calculate the expectation value of our `H_cut` by using command: `psi.expectation_value(H_cut)`. \n",
    "\n",
    "The expectation value should be (-2+0j)."
   ]
  },
  {
   "cell_type": "code",
   "execution_count": 12,
   "metadata": {},
   "outputs": [
    {
     "name": "stdout",
     "output_type": "stream",
     "text": [
      "The expectation value is (-2+0j)\n"
     ]
    }
   ],
   "source": [
    "print(\"The expectation value is\", psi.expectation_value(H_cut))"
   ]
  },
  {
   "cell_type": "markdown",
   "metadata": {},
   "source": [
    "Since the $Z_{0}Z_{1} + Z_{0}Z_{2}$ is the Hamiltonian for the Max-Cut problem for the three-node. The Hamiltonian is represented by $|100\\rangle$ (vertex 0 on one set, and 1 and 2 in the other) cuts the two edges of the graph and is an optimal solution."
   ]
  },
  {
   "cell_type": "markdown",
   "metadata": {},
   "source": [
    "---"
   ]
  }
 ],
 "metadata": {
  "kernelspec": {
   "display_name": "pcchouCR97",
   "language": "python",
   "name": "python3"
  },
  "language_info": {
   "codemirror_mode": {
    "name": "ipython",
    "version": 3
   },
   "file_extension": ".py",
   "mimetype": "text/x-python",
   "name": "python",
   "nbconvert_exporter": "python",
   "pygments_lexer": "ipython3",
   "version": "3.13.1"
  }
 },
 "nbformat": 4,
 "nbformat_minor": 2
}