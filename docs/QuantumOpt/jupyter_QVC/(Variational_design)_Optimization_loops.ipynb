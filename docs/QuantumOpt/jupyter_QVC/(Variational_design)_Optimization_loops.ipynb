{
 "cells": [
  {
   "cell_type": "markdown",
   "id": "29ccf56e",
   "metadata": {},
   "source": [
    "# Local and Global Optimizers\n",
    "\n",
    "We'll first set up our problem before exploring each optimizer class. We will start with a circuit containing eight variational parameters:\n",
    "\n",
    "<div style=\"text-align: center;\">\n",
    "    <img src=\"../../QuantumOpt/image_QVC/optimization-circuit.svg\" alt=\"optimization-circuit.svg\" style=\"width: auto; height: auto;\">\n",
    "    <p style=\"font-size: 16px; font-style: italic; color: gray; margin-top: 5px;\">\n",
    "        High level overview of optimization loops.\n",
    "    </p>\n",
    "</div>"
   ]
  },
  {
   "cell_type": "markdown",
   "id": "d6ee188d",
   "metadata": {},
   "source": [
    "## References \n",
    "\n",
    "[1]. [Optimization loops (IBM)](https://quantum.cloud.ibm.com/learning/en/courses/variational-algorithm-design/optimization-loops)"
   ]
  },
  {
   "cell_type": "code",
   "execution_count": 2,
   "id": "6ef50e5e",
   "metadata": {},
   "outputs": [
    {
     "name": "stderr",
     "output_type": "stream",
     "text": [
      "C:\\Users\\berli\\AppData\\Local\\Temp\\ipykernel_61748\\4169496569.py:12: DeprecationWarning: The class ``qiskit.circuit.library.n_local.two_local.TwoLocal`` is deprecated as of Qiskit 2.1. It will be removed in Qiskit 3.0. Use the function qiskit.circuit.library.n_local instead.\n",
      "  variational_form = TwoLocal(\n"
     ]
    },
    {
     "data": {
      "image/png": "[encoded data removed]",
      "text/plain": [
       "<Figure size 621.739x200.667 with 1 Axes>"
      ]
     },
     "execution_count": 2,
     "metadata": {},
     "output_type": "execute_result"
    }
   ],
   "source": [
    "from qiskit import QuantumCircuit\n",
    "from qiskit.quantum_info import SparsePauliOp\n",
    "from qiskit.circuit.library import TwoLocal\n",
    "import numpy as np\n",
    " \n",
    "theta_list = (2 * np.pi * np.random.rand(1, 8)).tolist()\n",
    "observable = SparsePauliOp.from_list([(\"XX\", 1), (\"YY\", -3)])\n",
    " \n",
    "reference_circuit = QuantumCircuit(2)\n",
    "reference_circuit.x(0)\n",
    " \n",
    "variational_form = TwoLocal(\n",
    "    2,\n",
    "    rotation_blocks=[\"rz\", \"ry\"],\n",
    "    entanglement_blocks=\"cx\",\n",
    "    entanglement=\"linear\",\n",
    "    reps=1,\n",
    ")\n",
    "ansatz = reference_circuit.compose(variational_form)\n",
    " \n",
    "ansatz.decompose().draw(\"mpl\")"
   ]
  },
  {
   "cell_type": "code",
   "execution_count": 3,
   "id": "b4e0423b",
   "metadata": {},
   "outputs": [],
   "source": [
    "def cost_func_vqe(params, ansatz, hamiltonian, estimator):\n",
    "    \"\"\"Return estimate of energy from estimator\n",
    " \n",
    "    Parameters:\n",
    "        params (ndarray): Array of ansatz parameters\n",
    "        ansatz (QuantumCircuit): Parameterized ansatz circuit\n",
    "        hamiltonian (SparsePauliOp): Operator representation of Hamiltonian\n",
    "        estimator (Estimator): Estimator primitive instance\n",
    " \n",
    "    Returns:\n",
    "        float: Energy estimate\n",
    "    \"\"\"\n",
    "    pub = (ansatz, hamiltonian, params)\n",
    "    cost = estimator.run([pub]).result()[0].data.evs\n",
    "    return cost"
   ]
  },
  {
   "cell_type": "code",
   "execution_count": 4,
   "id": "c9030809",
   "metadata": {},
   "outputs": [],
   "source": [
    "from qiskit.primitives import StatevectorEstimator\n",
    " \n",
    "estimator = StatevectorEstimator()"
   ]
  },
  {
   "cell_type": "markdown",
   "id": "def703dd",
   "metadata": {},
   "source": [
    "## Local optimizers"
   ]
  },
  {
   "cell_type": "markdown",
   "id": "7c965c61",
   "metadata": {},
   "source": [
    "Local optimizers search for a point that minimizes the cost function starting at an initial point(s) $C(\\vec{\\theta_{0}})$ and move to different points based on what they observe in the region they are currently evaluating on successive iterations. This implies that the convergence of these algorithms will usually be fast, but can be heavily dependent on the initial point. Local optimizers are unable to see beyond the region where they are evaluating and can be especially vulnerable to local minima, reporting convergence when they find one and ignoring other states with more favorable evaluations."
   ]
  },
  {
   "cell_type": "code",
   "execution_count": 5,
   "id": "e53f8467",
   "metadata": {},
   "outputs": [
    {
     "data": {
      "text/plain": [
       "     message: Optimization terminated successfully\n",
       "     success: True\n",
       "      status: 0\n",
       "         fun: -3.9999999964553954\n",
       "           x: [ 1.000e+00  1.000e+00 -1.571e+00 -4.556e-05 -1.207e+00\n",
       "               -1.935e+00  4.079e-01 -4.079e-01]\n",
       "         nit: 12\n",
       "         jac: [-1.192e-07 -8.941e-08 -7.958e-04  2.543e-04  1.381e-03\n",
       "                1.381e-03  5.430e-04  5.431e-04]\n",
       "        nfev: 112\n",
       "        njev: 12\n",
       " multipliers: []"
      ]
     },
     "execution_count": 5,
     "metadata": {},
     "output_type": "execute_result"
    }
   ],
   "source": [
    "# SciPy minimizer routine\n",
    "from scipy.optimize import minimize\n",
    " \n",
    "x0 = np.ones(8)\n",
    " \n",
    "result = minimize(\n",
    "    cost_func_vqe, x0, args=(ansatz, observable, estimator), method=\"SLSQP\"\n",
    ")\n",
    " \n",
    "result"
   ]
  },
  {
   "cell_type": "markdown",
   "id": "d08424e5",
   "metadata": {},
   "source": [
    "## Gradient-based optimization"
   ]
  },
  {
   "cell_type": "code",
   "execution_count": 6,
   "id": "8fd6dcfe",
   "metadata": {},
   "outputs": [
    {
     "data": {
      "text/plain": [
       "  message: Optimization terminated successfully.\n",
       "  success: True\n",
       "   status: 0\n",
       "      fun: -3.999999999999782\n",
       "        x: [ 1.000e+00  1.000e+00  1.571e+00  2.785e-07  2.009e-01\n",
       "            -2.009e-01  6.342e-01 -6.342e-01]\n",
       "      nit: 14\n",
       "      jac: [ 5.960e-08 -2.980e-08  8.941e-07  1.013e-06  2.086e-07\n",
       "             1.490e-07  5.960e-08  5.960e-08]\n",
       " hess_inv: [[ 1.000e+00 -2.999e-08 ... -7.780e-05 -6.011e-05]\n",
       "            [-2.999e-08  1.000e+00 ... -3.475e-06 -7.574e-07]\n",
       "            ...\n",
       "            [-7.780e-05 -3.475e-06 ...  7.242e-01 -2.603e-01]\n",
       "            [-6.011e-05 -7.574e-07 ... -2.603e-01  8.180e-01]]\n",
       "     nfev: 144\n",
       "     njev: 16"
      ]
     },
     "execution_count": 6,
     "metadata": {},
     "output_type": "execute_result"
    }
   ],
   "source": [
    "# SciPy minimizer routine\n",
    "from scipy.optimize import minimize\n",
    " \n",
    "x0 = np.ones(8)\n",
    " \n",
    "result = minimize(\n",
    "    cost_func_vqe, x0, args=(ansatz, observable, estimator), method=\"BFGS\"\n",
    ")\n",
    " \n",
    "result"
   ]
  },
  {
   "cell_type": "markdown",
   "id": "0985412d",
   "metadata": {},
   "source": [
    "## Gradient-free optimization \n",
    "\n",
    "-   Can find global optimum point. \n",
    "-   Need more copmutational resources then gradient-based algorithm"
   ]
  },
  {
   "cell_type": "code",
   "execution_count": 7,
   "metadata": {},
   "outputs": [
    {
     "data": {
      "text/plain": [
       " message: Return from COBYLA because the trust region radius reaches its lower bound.\n",
       " success: True\n",
       "  status: 0\n",
       "     fun: -3.9999999973963356\n",
       "       x: [ 6.150e-01  9.402e-01  1.571e+00  3.142e+00  2.364e+00\n",
       "           -7.776e-01  2.061e+00  1.081e+00]\n",
       "    nfev: 114\n",
       "   maxcv: 0.0"
      ]
     },
     "execution_count": 7,
     "metadata": {},
     "output_type": "execute_result"
    }
   ],
   "source": [
    "# SciPy minimizer routine\n",
    "from scipy.optimize import minimize\n",
    " \n",
    "x0 = np.ones(8)\n",
    " \n",
    "result = minimize(\n",
    "    cost_func_vqe, x0, args=(ansatz, observable, estimator), method=\"COBYLA\"\n",
    ")\n",
    " \n",
    "result"
   ]
  },
  {
   "cell_type": "markdown",
   "id": "341cd547",
   "metadata": {},
   "source": [
    "## Barren Plateaus"
   ]
  },
  {
   "cell_type": "markdown",
   "id": "372b02a0",
   "metadata": {},
   "source": [
    "Regardless of the type of optimization method used, if the cost landscape is relatively flat, it can be challenging for the method to determine the appropriate direction to search. This scenario is referred to as a barren plateau, where the cost landscape becomes progressively flatter (and thus more challenging to determine the direction to the minimum). \n",
    "\n",
    "For a broad range of parameterized quantum circuits, the probability that the gradient along any reasonable direction is non-zero to some fixed precision decreases exponentially as the number of qubits increases."
   ]
  },
  {
   "cell_type": "markdown",
   "id": "cdef2070",
   "metadata": {},
   "source": [
    "While this area is still under active research, we have a few recommendations to improve optimization performance:\n",
    "\n",
    "*   Bootstrapping can help the optimization loop avoid getting stuck in a parameter space where the gradient is small.\n",
    "*   Experimenting with hardware-efficient ansatz: Since we're using a noisy quantum system as a black-box oracle, the quality of those evaluations can affect the optimizer's performance. Using hardware-efficient ansatz, such as `EfficientSU2`, may avoid producing exponentially small gradients.\n",
    "*   Experimenting with error suppression and error mitigation: the Qiskit Runtime primitives provide a simple interface to experiment with various values for optimization_level and resilience_setting, respectively. This can reduce the impact of noise and make the optimization process more efficient.\n",
    "*   Experimenting with gradient-free optimizers: Unlike gradient-based optimization algorithms, optimizers such as COBYLA do not rely on gradient information to optimize the parameters and are therefore less likely to be affected by the barren plateau.\n"
   ]
  }
 ],
 "metadata": {
  "kernelspec": {
   "display_name": "IBM_toturial",
   "language": "python",
   "name": "python3"
  },
  "language_info": {
   "codemirror_mode": {
    "name": "ipython",
    "version": 3
   },
   "file_extension": ".py",
   "mimetype": "text/x-python",
   "name": "python",
   "nbconvert_exporter": "python",
   "pygments_lexer": "ipython3",
   "version": "3.13.5"
  }
 },
 "nbformat": 4,
 "nbformat_minor": 5
}
