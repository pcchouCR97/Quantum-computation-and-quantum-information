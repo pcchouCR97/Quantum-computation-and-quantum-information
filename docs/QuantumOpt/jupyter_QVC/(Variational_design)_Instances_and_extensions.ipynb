{
 "cells": [
  {
   "cell_type": "markdown",
   "id": "31da7938",
   "metadata": {},
   "source": [
    "# Instances and extensions"
   ]
  },
  {
   "cell_type": "markdown",
   "id": "78129efe",
   "metadata": {},
   "source": [
    "## References:\n",
    "\n",
    "[1] https://quantum.cloud.ibm.com/learning/en/courses/variational-algorithm-design/instances-and-extensions#subspace-search-vqe-ssvqe\n",
    "\n",
    "[2].    qiskit.primitives (https://quantum.cloud.ibm.com/docs/en/api/qiskit/primitives)"
   ]
  },
  {
   "cell_type": "markdown",
   "id": "2e209621",
   "metadata": {},
   "source": [
    "This chapter will cover several quantum variational algorithms. inclduing\n",
    "\n",
    "*   Variational Quantum Eignesolver (VQE)\n",
    "*   Subspace Search VQE (SSVQE)\n",
    "*   Variational Quantum Deflation (VQD)\n",
    "*   Quantum Sampling Regression (QSR)\n",
    "\n"
   ]
  },
  {
   "cell_type": "markdown",
   "id": "d4883bad",
   "metadata": {},
   "source": [
    "## Variational Quantum Eigensolver (VQE)"
   ]
  },
  {
   "cell_type": "markdown",
   "id": "597a8b11",
   "metadata": {},
   "source": [
    "[VQE](https://arxiv.org/abs/1304.3061) is one of the most widely used variational quantum algorithms, setting up a template for other algorithms to build upon.\n",
    "\n",
    "\n",
    "<div style=\"text-align: center;\">\n",
    "    <img src=\"../../QuantumOpt/image_QVC/instances-vqe.svg\" alt=\"instances-vqe\" style=\"width: auto; height: auto;\">\n",
    "    <p style=\"font-size: 16px; font-style: italic; color: gray; margin-top: 5px;\">\n",
    "        High level VQE circuit overview.\n",
    "    </p>\n",
    "</div>"
   ]
  },
  {
   "cell_type": "markdown",
   "id": "f6c36284",
   "metadata": {},
   "source": [
    "## Math layout\n",
    "\n",
    "1.  Prepare reference opeartors $U_{R}$\n",
    "    *   $|0\\rangle \\rightarrow |\\rho\\rangle$\n",
    "\n",
    "2.  Apply the variational form $U_{V}(\\vec{\\theta}_{i,j})$\n",
    "3.  Bootstrap at $i=0$ if we have a similar problem(typically found via classical simulation or sampling)\n",
    "    *   Each optimizer will be bootstrapped differently, resulting in an initial set of parameters vectors $\\Theta_{0}: = \\\\vec{theta}_{0,j}|j \\in \\mathcal{J}^{0}_{\\text{opt}}$. For example, from an initial point $\\vec{\\theta}_0$\n",
    "4.  Evaluate the cost function $C(\\vec{\\theta}_{i,j}): = \\langle \\psi(\\vec{\\theta}|\\hat{H}|\\psi(\\vec{\\theta}))$ for all prepared states on a quantum computer.\n",
    "5.  Use a classical optimzer to select the next set of parameters $\\Theta_{i+1}$.\n",
    "6.  Repeast the process until covergence is reached.\n"
   ]
  },
  {
   "cell_type": "markdown",
   "id": "7eaacfb2",
   "metadata": {},
   "source": [
    "Here's the example for the following observable:\n",
    "\n",
    "$$\n",
    "\\hat{O}_{1} = 2II - 2 XX + 3YY - 3 ZZ\n",
    "$$"
   ]
  },
  {
   "cell_type": "code",
   "execution_count": 7,
   "id": "00e16f0c",
   "metadata": {},
   "outputs": [
    {
     "name": "stderr",
     "output_type": "stream",
     "text": [
      "C:\\Users\\berli\\AppData\\Local\\Temp\\ipykernel_46140\\3875411322.py:14: DeprecationWarning: The class ``qiskit.circuit.library.n_local.two_local.TwoLocal`` is deprecated as of Qiskit 2.1. It will be removed in Qiskit 3.0. Use the function qiskit.circuit.library.n_local instead.\n",
      "  variational_form = TwoLocal(\n"
     ]
    },
    {
     "data": {
      "image/png": "[encoded data removed]",
      "text/plain": [
       "<Figure size 621.739x200.667 with 1 Axes>"
      ]
     },
     "execution_count": 7,
     "metadata": {},
     "output_type": "execute_result"
    }
   ],
   "source": [
    "from qiskit import  QuantumCircuit\n",
    "from qiskit.quantum_info import SparsePauliOp\n",
    "from qiskit.circuit.library import TwoLocal\n",
    "import numpy as np\n",
    "\n",
    "theta_list = (2 * np.pi *np.random.rand(1,8)).tolist()\n",
    "observable = SparsePauliOp.from_list([(\"II\",2), (\"XX\",-2), (\"YY\",3), (\"ZZ\",-3)])\n",
    "\n",
    "reference_circuit = QuantumCircuit(2)\n",
    "reference_circuit.x(0) # set index qubit as 1. -> |q1q0> = |10>\n",
    "\n",
    "#reference_circuit.draw(\"mpl\")\n",
    "\n",
    "variational_form = TwoLocal(\n",
    "    2,\n",
    "    rotation_blocks=[\"rz\", \"ry\"],\n",
    "    entanglement_blocks=\"cx\",\n",
    "    entanglement=\"linear\",\n",
    "    reps=1\n",
    ")\n",
    "\n",
    "ansatz= reference_circuit.compose(variational_form)\n",
    "ansatz.decompose().draw(\"mpl\")\n"
   ]
  },
  {
   "cell_type": "markdown",
   "id": "ed65a2d5",
   "metadata": {},
   "source": [
    "## Define cost function"
   ]
  },
  {
   "cell_type": "code",
   "execution_count": 8,
   "id": "20a7c32b",
   "metadata": {},
   "outputs": [],
   "source": [
    "def cost_func_vqe(params, ansatz, hamiltonian, estimator):\n",
    "    \"\"\"Return estimate of energy from estimator\n",
    " \n",
    "    Parameters:\n",
    "        params (ndarray): Array of ansatz parameters\n",
    "        ansatz (QuantumCircuit): Parameterized ansatz circuit\n",
    "        hamiltonian (SparsePauliOp): Operator representation of Hamiltonian\n",
    "        estimator (Estimator): Estimator primitive instance\n",
    " \n",
    "    Returns:\n",
    "        float: Energy estimate\n",
    "    \"\"\"\n",
    "\n",
    "    estimator_job = estimator.run([(ansatz,hamiltonian, [params])])\n",
    "    estimator_result = estimator_job.result()[0]\n",
    "    \n",
    "    cost = estimator_result.data.evs[0]\n",
    "    return cost"
   ]
  },
  {
   "cell_type": "code",
   "execution_count": 9,
   "id": "77067107",
   "metadata": {},
   "outputs": [],
   "source": [
    "from qiskit.primitives import StatevectorEstimator\n",
    " \n",
    "estimator = StatevectorEstimator()"
   ]
  },
  {
   "cell_type": "code",
   "execution_count": 10,
   "id": "93e0ba6f",
   "metadata": {},
   "outputs": [
    {
     "data": {
      "text/plain": [
       " message: Return from COBYLA because the trust region radius reaches its lower bound.\n",
       " success: True\n",
       "  status: 0\n",
       "     fun: -5.999999986288595\n",
       "       x: [ 2.274e+00  8.371e-01  1.571e+00  1.187e-06  2.500e+00\n",
       "            6.414e-01  6.336e-01  6.335e-01]\n",
       "    nfev: 92\n",
       "   maxcv: 0.0"
      ]
     },
     "execution_count": 10,
     "metadata": {},
     "output_type": "execute_result"
    }
   ],
   "source": [
    "# SciPy minimizer routine\n",
    "from scipy.optimize import minimize\n",
    " \n",
    "x0 = np.ones(8)\n",
    " \n",
    "result = minimize(\n",
    "    cost_func_vqe, x0, args=(ansatz, observable, estimator), method=\"COBYLA\"\n",
    ")\n",
    "\n",
    "result"
   ]
  },
  {
   "cell_type": "markdown",
   "id": "46b5078d",
   "metadata": {},
   "source": [
    "## Run optimization on a real quantum compter"
   ]
  },
  {
   "cell_type": "code",
   "execution_count": 11,
   "id": "32b39af0",
   "metadata": {},
   "outputs": [
    {
     "name": "stderr",
     "output_type": "stream",
     "text": [
      "qiskit_runtime_service._resolve_cloud_instances:WARNING:2025-09-14 21:54:26,381: Default instance not set. Searching all available instances.\n"
     ]
    },
    {
     "name": "stdout",
     "output_type": "stream",
     "text": [
      "<IBMBackend('ibm_brisbane')>\n"
     ]
    }
   ],
   "source": [
    "from qiskit_ibm_runtime import SamplerV2 as Sampler\n",
    "from qiskit_ibm_runtime import EstimatorV2 as Estimator\n",
    "from qiskit_ibm_runtime import Session, EstimatorOptions\n",
    "from qiskit_ibm_runtime import QiskitRuntimeService\n",
    " \n",
    " \n",
    "service = QiskitRuntimeService()\n",
    "backend = service.least_busy(operational=True, simulator=False)\n",
    "print(backend)\n"
   ]
  },
  {
   "cell_type": "code",
   "execution_count": null,
   "id": "4457f8d0",
   "metadata": {},
   "outputs": [
    {
     "data": {
      "text/plain": [
       "'\\n# Load necessary packages:\\nfrom qiskit_ibm_runtime import (\\n    QiskitRuntimeService,\\n    Session,\\n    EstimatorOptions,\\n    EstimatorV2 as Estimator,\\n)\\nfrom qiskit import transpile\\n\\n# 1) Transpile circuit to backend’s ISA\\nisa_ansatz = transpile(ansatz, backend=backend, optimization_level=2,\\n                       layout_method=\"sabre\", routing_method=\"sabre\")\\n\\n# 2) Align observable with the transpiled layout\\nisa_observable = observable.apply_layout(layout=isa_ansatz.layout)\\n\\n# 3) Estimator (no Session on Open plan)\\nestimator = Estimator(mode=backend,\\n                      options=EstimatorOptions(resilience_level=1, default_shots=10000))\\n\\n# 4) Use matching parameter vector length\\n#theta_list = np.random.rand(isa_ansatz.num_parameters).tolist()\\n\\nresult = minimize(\\n        cost_func_vqe,\\n        x0,\\n        args=(isa_ansatz, isa_observable, estimator),\\n        method=\"COBYLA\",\\n        options={\"maxiter\": 200, \"disp\": True},\\n    )\\n\\nprint(result)\\n'"
      ]
     },
     "execution_count": 12,
     "metadata": {},
     "output_type": "execute_result"
    }
   ],
   "source": [
    "### Run this optimization on a real device\n",
    "\"\"\"\n",
    "# Load necessary packages:\n",
    "from qiskit_ibm_runtime import (\n",
    "    QiskitRuntimeService,\n",
    "    Session,\n",
    "    EstimatorOptions,\n",
    "    EstimatorV2 as Estimator,\n",
    ")\n",
    "from qiskit import transpile\n",
    "\n",
    "# 1) Transpile circuit to backend’s ISA\n",
    "isa_ansatz = transpile(ansatz, backend=backend, optimization_level=2,\n",
    "                       layout_method=\"sabre\", routing_method=\"sabre\")\n",
    "\n",
    "# 2) Align observable with the transpiled layout\n",
    "isa_observable = observable.apply_layout(layout=isa_ansatz.layout)\n",
    "\n",
    "# 3) Estimator (no Session on Open plan)\n",
    "estimator = Estimator(mode=backend,\n",
    "                      options=EstimatorOptions(resilience_level=1, default_shots=10000))\n",
    "\n",
    "# 4) Use matching parameter vector length\n",
    "#theta_list = np.random.rand(isa_ansatz.num_parameters).tolist()\n",
    "\n",
    "result = minimize(\n",
    "        cost_func_vqe,\n",
    "        x0,\n",
    "        args=(isa_ansatz, isa_observable, estimator),\n",
    "        method=\"COBYLA\",\n",
    "        options={\"maxiter\": 200, \"disp\": True},\n",
    "    )\n",
    "\n",
    "print(result)\n",
    "\"\"\""
   ]
  },
  {
   "cell_type": "markdown",
   "id": "be507887",
   "metadata": {},
   "source": [
    "## Subspace Search VQE (SSVQE)"
   ]
  },
  {
   "cell_type": "markdown",
   "id": "d4e0b4b7",
   "metadata": {},
   "source": [
    "[SSVQE](https://arxiv.org/abs/1810.09434) is a variant of VQE that allows obtaining the first $k$ eigenvalues of an observable $\\hat{H}$ with eigenvalues ${\\lambda_{0},\\lambda_{1},...,\\lambda_{N-1}}$, where $N \\leq k$. Without loss of generality, we assume that $\\lambda_{0}<\\lambda_{1}<...<\\lambda_{N-1}$. SSVQE introduces a new idea by adding weights to help prioritize optimizing for the term with the largest weight."
   ]
  },
  {
   "cell_type": "markdown",
   "id": "7af1be77",
   "metadata": {},
   "source": [
    "\n",
    "<div style=\"text-align: center;\">\n",
    "    <img src=\"../../QuantumOpt/image_QVC/instances-ssvqe.svg\" alt=\"instances-ssvqe\" style=\"width: auto; height: auto;\">\n",
    "    <p style=\"font-size: 16px; font-style: italic; color: gray; margin-top: 5px;\">\n",
    "        High level SSVQE circuit overview.\n",
    "    </p>\n",
    "</div>"
   ]
  },
  {
   "cell_type": "markdown",
   "id": "6f5c8028",
   "metadata": {},
   "source": [
    "To implement this algorithm, we need $k$ mutaully orthogonal reference states ${|\\rho_{j}\\rangle}^{k-1}_{j=0}$, meaning $\\langle \\rho_{j}|\\rho_{l}\\rangle = \\delta_{jl}$ for $j,l <k$. These states can be constructed using Pauli operators. \n",
    "\n",
    "The cost function of this algorithm is then:\n",
    "\n",
    "$$\n",
    "\\begin{aligned}\n",
    "C(\\vec{\\theta}) &:= \\sum_{j=0}^{k-1} w_j \\,\\langle \\rho_j \\mid U_V^\\dagger(\\vec{\\theta})\\,\\hat H\\,U_V(\\vec{\\theta}) \\mid \\rho_j \\rangle \\\\\n",
    "                &:= \\sum_{j=0}^{k-1} w_j \\,\\langle \\psi_j(\\vec{\\theta}) \\mid \\hat H \\mid \\psi_j(\\vec{\\theta}) \\rangle\n",
    "\\end{aligned}\n",
    "$$\n",
    "\n",
    "where $w_{j}$ is an arbitrary positive number such that if $j<l<k$ then $w_{j} > w_{l}$, and $U_{V}(\\vec{\\theta})$ is the user-defined variational form.\n"
   ]
  },
  {
   "cell_type": "markdown",
   "id": "0cea8811",
   "metadata": {},
   "source": [
    "The SSVQE algorithm relies on the fact that eigenstates corresponding to different eigencalues are mutually orthogonal. Specifically, the inner product of $U_{V}(\\vec{\\theta})|\\rho_{j}\\rangle$ and $U_{V}(\\vec{\\theta})|\\rho_{l}\\rangle$ can be expressed as:\n",
    "\n",
    "$$\n",
    "\\begin{aligned}\n",
    "\\langle \\rho_j \\mid U_V^\\dagger(\\vec{\\theta})\\ U_V(\\vec{\\theta}) \\mid \\rho_j \\rangle & = \\langle \\rho_{l}|I|\\rho_{l}\\rangle\\\\\n",
    " & = \\langle\\rho_{j}|\\rho_{l}\\rangle\\\\\n",
    " & = \\delta_{jl}\n",
    "\\end{aligned}\n",
    "\n",
    "$$"
   ]
  },
  {
   "cell_type": "markdown",
   "id": "05e58621",
   "metadata": {},
   "source": [
    "The first equality holds becasue $U_{V}\\vec(\\theta)$ is a quantum operator and is therefore unitary. The last equality holds becasue of the orthogonality of the reference states $|\\rho_{j}\\rangle$. The fact that orthogonality is preserved through unitary transformations is deeply related to the principle of conservation of information, as expressed in quantum information science. Under this view, non-unitary transformations represent processes where information is either lost or injected."
   ]
  },
  {
   "cell_type": "markdown",
   "id": "4eb08627",
   "metadata": {},
   "source": [
    "**Weight $w_{j}$ helpe ensure that all the state are eigenstates.** \n",
    "\n",
    "*   If the weights are sufficiently different, the term with the largest weight, that is, $w_0$, will be given priority during optimization over the others. \n",
    "\n",
    "*   As a result, the resulting state $U_{V}(\\vec{\\theta})|\\rho_0\\rangle$ will become the eigenstate corresponding to $\\lambda_0$. \n",
    "\n",
    "*   Since $\\{U_{V}(\\vec{\\theta})|\\rho_{j}\\rangle\\}^{k-1}_j=0$ are mutaully orthogonal, the remaining states will be orthogonal to it and, therefore, contained in the subspace corresponding to the eigenvalues $\\{\\lambda_{1},...,\\lambda_{N-1}\\}$.\n",
    "\n",
    "Applying the same argument to the rest of the terms, the next priority would then be the term with weight $w_1$, so $U_{V}(\\vec{\\theta})|\\rho_0\\rangle$ would be the eigenstate correspoonding to $\\lambda_1$, and the other terms would be contained in the eigenspace $\\{\\lambda_{2},...,\\lambda_{N-1}\\}$.\n",
    "\n",
    "By reasoning inductively, we deduce that $U_{V}(\\vec{\\theta}|\\rho_{j}\\rangle)$ will be and approximate eigenstate of $\\lambda_{j}$ for $0\\leq j < k$"
   ]
  },
  {
   "cell_type": "markdown",
   "id": "e002d77b",
   "metadata": {},
   "source": [
    "## Math layout\n",
    "\n",
    "SSVQE's can be summarized as follows:\n",
    "\n",
    "- **Prepare several reference states** by applying a unitary $U_R$ to $k$ different computational basis states  \n",
    "\n",
    "  - This algorithm requires the usage of $k$ mutually orthogonal reference states $\\{ \\lvert \\rho_j \\rangle \\}_{j=0}^{k-1}$,  \n",
    "    such that $\\langle \\rho_j \\mid \\rho_l \\rangle = \\delta_{jl}$ for $j,l < k$.\n",
    "\n",
    "- **Apply the variational form** $U_V(\\vec{\\theta}_{i,j})$ to each reference state, resulting in the following ansatz:  \n",
    "  $$\n",
    "  U_A(\\vec{\\theta}_{i,j})\n",
    "  $$\n",
    "\n",
    "- **Bootstrap at $i=0$** if a similar problem is available (usually found via classical simulation or sampling).\n",
    "\n",
    "- **Evaluate the cost function**  \n",
    "  $$\n",
    "  C(\\vec{\\theta}_{i,j}) := \\sum_{j=0}^{k-1} w_j \\, \\langle \\psi_j(\\vec{\\theta}) \\mid \\hat{H} \\mid \\psi_j(\\vec{\\theta}) \\rangle\n",
    "  $$\n",
    "  for all prepared states on a quantum computer.\n",
    "\n",
    "  - This can be separated into calculating the expectation value for an observable  \n",
    "    $\\langle \\psi_j(\\vec{\\theta}) \\mid \\hat{H} \\mid \\psi_j(\\vec{\\theta}) \\rangle$  \n",
    "    and multiplying that result by $w_j$.\n",
    "  - Afterward, the cost function returns the sum of all weighted expectation values.\n",
    "\n",
    "- **Use a classical optimizer** to determine the next set of parameters $\\vec{\\Theta}_{i+1}$.\n",
    "\n",
    "- **Repeat** the above steps until convergence is achieved.\n",
    "\n",
    "\n"
   ]
  },
  {
   "cell_type": "markdown",
   "id": "6bee48c8",
   "metadata": {},
   "source": [
    "## build cost function"
   ]
  },
  {
   "cell_type": "code",
   "execution_count": 13,
   "id": "cc873169",
   "metadata": {},
   "outputs": [],
   "source": [
    "import numpy as np\n",
    "\n",
    "def cost_func_ssvqe(\n",
    "    params, initialized_ansatz_list, weights, ansatz, hamiltonian, estimator\n",
    "):\n",
    "    # \"\"\"Return estimate of energy from estimator\n",
    " \n",
    "    # Parameters:\n",
    "    #     params (ndarray): Array of ansatz parameters\n",
    "    #     initialized_ansatz_list (list QuantumCircuit): Array of initialised ansatz with reference\n",
    "    #     weights (list): List of weights\n",
    "    #     ansatz (QuantumCircuit): Parameterized ansatz circuit\n",
    "    #     hamiltonian (SparsePauliOp): Operator representation of Hamiltonian\n",
    "    #     estimator (Estimator): Estimator primitive instance\n",
    " \n",
    "    # Returns:\n",
    "    #     float: Weighted energy estimate\n",
    "    # \"\"\"\n",
    "    energies = []\n",
    "\n",
    "    # Build circuits: for each |ρ_j>, apply U_V(θ)\n",
    "    for ref in initialized_ansatz_list:\n",
    "        # Apply U_V(θ) after reference state |ρ_j>\n",
    "        circ = ref.compose(ansatz)\n",
    "        job = estimator.run([(circ, hamiltonian, [params])])\n",
    "        result = job.result()[0]             # first (and only) element\n",
    "        ev = result.data.evs                 # expectation value(s)\n",
    "        energies.append(float(np.atleast_1d(ev)[0]))\n",
    "\n",
    "    weighted_energy_sum = float(np.dot(weights, energies))\n",
    "    return weighted_energy_sum\n",
    "\n"
   ]
  },
  {
   "cell_type": "code",
   "execution_count": 14,
   "id": "b8dfef0b",
   "metadata": {},
   "outputs": [],
   "source": [
    "from qiskit.primitives import StatevectorEstimator\n",
    " \n",
    "estimator = StatevectorEstimator()"
   ]
  },
  {
   "cell_type": "code",
   "execution_count": 15,
   "id": "a2772e43",
   "metadata": {},
   "outputs": [],
   "source": [
    "# ----- SSVQE bits -----\n",
    "\n",
    "# 1) Build k orthogonal reference states (you can keep |10>, but add a few more)\n",
    "refs = []\n",
    "# |00>\n",
    "qc00 = QuantumCircuit(2); refs.append(qc00)\n",
    "# |01>\n",
    "qc01 = QuantumCircuit(2); qc01.x(1); refs.append(qc01)\n",
    "# |10>  (your original)\n",
    "qc10 = QuantumCircuit(2); qc10.x(0); refs.append(qc10)\n",
    "# |11>\n",
    "qc11 = QuantumCircuit(2); qc11.x(0); qc11.x(1); refs.append(qc11)\n",
    "\n",
    "# choose how many to use (<= 4 for 2 qubits)\n",
    "initialized_ansatz_list = refs[:3]  # e.g., use 3 states\n",
    "\n",
    "# 2) Weights (one per ref) — prioritize ground state\n",
    "weights = np.array([1.0, 0.5, 0.25], float)[:len(initialized_ansatz_list)]\n"
   ]
  },
  {
   "cell_type": "code",
   "execution_count": 16,
   "id": "1495dd91",
   "metadata": {},
   "outputs": [
    {
     "name": "stdout",
     "output_type": "stream",
     "text": [
      "SSVQE optimum (weighted): -2.9999999916577647\n",
      "best θ: [ 6.73251237e+00  1.11644523e+00  4.71235437e+00  3.14158611e+00\n",
      "  4.71236477e+00  4.71235613e+00 -1.00586516e-04  3.14152194e+00]\n"
     ]
    },
    {
     "data": {
      "text/plain": [
       " message: Return from COBYLA because the trust region radius reaches its lower bound.\n",
       " success: True\n",
       "  status: 0\n",
       "     fun: -5.999999986288595\n",
       "       x: [ 2.274e+00  8.371e-01  1.571e+00  1.187e-06  2.500e+00\n",
       "            6.414e-01  6.336e-01  6.335e-01]\n",
       "    nfev: 92\n",
       "   maxcv: 0.0"
      ]
     },
     "execution_count": 16,
     "metadata": {},
     "output_type": "execute_result"
    }
   ],
   "source": [
    "# SciPy minimizer routine\n",
    "from scipy.optimize import minimize\n",
    "from qiskit.primitives import StatevectorEstimator\n",
    " \n",
    "estimator = StatevectorEstimator()\n",
    "\n",
    "# 5) Optimize\n",
    "num_params = len(variational_form.parameters)\n",
    "x0 = np.array(theta_list[0][:num_params], float)   # or np.zeros(num_params)\n",
    "\n",
    "res = minimize(\n",
    "    cost_func_ssvqe,\n",
    "    x0,\n",
    "    args=(initialized_ansatz_list, weights, variational_form, observable, estimator),\n",
    "    method=\"COBYLA\",\n",
    ")\n",
    "\n",
    "print(\"SSVQE optimum (weighted):\", res.fun)\n",
    "print(\"best θ:\", res.x)\n",
    "\n",
    " \n",
    "result"
   ]
  },
  {
   "cell_type": "markdown",
   "id": "f7156471",
   "metadata": {},
   "source": [
    "## Variational Quantum Deflation (VQD)\n",
    "\n",
    "**VQD** extends the Variational Quantum Eigensolver (VQE) to compute not only the ground state (lowest eigenvalue) but also excited states of a Hamiltonian.\n",
    "\n",
    "- **Problem:** Standard VQE finds only the lowest eigenvalue λ₀.  \n",
    "- **Solution:** VQD introduces a **penalty term** to enforce orthogonality with previously found eigenstates, so that successive runs converge to $\\lambda_{1}, \\lambda_{2},...$\n",
    "\n",
    "\n",
    "<div style=\"text-align: center;\">\n",
    "    <img src=\"../../QuantumOpt/image_QVC/instances-vqd.svg\" alt=\"instances-vqd\" style=\"width: auto; height: auto;\">\n",
    "    <p style=\"font-size: 16px; font-style: italic; color: gray; margin-top: 5px;\">\n",
    "        High level VQD circuit overview.\n",
    "    </p>\n",
    "</div>\n",
    "\n",
    "### Cost Function\n",
    "For the $k$-th eigenvalue:\n",
    "\n",
    "$$\n",
    "C_k(\\vec{\\theta}) = \n",
    "\\langle \\psi(\\vec{\\theta})|\\hat H|\\psi(\\vec{\\theta})\\rangle\n",
    "+ \\sum_{j=0}^{k-1} \\beta_j \n",
    "|\\langle \\psi(\\vec{\\theta})|\\psi(\\vec{\\theta}_j)\\rangle|^2\n",
    "$$\n",
    "\n",
    "-   First term = usual VQE expectation value.  \n",
    "-   Second term = penalty to push the new state orthogonal to previously found states.  \n",
    "-   $\\beta_{j}$ = positive constants controlling the penalty strength.\n",
    "\n",
    "\n",
    "### Algorithm Steps\n",
    "\n",
    "1.  Run VQE $\\rightarrow$ obtain ground state $\\lambda_{0}$ and $|\\psi({\\theta_{0}})\\rangle$.  \n",
    "2.  Add penalty for $|\\psi({\\theta_{0}})\\rangle$ $\\rightarrow$ run again $\\rightarrow$ obtain $\\lambda_{1}$.\n",
    "3.  Repeat with penalties for all previously found states to obtain higher eigenvalues $\\lambda_{2}, \\lambda_{3},...$\n",
    "\n",
    "### Notes\n",
    "-   VQD requires running VQE **k times** to obtain $k$ eigenvalues.  \n",
    "-   Efficient when a small number of low-lying excited states are needed.  \n",
    "-   Provides a hybrid, variational approach compared to Quantum Phase Estimation.\n"
   ]
  },
  {
   "cell_type": "markdown",
   "id": "e6929849",
   "metadata": {},
   "source": [
    "For example, $C_{1}(\\vec{\\theta}): = C_{0}(\\vec{\\theta}) + \\beta_0 |\\langle \\psi(\\vec{\\theta})|\\psi(\\vec{\\theta}^0)\\rangle|^2 $\n",
    "\n",
    "Alternatively, this new problem can be intrepreted as running VQE on the new observable:\n",
    "\n",
    "$$\n",
    "\\hat H_1 \\ := \\hat H\\ + \\beta_{0}|\\psi(\\vec{\\theta^{0}})\\rangle\\langle \\psi(\\vec{\\theta^{0}})| \\quad \\Rightarrow \\quad C_{1}(\\vec{\\theta}) = \\langle \\psi(\\vec{\\theta})|\\hat{H_{1}}|\\psi(\\vec{\\theta})\\rangle\n",
    "$$\n",
    "\n",
    "Assuming that the solution to the new problem is $|\\psi(\\vec{\\theta^{1}})\\rangle$, the expected value of $\\hat{H}$ (not $\\hat{H}_{1}$) should be \n",
    "\n",
    "$$\n",
    "\\langle \\psi(\\vec{\\theta^{1}})|\\hat{H}|\\psi(\\vec{\\theta^{1}})\\rangle = \\lambda_1\n",
    "$$"
   ]
  },
  {
   "cell_type": "markdown",
   "id": "93ad4add",
   "metadata": {},
   "source": [
    "To the eigenvalue $\\lambda_{2}$, we can use the previous analogy,\n",
    "\n",
    "$$\n",
    "\\hat H_2 \\ := \\hat{H}_{1} + \\beta_{1}|\\psi(\\vec{\\theta^{1}})\\rangle\\langle \\psi(\\vec{\\theta^{1}})| \\quad \\Rightarrow \\quad C_{2}(\\vec{\\theta}) = \\langle \\psi(\\vec{\\theta})|\\hat{H_{2}}|\\psi(\\vec{\\theta})\\rangle\n",
    "$$\n",
    "\n",
    "Assuming that the solution to the new problem is $|\\psi(\\vec{\\theta^{2}})\\rangle$, the expected value of $\\hat{H}$ (not $\\hat{H}_{2}$) should be \n",
    "\n",
    "$$\n",
    "\\langle \\psi(\\vec{\\theta^{2}})|\\hat{H}|\\psi(\\vec{\\theta^{2}})\\rangle = \\lambda_2\n",
    "$$"
   ]
  },
  {
   "cell_type": "markdown",
   "id": "69d998bb",
   "metadata": {},
   "source": [
    "Therefore, to obtain the $k$-th eigenvalue $\\lambda_{k-1}$, you would minimize the cost function:\n",
    "\n",
    "$$\n",
    "C_{k-1}(\\vec{\\theta}) := C_{k-2}(\\vec{\\theta}) + \\beta_{k-2}|\\langle \\psi(\\vec{\\theta})|\\psi(\\vec{\\theta}^{k-2})|^{2}.\n",
    "$$\n",
    "\n",
    "*   We defined $\\vec{\\theta}^{j}$ such that $\\langle \\psi(\\vec{\\theta}^{j})|\\hat{H}|\\psi(\\vec{\\theta}^{j})\\rangle = \\lambda_{j}, \\forall j < k$.\n",
    "*   The problem is equivalent to minimizing $C(\\vec{\\theta}) = \\langle \\psi(\\vec{\\theta})|\\hat{H}|\\psi(\\vec{\\theta})\\rangle$ but with the constraint that the state must be orthogonal to $|\\psi(\\vec{\\theta^{j}})$; $\\forall j \\in 0,..., k-1$, thereby restricting the search space to the subspace corresponding to the eigenvalues $\\{\\lambda_{k-1},...,\\lambda_{N-1}\\}$."
   ]
  },
  {
   "cell_type": "markdown",
   "id": "9b39d591",
   "metadata": {},
   "source": [
    "For the $k$-th eigenvalue:\n",
    "\n",
    "$$\n",
    "C_k(\\vec{\\theta}) = \n",
    "\\langle \\psi(\\vec{\\theta})|\\hat H|\\psi(\\vec{\\theta})\\rangle\n",
    "+ \\sum_{j=0}^{k-1} \\beta_j \n",
    "|\\langle \\psi(\\vec{\\theta})|\\psi(\\vec{\\theta}^j)\\rangle|^2\n",
    "$$"
   ]
  },
  {
   "cell_type": "markdown",
   "id": "8c495862",
   "metadata": {},
   "source": [
    "## How VQD Finds Excited States\n",
    "\n",
    "- The eigenstates of a Hermitian operator (like a Hamiltonian) are always **orthogonal**.  \n",
    "- Standard VQE finds only the **lowest eigenstate** (ground state, λ₀).  \n",
    "- To get the next eigenstate (λ₁), the trial state must be **orthogonal** to λ₀.  \n",
    "- **VQD adds a penalty term (β)**: if the trial state overlaps with λ₀, the cost increases, forcing the optimizer away from it.  \n",
    "- This restricts the search to the **remaining subspace** {λ₁, λ₂, …}.  \n",
    "- By the **variational principle**, the lowest eigenvalue in that subspace is λ₁, giving the first excited state.  \n",
    "\n",
    "👉 In plain words: VQD “pushes you away” from states already found, so the optimizer naturally lands on the next excited state.\n"
   ]
  },
  {
   "cell_type": "markdown",
   "id": "70583f89",
   "metadata": {},
   "source": [
    "## Theoretical Layout of VQD\n",
    "\n",
    "The Variational Quantum Deflation (VQD) procedure can be summarized as follows:\n",
    "\n",
    "- **Prepare a reference state** using operator $U_R$.  \n",
    "- **Apply a variational form** $U_V(\\vec{\\theta}_{i,j})$ to the reference state, producing the ansatz $U_A(\\vec{\\theta}_{i,j})$.  \n",
    "- **Bootstrap initialization:** set $i = 0$ if a similar problem (from classical simulation or sampling) provides a good starting point.  \n",
    "- **Evaluate the cost function** $C_k(\\vec{\\theta})$, which requires computing up to $k$ excited states and an array of penalty factors $\\beta_j$:  \n",
    "  - Calculate the expectation value:  \n",
    "    $$\n",
    "    \\langle \\psi_j(\\vec{\\theta})|\\hat H|\\psi_j(\\vec{\\theta})\\rangle\n",
    "    $$  \n",
    "  - Calculate the penalty term:  \n",
    "    $$\n",
    "    \\sum_{j=0}^{k-1} \\beta_j \\, |\\langle \\psi(\\vec{\\theta})|\\psi(\\vec{\\theta}_j)\\rangle|^2\n",
    "    $$  \n",
    "  - The full cost function is the sum of these two terms.  \n",
    "- **Optimize classically**: use a classical optimizer to select the next parameter set $\\vec{\\theta}_{i+1}$.  \n",
    "- **Repeat** the process until convergence is reached.\n"
   ]
  },
  {
   "cell_type": "code",
   "execution_count": 17,
   "id": "21fa64ec",
   "metadata": {},
   "outputs": [
    {
     "name": "stderr",
     "output_type": "stream",
     "text": [
      "C:\\Users\\berli\\AppData\\Local\\Temp\\ipykernel_46140\\3725103219.py:3: DeprecationWarning: The class ``qiskit.circuit.library.n_local.two_local.TwoLocal`` is deprecated as of Qiskit 2.1. It will be removed in Qiskit 3.0. Use the function qiskit.circuit.library.n_local instead.\n",
      "  ansatz = TwoLocal(2, rotation_blocks=[\"ry\", \"rz\"], entanglement_blocks=\"cz\", reps = 1)\n"
     ]
    },
    {
     "data": {
      "image/png": "[encoded data removed]",
      "text/plain": [
       "<Figure size 538.128x200.667 with 1 Axes>"
      ]
     },
     "execution_count": 17,
     "metadata": {},
     "output_type": "execute_result"
    }
   ],
   "source": [
    "from qiskit.circuit.library import TwoLocal\n",
    "\n",
    "ansatz = TwoLocal(2, rotation_blocks=[\"ry\", \"rz\"], entanglement_blocks=\"cz\", reps = 1)\n",
    "\n",
    "ansatz.decompose().draw(\"mpl\")"
   ]
  },
  {
   "cell_type": "markdown",
   "id": "ab86bace",
   "metadata": {},
   "source": [
    "First, we will set up a function that claculates the state fidelity -- a percentage of overlap between two states that we will use as a penality for VQD.\n",
    "\n",
    "The overlap bewteen two states: \n",
    "\n",
    "$$\n",
    "F = |\\langle\\psi|\\phi\\rangle|^{2}.\n",
    "$$\n",
    "\n",
    "This inner product detemines how similar two states are (1 = identical, 0 = orthogonal).\n",
    "\n"
   ]
  },
  {
   "cell_type": "code",
   "execution_count": 18,
   "id": "0b9cb793",
   "metadata": {},
   "outputs": [],
   "source": [
    "import numpy as np\n",
    " \n",
    " \n",
    "def calculate_overlaps(ansatz, prev_circuits, parameters, sampler):\n",
    "    def create_fidelity_circuit(circuit_1, circuit_2):\n",
    "        \"\"\"\n",
    "        Constructs the list of fidelity circuits to be evaluated.\n",
    "        These circuits represent the state overlap between pairs of input circuits,\n",
    "        and their construction depends on the fidelity method implementations.\n",
    "\n",
    "        Construct a quantum circuit to test the overlap (fidelity) between two states.\n",
    "        \"\"\"\n",
    " \n",
    "        if len(circuit_1.clbits) > 0:\n",
    "            circuit_1.remove_final_measurements()\n",
    "        if len(circuit_2.clbits) > 0:\n",
    "            circuit_2.remove_final_measurements()\n",
    " \n",
    "        circuit = circuit_1.compose(circuit_2.inverse())\n",
    "        circuit.measure_all()\n",
    "        return circuit\n",
    " \n",
    "    overlaps = []\n",
    " \n",
    "    for prev_circuit in prev_circuits:\n",
    "        fidelity_circuit = create_fidelity_circuit(ansatz, prev_circuit)\n",
    "        sampler_job = sampler.run([(fidelity_circuit, parameters)])\n",
    "        meas_data = sampler_job.result()[0].data.meas\n",
    " \n",
    "        counts_0 = meas_data.get_int_counts().get(0, 0)\n",
    "        shots = meas_data.num_shots\n",
    "        overlap = counts_0 / shots\n",
    "        overlaps.append(overlap)\n",
    " \n",
    "    return np.array(overlaps)"
   ]
  },
  {
   "cell_type": "markdown",
   "id": "82f498cb",
   "metadata": {},
   "source": [
    "It's time to write VQD's cost function. As before when we calculated only the ground state, we will determine the lowest energy state using the Estimator primitive. However, as described above, we will now add a penalty term to ensure orthogonality of higher-energy states. That is, for each new excited state, a penalty is added for any overlap between the current variational state and the lower-energy eigenstates already found."
   ]
  },
  {
   "cell_type": "code",
   "execution_count": 19,
   "id": "c96c4078",
   "metadata": {},
   "outputs": [],
   "source": [
    "def cost_func_vqd(\n",
    "    parameters, ansatz, prev_states, step, betas, estimator, sampler, hamiltonian\n",
    "):\n",
    "    \n",
    "    # Regular VQE cost function \n",
    "    estimator_job = estimator.run([(ansatz, hamiltonian, [parameters])])\n",
    " \n",
    "    total_cost = 0\n",
    "    \n",
    "    # if we are not looking for the ground state, add penalty terms for previous states\n",
    "    if step > 1:\n",
    "        overlaps = calculate_overlaps(ansatz, prev_states, parameters, sampler)\n",
    "        total_cost = np.sum(\n",
    "            [np.real(betas[state] * overlap) for state, overlap in enumerate(overlaps)]\n",
    "        )\n",
    " \n",
    "    estimator_result = estimator_job.result()[0]\n",
    "    \n",
    "    # add penalty to the energy with regualar VQE cost\n",
    "    value = estimator_result.data.evs[0] + total_cost\n",
    " \n",
    "    return value"
   ]
  },
  {
   "cell_type": "markdown",
   "id": "c47d4ada",
   "metadata": {},
   "source": [
    "Note especially that the cost function above refers to the `calculate_overlaps` function, which actually creates a new quantum circuit. If we want to run on real hardware, that new circuit must also be transpiled, hopefully in an optimal way, to run on the backend we select. Note that transpilation has been built in to the `calculate_overlaps` or `cost_func_vqd` functions."
   ]
  },
  {
   "cell_type": "code",
   "execution_count": 20,
   "id": "0921add2",
   "metadata": {},
   "outputs": [],
   "source": [
    "from qiskit.primitives import StatevectorEstimator as Estimator\n",
    "from qiskit.primitives import StatevectorSampler as Sampler\n",
    "\n",
    "sampler = Sampler()\n",
    "estimator = Estimator()"
   ]
  },
  {
   "cell_type": "markdown",
   "id": "129690fc",
   "metadata": {},
   "source": [
    "We will introduce an observable to be estimated. It may be helpful to think of this observable as the Hamiltonian of a system that can have excited states, even though this observable has not been chosen to match any particular molecule or atom."
   ]
  },
  {
   "cell_type": "code",
   "execution_count": 21,
   "id": "fd42d9e9",
   "metadata": {},
   "outputs": [],
   "source": [
    "from qiskit.quantum_info import SparsePauliOp\n",
    " \n",
    "observable = SparsePauliOp.from_list([(\"II\", 2), (\"XX\", -2), (\"YY\", 3), (\"ZZ\", -3)])"
   ]
  },
  {
   "cell_type": "markdown",
   "id": "ad7c9733",
   "metadata": {},
   "source": [
    "*   Here, we set the total number of states we wish to calculate (ground state and excited states, k), and the penalties (betas) for overlap between statevectors that should be orthogonal. \n",
    "*   The consequences of choosing betas to be too high or too low will be explored a bit in the next lesson."
   ]
  },
  {
   "cell_type": "code",
   "execution_count": 22,
   "id": "98a83317",
   "metadata": {},
   "outputs": [],
   "source": [
    "k = 3\n",
    "betas = [33, 33, 33]\n",
    "x0 = np.zeros(8) # the number of parameters in your ansatz."
   ]
  },
  {
   "cell_type": "code",
   "execution_count": 23,
   "id": "633ce4e0",
   "metadata": {},
   "outputs": [
    {
     "name": "stdout",
     "output_type": "stream",
     "text": [
      " message: Return from COBYLA because the trust region radius reaches its lower bound.\n",
      " success: True\n",
      "  status: 0\n",
      "     fun: -5.9999999866174205\n",
      "       x: [ 1.571e+00 -1.571e+00 -6.769e-01 -4.152e-01 -6.132e-01\n",
      "            1.106e+00  4.623e-02  7.304e-01]\n",
      "    nfev: 177\n",
      "   maxcv: 0.0\n",
      " message: Return from COBYLA because the trust region radius reaches its lower bound.\n",
      " success: True\n",
      "  status: 0\n",
      "     fun: 4.01721872032553\n",
      "       x: [ 1.660e+00  1.517e+00  1.846e-01 -1.171e+00  1.246e+00\n",
      "            1.572e-01  1.483e+00 -1.995e-01]\n",
      "    nfev: 95\n",
      "   maxcv: 0.0\n",
      " message: Return from COBYLA because the trust region radius reaches its lower bound.\n",
      " success: True\n",
      "  status: 0\n",
      "     fun: 14.211129023628597\n",
      "       x: [ 9.735e-20 -1.871e-18 -2.028e-18  1.049e+00  1.130e-02\n",
      "            5.407e-18  0.000e+00  0.000e+00]\n",
      "    nfev: 62\n",
      "   maxcv: 0.0\n"
     ]
    }
   ],
   "source": [
    "from scipy.optimize import minimize\n",
    " \n",
    "prev_states = []\n",
    "prev_opt_parameters = []\n",
    "eigenvalues = []\n",
    " \n",
    "for step in range(1, k + 1):\n",
    "    if step > 1:\n",
    "        prev_states.append(ansatz.assign_parameters(prev_opt_parameters))\n",
    " \n",
    "    result = minimize(\n",
    "        cost_func_vqd,\n",
    "        x0,\n",
    "        args=(ansatz, prev_states, step, betas, estimator, sampler, observable),\n",
    "        method=\"COBYLA\",\n",
    "        options={\n",
    "            \"maxiter\": 200,\n",
    "        },\n",
    "    )\n",
    "    print(result)\n",
    " \n",
    "    prev_opt_parameters = result.x\n",
    "    eigenvalues.append(result.fun)"
   ]
  },
  {
   "cell_type": "markdown",
   "id": "b7b3de2b",
   "metadata": {},
   "source": [
    "## Quantum Sampling Regression (QSR)\n",
    "\n",
    "\n",
    "<div style=\"text-align: center;\">\n",
    "    <img src=\"../../QuantumOpt/image_QVC/instances-qsr.svg\" alt=\"instances-qsr\" style=\"width: auto; height: auto;\">\n",
    "    <p style=\"font-size: 16px; font-style: italic; color: gray; margin-top: 5px;\">\n",
    "        High level VQD circuit overview.\n",
    "    </p>\n",
    "</div>\n",
    "\n",
    "**Motivation:**  \n",
    "\n",
    "One of the main issues with **VQE** is the need for *multiple iterative calls* to a quantum computer.  \n",
    "- At each optimization step, the algorithm evaluates the cost function for a new set of parameters ($\\vec{\\theta}_k, \\vec{\\theta}_{k-1}, \\dots$).  \n",
    "- This means sending circuits to the quantum device **thousands of times**, waiting for results, and then updating parameters on the classical side.  \n",
    "- On real hardware, these jobs often sit in a **queue**, where wait times can exceed actual execution times, making large-scale studies impractical.  \n",
    "\n",
    "While a **Session** can group several calls together, it doesn’t eliminate the need for repeated quantum-classical communication.  \n",
    "\n",
    "**Quantum Sampling Regression (QSR)** offers an alternative:  \n",
    "- Perform **one large quantum sampling call**, then reconstruct the cost function classically.  \n",
    "- This shifts most of the workload to classical resources, which are plentiful and fast, while still leveraging quantum measurements for the “hard part.”  \n",
    "\n",
    "Since today’s quantum hardware is a **low-supply / high-demand commodity**, this trade-off is both possible and convenient. QSR allows researchers to move past the bottleneck of queueing while still preserving key quantum properties that cannot be simulated efficiently on classical machines.\n",
    "\n",
    "**Key Idea:**  \n",
    "-   The cost function\n",
    "\n",
    "    $$\n",
    "    C(\\vec{\\theta}) = \\langle \\psi(\\vec{\\theta})|\\hat H|\\psi(\\vec{\\theta})\\rangle\n",
    "    $$\n",
    "\n",
    "    can be expressed as a **Fourier series** in the parameters.  \n",
    "\n",
    "    $$\n",
    "    C(\\vec{\\theta}) = a_{0} + \\sum_{k=1}^{S}[a_{k}\\text{cos}(k\\theta) + b_{k}\\text{sin}(k\\theta)]\n",
    "    $$\n",
    "\n",
    "    Set $S$ may be finite or infinate depends on periodicity and bandwidth of the origainl funciton.\n",
    "\n",
    "-   By sampling $C(\\vec{\\theta})$ at a finite number of parameter values, we can reconstruct the Fourier coefficients and approximate the function.  \n",
    "\n",
    "    When we sample the cost function for $2S+1$ parameter values \n",
    "    $\\{\\theta_1, \\ldots, \\theta_{2S+1}\\}$,  \n",
    "    we can set up the following system to recover the Fourier coefficients:\n",
    "\n",
    "    $$\n",
    "    \\begin{bmatrix}\n",
    "    1 & \\cos(\\theta_1) & \\sin(\\theta_1) & \\cos(2\\theta_1) & \\cdots & \\sin(S\\theta_1) \\\\\n",
    "    1 & \\cos(\\theta_2) & \\sin(\\theta_2) & \\cos(2\\theta_2) & \\cdots & \\sin(S\\theta_2) \\\\\n",
    "    \\vdots & \\vdots & \\vdots & \\vdots & \\ddots & \\vdots \\\\\n",
    "    1 & \\cos(\\theta_{2S+1}) & \\sin(\\theta_{2S+1}) & \\cos(2\\theta_{2S+1}) & \\cdots & \\sin(S\\theta_{2S+1})\n",
    "    \\end{bmatrix}\n",
    "    \\begin{bmatrix}\n",
    "    a_0 \\\\ a_1 \\\\ b_1 \\\\ a_2 \\\\ \\vdots \\\\ b_S\n",
    "    \\end{bmatrix}\n",
    "    =\n",
    "    \\begin{bmatrix}\n",
    "    C(\\theta_1) \\\\ C(\\theta_2) \\\\ \\vdots \\\\ C(\\theta_{2S+1})\n",
    "    \\end{bmatrix}.\n",
    "    $$\n",
    "\n",
    "    This system can be compactly written as:\n",
    "\n",
    "    $$\n",
    "    F a = c.\n",
    "    $$\n",
    "\n",
    "### Normalization\n",
    "\n",
    "In practice, this system is often **not consistent** (if the equations contradict each other, so no exact solution exists.), since the cost values $c$ come from noisy quantum measurements (the equations usually don’t line up perfectly). \n",
    "To handle this, we normalize by multiplying both sides with $F^\\dagger$, obtaining a least-squares formulation:\n",
    "\n",
    "$$\n",
    "F^\\dagger F a = F^\\dagger c.\n",
    "$$\n",
    "\n",
    "This normalized system is always consistent (if there exists at least one exact solution $a$ that satisfies all equations at once.) and provides a stable solution for the Fourier coefficients.\n",
    "\n",
    "**Process:**  \n",
    "1. Sample the cost function at $2S+1$ points per parameter to obtin the Fourier coefficients $\\{a_{0},a_{k},b_{k}\\}^{S}_{k=1}$\n",
    "2. Build a linear system relating samples to Fourier coefficients.  \n",
    "3. Solve via least-squares regression to recover $C(\\vec{\\theta})$.  \n",
    "4. Optimize classically using this reconstructed model.  \n",
    "\n",
    "**Complexity:**  \n",
    "- For $k$ parameters with bandwidths $S_i$:  \n",
    "  $$\n",
    "  T = \\prod_{i=1}^{k} (2S_i + 1) \\;\\;\\le\\;\\; (2S_{\\max}+1)^k\n",
    "  $$  \n",
    "- This scales polynomially with $S$ and avoids repeated quantum calls.  \n",
    "\n",
    "**Advantages:**  \n",
    "- **Over-sampling:** improves accuracy.  \n",
    "- **Under-sampling:** reduces runtime overhead, helps avoid local minima.  \n",
    "\n"
   ]
  },
  {
   "cell_type": "markdown",
   "id": "765225eb",
   "metadata": {},
   "source": [
    "## Theoretical Layout of QSR\n",
    "\n",
    "The Quantum Sampling Regression (QSR) workflow can be summarized as follows:\n",
    "\n",
    "- **Prepare reference operators** $U_R$.  \n",
    "  - Example: evolve from $|0\\rangle$ to the reference state $|\\rho\\rangle$.  \n",
    "\n",
    "- **Apply the variational form** $U_V(\\vec{\\theta}_{i,j})$ to create an ansatz $U_A(\\vec{\\theta}_{i,j})$.  \n",
    "  - Determine the bandwidth associated with each parameter in the ansatz (an upper bound is sufficient).  \n",
    "\n",
    "- **Bootstrap initialization** at $i = 0$ if a similar problem exists (from classical simulation or prior sampling).  \n",
    "\n",
    "- **Sample the cost function**  \n",
    "\n",
    "  $$\n",
    "  C(\\vec{\\theta}) = a_0 + \\sum_{k=1}^{S} \\big[a_k \\cos(k\\theta) + b_k \\sin(k\\theta)\\big]\n",
    "  $$\n",
    "\n",
    "  at least $T$ times, where  \n",
    "  \n",
    "  $$\n",
    "  T = \\prod_{i=1}^k (2S_i + 1) \\;\\;\\le\\;\\; \\prod_{i=1}^k (2S_{\\text{max}}+1) = (2S_{\\text{max}}+1)^n.\n",
    "  $$  \n",
    "  \n",
    "  - Decide whether to **over-sample** (higher accuracy) or **under-sample** (faster runtime).  \n",
    "\n",
    "- **Compute Fourier coefficients** from the samples (solve the normalized linear system of equations).  \n",
    "\n",
    "- **Optimize classically** to find the global minimum of the regression function.  \n"
   ]
  }
 ],
 "metadata": {
  "kernelspec": {
   "display_name": "IBM_toturial",
   "language": "python",
   "name": "python3"
  },
  "language_info": {
   "codemirror_mode": {
    "name": "ipython",
    "version": 3
   },
   "file_extension": ".py",
   "mimetype": "text/x-python",
   "name": "python",
   "nbconvert_exporter": "python",
   "pygments_lexer": "ipython3",
   "version": "3.13.5"
  }
 },
 "nbformat": 4,
 "nbformat_minor": 5
}
